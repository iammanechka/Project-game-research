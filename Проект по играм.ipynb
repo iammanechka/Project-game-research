{
 "cells": [
  {
   "cell_type": "markdown",
   "metadata": {},
   "source": [
    "# Описание проекта\n",
    "\n",
    "Вы работаете в интернет-магазине «Стримчик», который продаёт по всему миру компьютерные игры. Из открытых источников доступны исторические данные о продажах игр, оценки пользователей и экспертов, жанры и платформы (например, Xbox или PlayStation). Вам нужно выявить определяющие успешность игры закономерности. Это позволит сделать ставку на потенциально популярный продукт и спланировать рекламные кампании.\n",
    "\n",
    "Перед вами данные до 2016 года. Представим, что сейчас декабрь 2016 г., и вы планируете кампанию на 2017-й. Нужно отработать принцип работы с данными. Неважно, прогнозируете ли вы продажи на 2017 год по данным 2016-го или же 2027-й — по данным 2026 года."
   ]
  },
  {
   "cell_type": "markdown",
   "metadata": {},
   "source": [
    "# Описание данных\n",
    "\n",
    "**Name** — название игры\n",
    "\n",
    "**Platform** — платформа\n",
    "\n",
    "**Year_of_Release** — год выпуска\n",
    "\n",
    "**Genre** — жанр игры\n",
    "\n",
    "**NA_sales** — продажи в Северной Америке (миллионы проданных копий)\n",
    "\n",
    "**EU_sales** — продажи в Европе (миллионы проданных копий)\n",
    "\n",
    "**JP_sales** — продажи в Японии (миллионы проданных копий)\n",
    "\n",
    "**Other_sales** — продажи в других странах (миллионы проданных копий)\n",
    "\n",
    "**Critic_Score** — оценка критиков (максимум 100)\n",
    "\n",
    "**User_Score** — оценка пользователей (максимум 10)\n",
    "\n",
    "**Rating** — рейтинг от организации ESRB (англ. Entertainment Software Rating Board). Эта ассоциация определяет рейтинг компьютерных игр и присваивает им подходящую возрастную категорию."
   ]
  },
  {
   "cell_type": "markdown",
   "metadata": {},
   "source": [
    "## Откроем файл с данными и изучим информацию "
   ]
  },
  {
   "cell_type": "code",
   "execution_count": 869,
   "metadata": {},
   "outputs": [],
   "source": [
    "#Сразу импортируем нужные нам для проекта библиотеки\n",
    "\n",
    "import pandas as pd\n",
    "import numpy as np\n",
    "import seaborn as sns\n",
    "from scipy import stats as st\n",
    "import math\n",
    "import matplotlib.pyplot as plt\n",
    "import warnings\n",
    "warnings.filterwarnings('ignore')"
   ]
  },
  {
   "cell_type": "code",
   "execution_count": 870,
   "metadata": {},
   "outputs": [
    {
     "data": {
      "text/html": [
       "<div>\n",
       "<style scoped>\n",
       "    .dataframe tbody tr th:only-of-type {\n",
       "        vertical-align: middle;\n",
       "    }\n",
       "\n",
       "    .dataframe tbody tr th {\n",
       "        vertical-align: top;\n",
       "    }\n",
       "\n",
       "    .dataframe thead th {\n",
       "        text-align: right;\n",
       "    }\n",
       "</style>\n",
       "<table border=\"1\" class=\"dataframe\">\n",
       "  <thead>\n",
       "    <tr style=\"text-align: right;\">\n",
       "      <th></th>\n",
       "      <th>Name</th>\n",
       "      <th>Platform</th>\n",
       "      <th>Year_of_Release</th>\n",
       "      <th>Genre</th>\n",
       "      <th>NA_sales</th>\n",
       "      <th>EU_sales</th>\n",
       "      <th>JP_sales</th>\n",
       "      <th>Other_sales</th>\n",
       "      <th>Critic_Score</th>\n",
       "      <th>User_Score</th>\n",
       "      <th>Rating</th>\n",
       "    </tr>\n",
       "  </thead>\n",
       "  <tbody>\n",
       "    <tr>\n",
       "      <th>0</th>\n",
       "      <td>Wii Sports</td>\n",
       "      <td>Wii</td>\n",
       "      <td>2006.0</td>\n",
       "      <td>Sports</td>\n",
       "      <td>41.36</td>\n",
       "      <td>28.96</td>\n",
       "      <td>3.77</td>\n",
       "      <td>8.45</td>\n",
       "      <td>76.0</td>\n",
       "      <td>8</td>\n",
       "      <td>E</td>\n",
       "    </tr>\n",
       "    <tr>\n",
       "      <th>1</th>\n",
       "      <td>Super Mario Bros.</td>\n",
       "      <td>NES</td>\n",
       "      <td>1985.0</td>\n",
       "      <td>Platform</td>\n",
       "      <td>29.08</td>\n",
       "      <td>3.58</td>\n",
       "      <td>6.81</td>\n",
       "      <td>0.77</td>\n",
       "      <td>NaN</td>\n",
       "      <td>NaN</td>\n",
       "      <td>NaN</td>\n",
       "    </tr>\n",
       "    <tr>\n",
       "      <th>2</th>\n",
       "      <td>Mario Kart Wii</td>\n",
       "      <td>Wii</td>\n",
       "      <td>2008.0</td>\n",
       "      <td>Racing</td>\n",
       "      <td>15.68</td>\n",
       "      <td>12.76</td>\n",
       "      <td>3.79</td>\n",
       "      <td>3.29</td>\n",
       "      <td>82.0</td>\n",
       "      <td>8.3</td>\n",
       "      <td>E</td>\n",
       "    </tr>\n",
       "    <tr>\n",
       "      <th>3</th>\n",
       "      <td>Wii Sports Resort</td>\n",
       "      <td>Wii</td>\n",
       "      <td>2009.0</td>\n",
       "      <td>Sports</td>\n",
       "      <td>15.61</td>\n",
       "      <td>10.93</td>\n",
       "      <td>3.28</td>\n",
       "      <td>2.95</td>\n",
       "      <td>80.0</td>\n",
       "      <td>8</td>\n",
       "      <td>E</td>\n",
       "    </tr>\n",
       "    <tr>\n",
       "      <th>4</th>\n",
       "      <td>Pokemon Red/Pokemon Blue</td>\n",
       "      <td>GB</td>\n",
       "      <td>1996.0</td>\n",
       "      <td>Role-Playing</td>\n",
       "      <td>11.27</td>\n",
       "      <td>8.89</td>\n",
       "      <td>10.22</td>\n",
       "      <td>1.00</td>\n",
       "      <td>NaN</td>\n",
       "      <td>NaN</td>\n",
       "      <td>NaN</td>\n",
       "    </tr>\n",
       "    <tr>\n",
       "      <th>5</th>\n",
       "      <td>Tetris</td>\n",
       "      <td>GB</td>\n",
       "      <td>1989.0</td>\n",
       "      <td>Puzzle</td>\n",
       "      <td>23.20</td>\n",
       "      <td>2.26</td>\n",
       "      <td>4.22</td>\n",
       "      <td>0.58</td>\n",
       "      <td>NaN</td>\n",
       "      <td>NaN</td>\n",
       "      <td>NaN</td>\n",
       "    </tr>\n",
       "    <tr>\n",
       "      <th>6</th>\n",
       "      <td>New Super Mario Bros.</td>\n",
       "      <td>DS</td>\n",
       "      <td>2006.0</td>\n",
       "      <td>Platform</td>\n",
       "      <td>11.28</td>\n",
       "      <td>9.14</td>\n",
       "      <td>6.50</td>\n",
       "      <td>2.88</td>\n",
       "      <td>89.0</td>\n",
       "      <td>8.5</td>\n",
       "      <td>E</td>\n",
       "    </tr>\n",
       "    <tr>\n",
       "      <th>7</th>\n",
       "      <td>Wii Play</td>\n",
       "      <td>Wii</td>\n",
       "      <td>2006.0</td>\n",
       "      <td>Misc</td>\n",
       "      <td>13.96</td>\n",
       "      <td>9.18</td>\n",
       "      <td>2.93</td>\n",
       "      <td>2.84</td>\n",
       "      <td>58.0</td>\n",
       "      <td>6.6</td>\n",
       "      <td>E</td>\n",
       "    </tr>\n",
       "    <tr>\n",
       "      <th>8</th>\n",
       "      <td>New Super Mario Bros. Wii</td>\n",
       "      <td>Wii</td>\n",
       "      <td>2009.0</td>\n",
       "      <td>Platform</td>\n",
       "      <td>14.44</td>\n",
       "      <td>6.94</td>\n",
       "      <td>4.70</td>\n",
       "      <td>2.24</td>\n",
       "      <td>87.0</td>\n",
       "      <td>8.4</td>\n",
       "      <td>E</td>\n",
       "    </tr>\n",
       "    <tr>\n",
       "      <th>9</th>\n",
       "      <td>Duck Hunt</td>\n",
       "      <td>NES</td>\n",
       "      <td>1984.0</td>\n",
       "      <td>Shooter</td>\n",
       "      <td>26.93</td>\n",
       "      <td>0.63</td>\n",
       "      <td>0.28</td>\n",
       "      <td>0.47</td>\n",
       "      <td>NaN</td>\n",
       "      <td>NaN</td>\n",
       "      <td>NaN</td>\n",
       "    </tr>\n",
       "  </tbody>\n",
       "</table>\n",
       "</div>"
      ],
      "text/plain": [
       "                        Name Platform  Year_of_Release         Genre  \\\n",
       "0                 Wii Sports      Wii           2006.0        Sports   \n",
       "1          Super Mario Bros.      NES           1985.0      Platform   \n",
       "2             Mario Kart Wii      Wii           2008.0        Racing   \n",
       "3          Wii Sports Resort      Wii           2009.0        Sports   \n",
       "4   Pokemon Red/Pokemon Blue       GB           1996.0  Role-Playing   \n",
       "5                     Tetris       GB           1989.0        Puzzle   \n",
       "6      New Super Mario Bros.       DS           2006.0      Platform   \n",
       "7                   Wii Play      Wii           2006.0          Misc   \n",
       "8  New Super Mario Bros. Wii      Wii           2009.0      Platform   \n",
       "9                  Duck Hunt      NES           1984.0       Shooter   \n",
       "\n",
       "   NA_sales  EU_sales  JP_sales  Other_sales  Critic_Score User_Score Rating  \n",
       "0     41.36     28.96      3.77         8.45          76.0          8      E  \n",
       "1     29.08      3.58      6.81         0.77           NaN        NaN    NaN  \n",
       "2     15.68     12.76      3.79         3.29          82.0        8.3      E  \n",
       "3     15.61     10.93      3.28         2.95          80.0          8      E  \n",
       "4     11.27      8.89     10.22         1.00           NaN        NaN    NaN  \n",
       "5     23.20      2.26      4.22         0.58           NaN        NaN    NaN  \n",
       "6     11.28      9.14      6.50         2.88          89.0        8.5      E  \n",
       "7     13.96      9.18      2.93         2.84          58.0        6.6      E  \n",
       "8     14.44      6.94      4.70         2.24          87.0        8.4      E  \n",
       "9     26.93      0.63      0.28         0.47           NaN        NaN    NaN  "
      ]
     },
     "execution_count": 870,
     "metadata": {},
     "output_type": "execute_result"
    }
   ],
   "source": [
    "#Откроем файл с данными и посмотрим первые 10 строк\n",
    "\n",
    "data = pd.read_csv('/datasets/games.csv')\n",
    "\n",
    "data.head(10)"
   ]
  },
  {
   "cell_type": "markdown",
   "metadata": {},
   "source": [
    "## Предобработка данных"
   ]
  },
  {
   "cell_type": "code",
   "execution_count": 871,
   "metadata": {},
   "outputs": [
    {
     "name": "stdout",
     "output_type": "stream",
     "text": [
      "<class 'pandas.core.frame.DataFrame'>\n",
      "RangeIndex: 16715 entries, 0 to 16714\n",
      "Data columns (total 11 columns):\n",
      " #   Column           Non-Null Count  Dtype  \n",
      "---  ------           --------------  -----  \n",
      " 0   Name             16713 non-null  object \n",
      " 1   Platform         16715 non-null  object \n",
      " 2   Year_of_Release  16446 non-null  float64\n",
      " 3   Genre            16713 non-null  object \n",
      " 4   NA_sales         16715 non-null  float64\n",
      " 5   EU_sales         16715 non-null  float64\n",
      " 6   JP_sales         16715 non-null  float64\n",
      " 7   Other_sales      16715 non-null  float64\n",
      " 8   Critic_Score     8137 non-null   float64\n",
      " 9   User_Score       10014 non-null  object \n",
      " 10  Rating           9949 non-null   object \n",
      "dtypes: float64(6), object(5)\n",
      "memory usage: 1.4+ MB\n"
     ]
    }
   ],
   "source": [
    "#Изучим информацию и посмотрим, какие проблемы нам нужно устранить\n",
    "\n",
    "data.info()"
   ]
  },
  {
   "cell_type": "markdown",
   "metadata": {},
   "source": [
    "**План действий**\n",
    "\n",
    "1. Привести все столбцы к нижнему регистру;\n",
    "\n",
    "2. Проверить на дубликаты;\n",
    "\n",
    "3. Поменять типы данных;\n",
    "\n",
    "4. Обработать пропуски."
   ]
  },
  {
   "cell_type": "code",
   "execution_count": 872,
   "metadata": {
    "scrolled": true
   },
   "outputs": [
    {
     "data": {
      "text/html": [
       "<div>\n",
       "<style scoped>\n",
       "    .dataframe tbody tr th:only-of-type {\n",
       "        vertical-align: middle;\n",
       "    }\n",
       "\n",
       "    .dataframe tbody tr th {\n",
       "        vertical-align: top;\n",
       "    }\n",
       "\n",
       "    .dataframe thead th {\n",
       "        text-align: right;\n",
       "    }\n",
       "</style>\n",
       "<table border=\"1\" class=\"dataframe\">\n",
       "  <thead>\n",
       "    <tr style=\"text-align: right;\">\n",
       "      <th></th>\n",
       "      <th>name</th>\n",
       "      <th>platform</th>\n",
       "      <th>year_of_release</th>\n",
       "      <th>genre</th>\n",
       "      <th>na_sales</th>\n",
       "      <th>eu_sales</th>\n",
       "      <th>jp_sales</th>\n",
       "      <th>other_sales</th>\n",
       "      <th>critic_score</th>\n",
       "      <th>user_score</th>\n",
       "      <th>rating</th>\n",
       "    </tr>\n",
       "  </thead>\n",
       "  <tbody>\n",
       "    <tr>\n",
       "      <th>0</th>\n",
       "      <td>Wii Sports</td>\n",
       "      <td>Wii</td>\n",
       "      <td>2006.0</td>\n",
       "      <td>Sports</td>\n",
       "      <td>41.36</td>\n",
       "      <td>28.96</td>\n",
       "      <td>3.77</td>\n",
       "      <td>8.45</td>\n",
       "      <td>76.0</td>\n",
       "      <td>8</td>\n",
       "      <td>E</td>\n",
       "    </tr>\n",
       "    <tr>\n",
       "      <th>1</th>\n",
       "      <td>Super Mario Bros.</td>\n",
       "      <td>NES</td>\n",
       "      <td>1985.0</td>\n",
       "      <td>Platform</td>\n",
       "      <td>29.08</td>\n",
       "      <td>3.58</td>\n",
       "      <td>6.81</td>\n",
       "      <td>0.77</td>\n",
       "      <td>NaN</td>\n",
       "      <td>NaN</td>\n",
       "      <td>NaN</td>\n",
       "    </tr>\n",
       "    <tr>\n",
       "      <th>2</th>\n",
       "      <td>Mario Kart Wii</td>\n",
       "      <td>Wii</td>\n",
       "      <td>2008.0</td>\n",
       "      <td>Racing</td>\n",
       "      <td>15.68</td>\n",
       "      <td>12.76</td>\n",
       "      <td>3.79</td>\n",
       "      <td>3.29</td>\n",
       "      <td>82.0</td>\n",
       "      <td>8.3</td>\n",
       "      <td>E</td>\n",
       "    </tr>\n",
       "    <tr>\n",
       "      <th>3</th>\n",
       "      <td>Wii Sports Resort</td>\n",
       "      <td>Wii</td>\n",
       "      <td>2009.0</td>\n",
       "      <td>Sports</td>\n",
       "      <td>15.61</td>\n",
       "      <td>10.93</td>\n",
       "      <td>3.28</td>\n",
       "      <td>2.95</td>\n",
       "      <td>80.0</td>\n",
       "      <td>8</td>\n",
       "      <td>E</td>\n",
       "    </tr>\n",
       "    <tr>\n",
       "      <th>4</th>\n",
       "      <td>Pokemon Red/Pokemon Blue</td>\n",
       "      <td>GB</td>\n",
       "      <td>1996.0</td>\n",
       "      <td>Role-Playing</td>\n",
       "      <td>11.27</td>\n",
       "      <td>8.89</td>\n",
       "      <td>10.22</td>\n",
       "      <td>1.00</td>\n",
       "      <td>NaN</td>\n",
       "      <td>NaN</td>\n",
       "      <td>NaN</td>\n",
       "    </tr>\n",
       "    <tr>\n",
       "      <th>...</th>\n",
       "      <td>...</td>\n",
       "      <td>...</td>\n",
       "      <td>...</td>\n",
       "      <td>...</td>\n",
       "      <td>...</td>\n",
       "      <td>...</td>\n",
       "      <td>...</td>\n",
       "      <td>...</td>\n",
       "      <td>...</td>\n",
       "      <td>...</td>\n",
       "      <td>...</td>\n",
       "    </tr>\n",
       "    <tr>\n",
       "      <th>16710</th>\n",
       "      <td>Samurai Warriors: Sanada Maru</td>\n",
       "      <td>PS3</td>\n",
       "      <td>2016.0</td>\n",
       "      <td>Action</td>\n",
       "      <td>0.00</td>\n",
       "      <td>0.00</td>\n",
       "      <td>0.01</td>\n",
       "      <td>0.00</td>\n",
       "      <td>NaN</td>\n",
       "      <td>NaN</td>\n",
       "      <td>NaN</td>\n",
       "    </tr>\n",
       "    <tr>\n",
       "      <th>16711</th>\n",
       "      <td>LMA Manager 2007</td>\n",
       "      <td>X360</td>\n",
       "      <td>2006.0</td>\n",
       "      <td>Sports</td>\n",
       "      <td>0.00</td>\n",
       "      <td>0.01</td>\n",
       "      <td>0.00</td>\n",
       "      <td>0.00</td>\n",
       "      <td>NaN</td>\n",
       "      <td>NaN</td>\n",
       "      <td>NaN</td>\n",
       "    </tr>\n",
       "    <tr>\n",
       "      <th>16712</th>\n",
       "      <td>Haitaka no Psychedelica</td>\n",
       "      <td>PSV</td>\n",
       "      <td>2016.0</td>\n",
       "      <td>Adventure</td>\n",
       "      <td>0.00</td>\n",
       "      <td>0.00</td>\n",
       "      <td>0.01</td>\n",
       "      <td>0.00</td>\n",
       "      <td>NaN</td>\n",
       "      <td>NaN</td>\n",
       "      <td>NaN</td>\n",
       "    </tr>\n",
       "    <tr>\n",
       "      <th>16713</th>\n",
       "      <td>Spirits &amp; Spells</td>\n",
       "      <td>GBA</td>\n",
       "      <td>2003.0</td>\n",
       "      <td>Platform</td>\n",
       "      <td>0.01</td>\n",
       "      <td>0.00</td>\n",
       "      <td>0.00</td>\n",
       "      <td>0.00</td>\n",
       "      <td>NaN</td>\n",
       "      <td>NaN</td>\n",
       "      <td>NaN</td>\n",
       "    </tr>\n",
       "    <tr>\n",
       "      <th>16714</th>\n",
       "      <td>Winning Post 8 2016</td>\n",
       "      <td>PSV</td>\n",
       "      <td>2016.0</td>\n",
       "      <td>Simulation</td>\n",
       "      <td>0.00</td>\n",
       "      <td>0.00</td>\n",
       "      <td>0.01</td>\n",
       "      <td>0.00</td>\n",
       "      <td>NaN</td>\n",
       "      <td>NaN</td>\n",
       "      <td>NaN</td>\n",
       "    </tr>\n",
       "  </tbody>\n",
       "</table>\n",
       "<p>16715 rows × 11 columns</p>\n",
       "</div>"
      ],
      "text/plain": [
       "                                name platform  year_of_release         genre  \\\n",
       "0                         Wii Sports      Wii           2006.0        Sports   \n",
       "1                  Super Mario Bros.      NES           1985.0      Platform   \n",
       "2                     Mario Kart Wii      Wii           2008.0        Racing   \n",
       "3                  Wii Sports Resort      Wii           2009.0        Sports   \n",
       "4           Pokemon Red/Pokemon Blue       GB           1996.0  Role-Playing   \n",
       "...                              ...      ...              ...           ...   \n",
       "16710  Samurai Warriors: Sanada Maru      PS3           2016.0        Action   \n",
       "16711               LMA Manager 2007     X360           2006.0        Sports   \n",
       "16712        Haitaka no Psychedelica      PSV           2016.0     Adventure   \n",
       "16713               Spirits & Spells      GBA           2003.0      Platform   \n",
       "16714            Winning Post 8 2016      PSV           2016.0    Simulation   \n",
       "\n",
       "       na_sales  eu_sales  jp_sales  other_sales  critic_score user_score  \\\n",
       "0         41.36     28.96      3.77         8.45          76.0          8   \n",
       "1         29.08      3.58      6.81         0.77           NaN        NaN   \n",
       "2         15.68     12.76      3.79         3.29          82.0        8.3   \n",
       "3         15.61     10.93      3.28         2.95          80.0          8   \n",
       "4         11.27      8.89     10.22         1.00           NaN        NaN   \n",
       "...         ...       ...       ...          ...           ...        ...   \n",
       "16710      0.00      0.00      0.01         0.00           NaN        NaN   \n",
       "16711      0.00      0.01      0.00         0.00           NaN        NaN   \n",
       "16712      0.00      0.00      0.01         0.00           NaN        NaN   \n",
       "16713      0.01      0.00      0.00         0.00           NaN        NaN   \n",
       "16714      0.00      0.00      0.01         0.00           NaN        NaN   \n",
       "\n",
       "      rating  \n",
       "0          E  \n",
       "1        NaN  \n",
       "2          E  \n",
       "3          E  \n",
       "4        NaN  \n",
       "...      ...  \n",
       "16710    NaN  \n",
       "16711    NaN  \n",
       "16712    NaN  \n",
       "16713    NaN  \n",
       "16714    NaN  \n",
       "\n",
       "[16715 rows x 11 columns]"
      ]
     },
     "execution_count": 872,
     "metadata": {},
     "output_type": "execute_result"
    }
   ],
   "source": [
    "#Приведем столбцы к нижнему регистру\n",
    "\n",
    "data.columns = data.columns.str.lower()\n",
    "\n",
    "data"
   ]
  },
  {
   "cell_type": "code",
   "execution_count": 873,
   "metadata": {},
   "outputs": [
    {
     "data": {
      "text/plain": [
       "name                  2\n",
       "platform              0\n",
       "year_of_release     269\n",
       "genre                 2\n",
       "na_sales              0\n",
       "eu_sales              0\n",
       "jp_sales              0\n",
       "other_sales           0\n",
       "critic_score       8578\n",
       "user_score         6701\n",
       "rating             6766\n",
       "dtype: int64"
      ]
     },
     "execution_count": 873,
     "metadata": {},
     "output_type": "execute_result"
    }
   ],
   "source": [
    "#Посмотрим на количество пропусков в каждом столбце\n",
    "\n",
    "data.isna().sum()"
   ]
  },
  {
   "cell_type": "markdown",
   "metadata": {},
   "source": [
    "Как данные собирались из открытых источников неизвестно. Вполне вероятно, что в открытых ресурсах присутствовали не все данные и при попытке автоматичесго сбора поля заполнились пустыми значениями. Пропуск в наименовании игры может означать невозвожность кодирования на латиницу исходного наименования, либо некоректная отработка сборщика. Отсутствие пользовательских отзывов и критиков: всё вышесказанное, плюс их могло просто не быть, такое характерно для игр прошлого. Отсутствие рейтинга или tbd означает не более чем, что издатель не захотел получать рейтинговую оценку ESRB или игра не планировалась выпускаться для региона NA.\n",
    "\n",
    "Нам нужно будет более детально рассмотреть следующие столбцы: **name, year_of_release, critic_score, user_score и rating.**"
   ]
  },
  {
   "cell_type": "markdown",
   "metadata": {},
   "source": [
    "**Поработаем с неявными и явными дубликатами**"
   ]
  },
  {
   "cell_type": "code",
   "execution_count": 874,
   "metadata": {},
   "outputs": [
    {
     "data": {
      "text/plain": [
       "5"
      ]
     },
     "execution_count": 874,
     "metadata": {},
     "output_type": "execute_result"
    }
   ],
   "source": [
    "#Проверим количество неявных дубликатов\n",
    "\n",
    "data.duplicated(subset=['name', 'platform']).sum()"
   ]
  },
  {
   "cell_type": "markdown",
   "metadata": {},
   "source": [
    "Подобные дубликаты могут быть просто человеческой ошибкой при вводе данных: она могла произойти при заполнении года, жанра или т.п. Но так как имя и платформа совпадает, то это одна и таже игра, поэтому со спокойной совестью удалим эти дубликаты."
   ]
  },
  {
   "cell_type": "code",
   "execution_count": 875,
   "metadata": {},
   "outputs": [],
   "source": [
    "#Удаляем дубликаты\n",
    "\n",
    "data = data.drop_duplicates(subset=['name', 'platform'], keep='first').reset_index(drop=True)"
   ]
  },
  {
   "cell_type": "code",
   "execution_count": 876,
   "metadata": {},
   "outputs": [
    {
     "data": {
      "text/plain": [
       "0"
      ]
     },
     "execution_count": 876,
     "metadata": {},
     "output_type": "execute_result"
    }
   ],
   "source": [
    "#Проверка на явные дубликаты\n",
    "\n",
    "data.duplicated().sum()"
   ]
  },
  {
   "cell_type": "markdown",
   "metadata": {},
   "source": [
    "Дубликатов больше не выявлено, это хорошие новости!"
   ]
  },
  {
   "cell_type": "markdown",
   "metadata": {},
   "source": [
    "**Проверим пропуски и изменим типы данных.**"
   ]
  },
  {
   "cell_type": "code",
   "execution_count": 877,
   "metadata": {},
   "outputs": [
    {
     "name": "stdout",
     "output_type": "stream",
     "text": [
      "Столбец year_of_release: [2006. 1985. 2008. 2009. 1996. 1989. 1984. 2005. 1999. 2007. 2010. 2013.\n",
      " 2004. 1990. 1988. 2002. 2001. 2011. 1998. 2015. 2012. 2014. 1992. 1997.\n",
      " 1993. 1994. 1982. 2016. 2003. 1986. 2000.   nan 1995. 1991. 1981. 1987.\n",
      " 1980. 1983.]\n",
      "Столбец genre: ['Sports' 'Platform' 'Racing' 'Role-Playing' 'Puzzle' 'Misc' 'Shooter'\n",
      " 'Simulation' 'Action' 'Fighting' 'Adventure' 'Strategy' nan]\n",
      "Столбец critic_score: [76. nan 82. 80. 89. 58. 87. 91. 61. 97. 95. 77. 88. 83. 94. 93. 85. 86.\n",
      " 98. 96. 90. 84. 73. 74. 78. 92. 71. 72. 68. 62. 49. 67. 81. 66. 56. 79.\n",
      " 70. 59. 64. 75. 60. 63. 69. 50. 25. 42. 44. 55. 48. 57. 29. 47. 65. 54.\n",
      " 20. 53. 37. 38. 33. 52. 30. 32. 43. 45. 51. 40. 46. 39. 34. 35. 41. 36.\n",
      " 28. 31. 27. 26. 19. 23. 24. 21. 17. 22. 13.]\n",
      "Столбец user_score: ['8' nan '8.3' '8.5' '6.6' '8.4' '8.6' '7.7' '6.3' '7.4' '8.2' '9' '7.9'\n",
      " '8.1' '8.7' '7.1' '3.4' '5.3' '4.8' '3.2' '8.9' '6.4' '7.8' '7.5' '2.6'\n",
      " '7.2' '9.2' '7' '7.3' '4.3' '7.6' '5.7' '5' '9.1' '6.5' 'tbd' '8.8' '6.9'\n",
      " '9.4' '6.8' '6.1' '6.7' '5.4' '4' '4.9' '4.5' '9.3' '6.2' '4.2' '6' '3.7'\n",
      " '4.1' '5.8' '5.6' '5.5' '4.4' '4.6' '5.9' '3.9' '3.1' '2.9' '5.2' '3.3'\n",
      " '4.7' '5.1' '3.5' '2.5' '1.9' '3' '2.7' '2.2' '2' '9.5' '2.1' '3.6' '2.8'\n",
      " '1.8' '3.8' '0' '1.6' '9.6' '2.4' '1.7' '1.1' '0.3' '1.5' '0.7' '1.2'\n",
      " '2.3' '0.5' '1.3' '0.2' '0.6' '1.4' '0.9' '1' '9.7']\n",
      "Столбец rating: ['E' nan 'M' 'T' 'E10+' 'K-A' 'AO' 'EC' 'RP']\n"
     ]
    }
   ],
   "source": [
    "#Посмотрим значения в столбцах, чтобы в дальнейшем привести их нужному типу данных\n",
    "\n",
    "print('Столбец year_of_release:', data['year_of_release'].unique());\n",
    "\n",
    "print('Столбец genre:', data['genre'].unique())\n",
    "\n",
    "print('Столбец critic_score:', data['critic_score'].unique())\n",
    "\n",
    "print('Столбец user_score:', data['user_score'].unique())\n",
    "\n",
    "print('Столбец rating:', data['rating'].unique())"
   ]
  },
  {
   "cell_type": "markdown",
   "metadata": {},
   "source": [
    "**Обработаем пропуски и поменяем типы данных**"
   ]
  },
  {
   "cell_type": "code",
   "execution_count": 878,
   "metadata": {},
   "outputs": [
    {
     "data": {
      "text/plain": [
       "268"
      ]
     },
     "execution_count": 878,
     "metadata": {},
     "output_type": "execute_result"
    }
   ],
   "source": [
    "#Посмотрим, сколько значений Nan содержится в столбце \n",
    "\n",
    "data['year_of_release'].isnull().sum()"
   ]
  },
  {
   "cell_type": "markdown",
   "metadata": {},
   "source": [
    "Удалим эти строки, так как их немного и на наш анализ они никак не повлияют."
   ]
  },
  {
   "cell_type": "code",
   "execution_count": 879,
   "metadata": {},
   "outputs": [],
   "source": [
    "data = data.dropna(subset=['year_of_release']).reset_index(drop=True)"
   ]
  },
  {
   "cell_type": "code",
   "execution_count": 880,
   "metadata": {},
   "outputs": [],
   "source": [
    "#Поменяем тип данных столбца\n",
    "\n",
    "data['year_of_release'] = data['year_of_release'].astype('Int64')"
   ]
  },
  {
   "cell_type": "code",
   "execution_count": 881,
   "metadata": {},
   "outputs": [
    {
     "data": {
      "text/plain": [
       "8462"
      ]
     },
     "execution_count": 881,
     "metadata": {},
     "output_type": "execute_result"
    }
   ],
   "source": [
    "#Посмотрим пропуски в столбце critic_score\n",
    "\n",
    "data['critic_score'].isnull().sum()"
   ]
  },
  {
   "cell_type": "markdown",
   "metadata": {},
   "source": [
    "Пропусков получилось довольно много. Чтобы не портить статистику, остаивим всё, как есть."
   ]
  },
  {
   "cell_type": "code",
   "execution_count": 882,
   "metadata": {},
   "outputs": [],
   "source": [
    "#Изменим тип данных\n",
    "\n",
    "data['critic_score'] = data['critic_score'].astype('Int64')"
   ]
  },
  {
   "cell_type": "markdown",
   "metadata": {},
   "source": [
    "Хотелось бы обратить внимание на аббревиатуру tbd в столбцах с рейтингом. Аббревиатура tbd значит **to be determined, to be done**. То есть, данные были нарочно не заполнены, так как не определились с рейтингом. Поэтому предлагаю заменить tbd на Nan."
   ]
  },
  {
   "cell_type": "code",
   "execution_count": 883,
   "metadata": {},
   "outputs": [
    {
     "name": "stdout",
     "output_type": "stream",
     "text": [
      "Уникальные значения: ['8' nan '8.3' '8.5' '6.6' '8.4' '8.6' '7.7' '6.3' '7.4' '8.2' '9' '7.9'\n",
      " '8.1' '8.7' '7.1' '3.4' '5.3' '4.8' '3.2' '8.9' '6.4' '7.8' '7.5' '2.6'\n",
      " '7.2' '9.2' '7' '7.3' '4.3' '7.6' '5.7' '5' '9.1' '6.5' '8.8' '6.9' '9.4'\n",
      " '6.8' '6.1' '6.7' '5.4' '4' '4.9' '4.5' '9.3' '6.2' '4.2' '6' '3.7' '4.1'\n",
      " '5.8' '5.6' '5.5' '4.4' '4.6' '5.9' '3.9' '3.1' '2.9' '5.2' '3.3' '4.7'\n",
      " '5.1' '3.5' '2.5' '1.9' '3' '2.7' '2.2' '2' '9.5' '2.1' '3.6' '2.8' '1.8'\n",
      " '3.8' '0' '1.6' '9.6' '2.4' '1.7' '1.1' '0.3' '1.5' '0.7' '1.2' '2.3'\n",
      " '0.5' '1.3' '0.2' '0.6' '1.4' '0.9' '1' '9.7']\n"
     ]
    }
   ],
   "source": [
    "#В столбце user_score обнаружили значение tbd, изменим его на nan\n",
    "\n",
    "data['user_score'] = data['user_score'].replace('tbd', np.nan, regex=True)\n",
    "\n",
    "#Проверим замену значения\n",
    "\n",
    "print('Уникальные значения:', data['user_score'].unique())\n",
    "\n",
    "#Изменим тип данных\n",
    "data['user_score'] = data['user_score'].astype(float)"
   ]
  },
  {
   "cell_type": "code",
   "execution_count": 884,
   "metadata": {},
   "outputs": [
    {
     "data": {
      "text/plain": [
       "8982"
      ]
     },
     "execution_count": 884,
     "metadata": {},
     "output_type": "execute_result"
    }
   ],
   "source": [
    "data['user_score'].isna().sum()"
   ]
  },
  {
   "cell_type": "markdown",
   "metadata": {},
   "source": [
    "Пропущенных значений слишком много, поэтому данные оставим в исходном виде, в дальнейшем они нам понадобятся для анализа."
   ]
  },
  {
   "cell_type": "code",
   "execution_count": 885,
   "metadata": {},
   "outputs": [
    {
     "data": {
      "text/plain": [
       "6677"
      ]
     },
     "execution_count": 885,
     "metadata": {},
     "output_type": "execute_result"
    }
   ],
   "source": [
    "data['rating'].isna().sum()"
   ]
  },
  {
   "cell_type": "markdown",
   "metadata": {},
   "source": [
    "Пропусков оказалось немало, удалить их - значит потерять огромное количество информации, которая в дальнейшем нам может оказаться полезной. Заменим пропуски на значение Unknown."
   ]
  },
  {
   "cell_type": "code",
   "execution_count": 886,
   "metadata": {},
   "outputs": [
    {
     "data": {
      "text/plain": [
       "Unknown    6677\n",
       "E          3920\n",
       "T          2903\n",
       "M          1536\n",
       "E10+       1393\n",
       "EC            8\n",
       "K-A           3\n",
       "AO            1\n",
       "RP            1\n",
       "Name: rating, dtype: int64"
      ]
     },
     "execution_count": 886,
     "metadata": {},
     "output_type": "execute_result"
    }
   ],
   "source": [
    "data['rating'] = data['rating'].fillna('Unknown')\n",
    "\n",
    "#Посмотрим, какие жанры и в каком количестве у нас представленыы\n",
    "\n",
    "data['rating'].value_counts()"
   ]
  },
  {
   "cell_type": "markdown",
   "metadata": {},
   "source": [
    "Смущают последние 4 рейтинга в небольшом количестве, посмотрим на расшифровку этих рейтингов.\n",
    "\n",
    "\"EC\" («Early childhood») — «Для детей младшего возраста»\n",
    "\n",
    "\"E\" («Everyone») — «Для всех»\n",
    "\n",
    "\"E10+\" («Everyone 10 and older») — «Для всех от 10 лет и старше»\n",
    "\n",
    "\"T\" («Teen») — «Подросткам»\n",
    "\n",
    "\"M\" («Mature») — «Для взрослых»\n",
    "\n",
    "\"AO\" («Adults Only 18+») — «Только для взрослых»\n",
    "\n",
    "\"RP\" («Rating Pending») — «Рейтинг ожидается»\n",
    "\n",
    "\"K-A\" - старый вариант маркировки E (for everyone)\n",
    "\n",
    "Исходя из полученной информации, можем заменить 'RP' на 'Unknown', 'K-A' на 'E' и 'AO' на 'M', а EC оставим без изменений."
   ]
  },
  {
   "cell_type": "code",
   "execution_count": 887,
   "metadata": {},
   "outputs": [
    {
     "data": {
      "text/plain": [
       "Unknown    6678\n",
       "E          3923\n",
       "T          2903\n",
       "M          1537\n",
       "E10+       1393\n",
       "EC            8\n",
       "Name: rating, dtype: int64"
      ]
     },
     "execution_count": 887,
     "metadata": {},
     "output_type": "execute_result"
    }
   ],
   "source": [
    "data['rating'] = data['rating'].replace('RP', 'Unknown')\n",
    "\n",
    "data['rating'] = data['rating'].replace('K-A', 'E')\n",
    "\n",
    "data['rating'] = data['rating'].replace('AO', 'M')\n",
    "\n",
    "#Посмотрим изменения\n",
    "\n",
    "data['rating'].value_counts()"
   ]
  },
  {
   "cell_type": "code",
   "execution_count": 888,
   "metadata": {},
   "outputs": [
    {
     "data": {
      "text/html": [
       "<div>\n",
       "<style scoped>\n",
       "    .dataframe tbody tr th:only-of-type {\n",
       "        vertical-align: middle;\n",
       "    }\n",
       "\n",
       "    .dataframe tbody tr th {\n",
       "        vertical-align: top;\n",
       "    }\n",
       "\n",
       "    .dataframe thead th {\n",
       "        text-align: right;\n",
       "    }\n",
       "</style>\n",
       "<table border=\"1\" class=\"dataframe\">\n",
       "  <thead>\n",
       "    <tr style=\"text-align: right;\">\n",
       "      <th></th>\n",
       "      <th>name</th>\n",
       "      <th>platform</th>\n",
       "      <th>year_of_release</th>\n",
       "      <th>genre</th>\n",
       "      <th>na_sales</th>\n",
       "      <th>eu_sales</th>\n",
       "      <th>jp_sales</th>\n",
       "      <th>other_sales</th>\n",
       "      <th>critic_score</th>\n",
       "      <th>user_score</th>\n",
       "      <th>rating</th>\n",
       "    </tr>\n",
       "  </thead>\n",
       "  <tbody>\n",
       "    <tr>\n",
       "      <th>652</th>\n",
       "      <td>NaN</td>\n",
       "      <td>GEN</td>\n",
       "      <td>1993</td>\n",
       "      <td>NaN</td>\n",
       "      <td>1.78</td>\n",
       "      <td>0.53</td>\n",
       "      <td>0.0</td>\n",
       "      <td>0.08</td>\n",
       "      <td>&lt;NA&gt;</td>\n",
       "      <td>NaN</td>\n",
       "      <td>Unknown</td>\n",
       "    </tr>\n",
       "  </tbody>\n",
       "</table>\n",
       "</div>"
      ],
      "text/plain": [
       "    name platform  year_of_release genre  na_sales  eu_sales  jp_sales  \\\n",
       "652  NaN      GEN             1993   NaN      1.78      0.53       0.0   \n",
       "\n",
       "     other_sales  critic_score  user_score   rating  \n",
       "652         0.08          <NA>         NaN  Unknown  "
      ]
     },
     "execution_count": 888,
     "metadata": {},
     "output_type": "execute_result"
    }
   ],
   "source": [
    "#Посмотрим пропуски в столбце name\n",
    "\n",
    "data[data['name'].isnull()]"
   ]
  },
  {
   "cell_type": "code",
   "execution_count": 889,
   "metadata": {},
   "outputs": [],
   "source": [
    "#Удалим строки из столбца name, так как никакой информативности они нам не дадут\n",
    "\n",
    "data = data.dropna(subset=['name']).reset_index(drop=True)"
   ]
  },
  {
   "cell_type": "markdown",
   "metadata": {},
   "source": [
    "Эти пропуски мы удалили, так как они не несут никакой информативности. В них отсутствуют значения практически во всех столбцах, а данные так станут только чище."
   ]
  },
  {
   "cell_type": "code",
   "execution_count": 890,
   "metadata": {},
   "outputs": [
    {
     "name": "stdout",
     "output_type": "stream",
     "text": [
      "<class 'pandas.core.frame.DataFrame'>\n",
      "RangeIndex: 16441 entries, 0 to 16440\n",
      "Data columns (total 11 columns):\n",
      " #   Column           Non-Null Count  Dtype  \n",
      "---  ------           --------------  -----  \n",
      " 0   name             16441 non-null  object \n",
      " 1   platform         16441 non-null  object \n",
      " 2   year_of_release  16441 non-null  Int64  \n",
      " 3   genre            16441 non-null  object \n",
      " 4   na_sales         16441 non-null  float64\n",
      " 5   eu_sales         16441 non-null  float64\n",
      " 6   jp_sales         16441 non-null  float64\n",
      " 7   other_sales      16441 non-null  float64\n",
      " 8   critic_score     7980 non-null   Int64  \n",
      " 9   user_score       7460 non-null   float64\n",
      " 10  rating           16441 non-null  object \n",
      "dtypes: Int64(2), float64(5), object(4)\n",
      "memory usage: 1.4+ MB\n"
     ]
    }
   ],
   "source": [
    "#Посмотрим на данные после обработки \n",
    "data.info()"
   ]
  },
  {
   "cell_type": "markdown",
   "metadata": {},
   "source": [
    "Посчитаем суммарные продажи во всех регионах и запишим их в новый столбец."
   ]
  },
  {
   "cell_type": "code",
   "execution_count": 891,
   "metadata": {},
   "outputs": [
    {
     "data": {
      "text/plain": [
       "0        82.54\n",
       "1        40.24\n",
       "2        35.52\n",
       "3        32.77\n",
       "4        31.38\n",
       "         ...  \n",
       "16436     0.01\n",
       "16437     0.01\n",
       "16438     0.01\n",
       "16439     0.01\n",
       "16440     0.01\n",
       "Name: total_sales, Length: 16441, dtype: float64"
      ]
     },
     "execution_count": 891,
     "metadata": {},
     "output_type": "execute_result"
    }
   ],
   "source": [
    "data['total_sales'] = data['na_sales'] + data['eu_sales'] + data['jp_sales'] + data['other_sales']\n",
    "\n",
    "data['total_sales']"
   ]
  },
  {
   "cell_type": "markdown",
   "metadata": {},
   "source": [
    "**Краткий вывод:**\n",
    "\n",
    "Привели названия столбцов к нижнему регистру; \n",
    "\n",
    "Преобразовали данные в нужные типы; \n",
    "\n",
    "Описали, в каких столбцах заменили тип данных и почему; \n",
    "\n",
    "Обработали пропуски; \n",
    "\n",
    "Объяснили, почему заполнили пропуски определённым образом или почему не стали это делать; \n",
    "\n",
    "Описали причины, которые могли привести к пропускам; \n",
    "\n",
    "Обратили внимание на аббревиатуру 'tbd' в столбце с оценкой пользователей;\n",
    "\n",
    "Посчитали суммарные продажи во всех регионах и записали их в отдельный столбец."
   ]
  },
  {
   "cell_type": "markdown",
   "metadata": {},
   "source": [
    "## Проведем исследовательский анализ данных"
   ]
  },
  {
   "cell_type": "code",
   "execution_count": 892,
   "metadata": {},
   "outputs": [
    {
     "data": {
      "text/plain": [
       "2016"
      ]
     },
     "execution_count": 892,
     "metadata": {},
     "output_type": "execute_result"
    }
   ],
   "source": [
    "#Посмотрим, какой год последним представлен в данных\n",
    "\n",
    "data['year_of_release'].max()"
   ]
  },
  {
   "cell_type": "code",
   "execution_count": 893,
   "metadata": {},
   "outputs": [
    {
     "data": {
      "text/plain": [
       "1980"
      ]
     },
     "execution_count": 893,
     "metadata": {},
     "output_type": "execute_result"
    }
   ],
   "source": [
    "#Посмотрим год, с которого начиналась вестись статистика\n",
    "\n",
    "data[data['year_of_release'] > 1900]['year_of_release'].min()"
   ]
  },
  {
   "cell_type": "code",
   "execution_count": 894,
   "metadata": {},
   "outputs": [
    {
     "data": {
      "image/png": "[encoded data removed]",
      "text/plain": [
       "<Figure size 432x288 with 1 Axes>"
      ]
     },
     "metadata": {
      "needs_background": "light"
     },
     "output_type": "display_data"
    }
   ],
   "source": [
    "#Посмотрим наглядно распределение данных за все представленные года\n",
    "\n",
    "data['year_of_release'].hist(bins =30, range=(1980, 2016))\n",
    "\n",
    "plt.title('Статистика производства игр')\n",
    "plt.xlabel('Год')\n",
    "plt.ylabel('Количество выпущенных игр');"
   ]
  },
  {
   "cell_type": "markdown",
   "metadata": {},
   "source": [
    "Похоже, что активный период производства игр начался в 2004 году. Некоторые периоды лет рассмотрим по отдельности."
   ]
  },
  {
   "cell_type": "code",
   "execution_count": 895,
   "metadata": {},
   "outputs": [
    {
     "data": {
      "image/png": "[encoded data removed]",
      "text/plain": [
       "<Figure size 432x288 with 1 Axes>"
      ]
     },
     "metadata": {
      "needs_background": "light"
     },
     "output_type": "display_data"
    }
   ],
   "source": [
    "data['year_of_release'].hist(bins = 15, range=(1980, 1994))\n",
    "plt.title('Истоки')\n",
    "plt.xlabel('Год')\n",
    "plt.ylabel('Количество выпущенных игр');"
   ]
  },
  {
   "cell_type": "markdown",
   "metadata": {},
   "source": [
    "Как можем наблюдать, с 1980 по 1994 года выпускалось меньше всего игр, эти данные нам вряд ли пригодятся для исследования."
   ]
  },
  {
   "cell_type": "code",
   "execution_count": 896,
   "metadata": {},
   "outputs": [
    {
     "data": {
      "image/png": "[encoded data removed]",
      "text/plain": [
       "<Figure size 432x288 with 1 Axes>"
      ]
     },
     "metadata": {
      "needs_background": "light"
     },
     "output_type": "display_data"
    }
   ],
   "source": [
    "data['year_of_release'].hist(bins = 15, range=(2004, 2011))\n",
    "plt.title('Самый производительный период')\n",
    "plt.xlabel('Год')\n",
    "plt.ylabel('Количество выпущенных игр');"
   ]
  },
  {
   "cell_type": "markdown",
   "metadata": {},
   "source": [
    "Больше всего игр выпускалось в 2008 и 2009 годах. Начиная с 2010 года, количество выпускаемых игр пошло на спад."
   ]
  },
  {
   "cell_type": "code",
   "execution_count": 897,
   "metadata": {},
   "outputs": [
    {
     "data": {
      "image/png": "[encoded data removed]",
      "text/plain": [
       "<Figure size 432x288 with 1 Axes>"
      ]
     },
     "metadata": {
      "needs_background": "light"
     },
     "output_type": "display_data"
    }
   ],
   "source": [
    "data['year_of_release'].hist(bins = 15, range=(2010, 2016))\n",
    "plt.title('Спад производства')\n",
    "plt.xlabel('Год')\n",
    "plt.ylabel('Количество выпущенных игр');"
   ]
  },
  {
   "cell_type": "markdown",
   "metadata": {},
   "source": [
    "Начиная с 2010 года количество игр держится приблизительно на одном уровне, но пиков, какие были в период с 2004 по 2009, больше не наблюдается."
   ]
  },
  {
   "cell_type": "code",
   "execution_count": 898,
   "metadata": {},
   "outputs": [
    {
     "data": {
      "text/html": [
       "<div>\n",
       "<style scoped>\n",
       "    .dataframe tbody tr th:only-of-type {\n",
       "        vertical-align: middle;\n",
       "    }\n",
       "\n",
       "    .dataframe tbody tr th {\n",
       "        vertical-align: top;\n",
       "    }\n",
       "\n",
       "    .dataframe thead th {\n",
       "        text-align: right;\n",
       "    }\n",
       "</style>\n",
       "<table border=\"1\" class=\"dataframe\">\n",
       "  <thead>\n",
       "    <tr style=\"text-align: right;\">\n",
       "      <th></th>\n",
       "      <th>total_sales</th>\n",
       "    </tr>\n",
       "    <tr>\n",
       "      <th>platform</th>\n",
       "      <th></th>\n",
       "    </tr>\n",
       "  </thead>\n",
       "  <tbody>\n",
       "    <tr>\n",
       "      <th>PS2</th>\n",
       "      <td>1233.56</td>\n",
       "    </tr>\n",
       "    <tr>\n",
       "      <th>X360</th>\n",
       "      <td>959.99</td>\n",
       "    </tr>\n",
       "    <tr>\n",
       "      <th>PS3</th>\n",
       "      <td>931.33</td>\n",
       "    </tr>\n",
       "    <tr>\n",
       "      <th>Wii</th>\n",
       "      <td>891.18</td>\n",
       "    </tr>\n",
       "    <tr>\n",
       "      <th>DS</th>\n",
       "      <td>802.78</td>\n",
       "    </tr>\n",
       "    <tr>\n",
       "      <th>PS</th>\n",
       "      <td>727.58</td>\n",
       "    </tr>\n",
       "    <tr>\n",
       "      <th>PS4</th>\n",
       "      <td>314.14</td>\n",
       "    </tr>\n",
       "    <tr>\n",
       "      <th>GBA</th>\n",
       "      <td>312.88</td>\n",
       "    </tr>\n",
       "    <tr>\n",
       "      <th>PSP</th>\n",
       "      <td>289.53</td>\n",
       "    </tr>\n",
       "    <tr>\n",
       "      <th>3DS</th>\n",
       "      <td>257.81</td>\n",
       "    </tr>\n",
       "    <tr>\n",
       "      <th>PC</th>\n",
       "      <td>255.68</td>\n",
       "    </tr>\n",
       "    <tr>\n",
       "      <th>GB</th>\n",
       "      <td>254.43</td>\n",
       "    </tr>\n",
       "    <tr>\n",
       "      <th>XB</th>\n",
       "      <td>251.57</td>\n",
       "    </tr>\n",
       "    <tr>\n",
       "      <th>NES</th>\n",
       "      <td>251.05</td>\n",
       "    </tr>\n",
       "    <tr>\n",
       "      <th>N64</th>\n",
       "      <td>218.01</td>\n",
       "    </tr>\n",
       "    <tr>\n",
       "      <th>SNES</th>\n",
       "      <td>200.04</td>\n",
       "    </tr>\n",
       "    <tr>\n",
       "      <th>GC</th>\n",
       "      <td>196.73</td>\n",
       "    </tr>\n",
       "    <tr>\n",
       "      <th>XOne</th>\n",
       "      <td>159.32</td>\n",
       "    </tr>\n",
       "    <tr>\n",
       "      <th>2600</th>\n",
       "      <td>86.48</td>\n",
       "    </tr>\n",
       "    <tr>\n",
       "      <th>WiiU</th>\n",
       "      <td>82.19</td>\n",
       "    </tr>\n",
       "    <tr>\n",
       "      <th>PSV</th>\n",
       "      <td>53.81</td>\n",
       "    </tr>\n",
       "    <tr>\n",
       "      <th>SAT</th>\n",
       "      <td>33.59</td>\n",
       "    </tr>\n",
       "    <tr>\n",
       "      <th>GEN</th>\n",
       "      <td>28.35</td>\n",
       "    </tr>\n",
       "    <tr>\n",
       "      <th>DC</th>\n",
       "      <td>15.95</td>\n",
       "    </tr>\n",
       "    <tr>\n",
       "      <th>SCD</th>\n",
       "      <td>1.86</td>\n",
       "    </tr>\n",
       "    <tr>\n",
       "      <th>NG</th>\n",
       "      <td>1.44</td>\n",
       "    </tr>\n",
       "    <tr>\n",
       "      <th>WS</th>\n",
       "      <td>1.42</td>\n",
       "    </tr>\n",
       "    <tr>\n",
       "      <th>TG16</th>\n",
       "      <td>0.16</td>\n",
       "    </tr>\n",
       "    <tr>\n",
       "      <th>3DO</th>\n",
       "      <td>0.10</td>\n",
       "    </tr>\n",
       "    <tr>\n",
       "      <th>GG</th>\n",
       "      <td>0.04</td>\n",
       "    </tr>\n",
       "    <tr>\n",
       "      <th>PCFX</th>\n",
       "      <td>0.03</td>\n",
       "    </tr>\n",
       "  </tbody>\n",
       "</table>\n",
       "</div>"
      ],
      "text/plain": [
       "          total_sales\n",
       "platform             \n",
       "PS2           1233.56\n",
       "X360           959.99\n",
       "PS3            931.33\n",
       "Wii            891.18\n",
       "DS             802.78\n",
       "PS             727.58\n",
       "PS4            314.14\n",
       "GBA            312.88\n",
       "PSP            289.53\n",
       "3DS            257.81\n",
       "PC             255.68\n",
       "GB             254.43\n",
       "XB             251.57\n",
       "NES            251.05\n",
       "N64            218.01\n",
       "SNES           200.04\n",
       "GC             196.73\n",
       "XOne           159.32\n",
       "2600            86.48\n",
       "WiiU            82.19\n",
       "PSV             53.81\n",
       "SAT             33.59\n",
       "GEN             28.35\n",
       "DC              15.95\n",
       "SCD              1.86\n",
       "NG               1.44\n",
       "WS               1.42\n",
       "TG16             0.16\n",
       "3DO              0.10\n",
       "GG               0.04\n",
       "PCFX             0.03"
      ]
     },
     "execution_count": 898,
     "metadata": {},
     "output_type": "execute_result"
    }
   ],
   "source": [
    "#Посмотрим на продажи по каждой платформе\n",
    "platforms_data = (data\n",
    "                  .pivot_table(index = 'platform', values = 'total_sales', aggfunc = 'sum')\n",
    "                  .sort_values(by = 'total_sales', ascending = False)\n",
    ")\n",
    "platforms_data"
   ]
  },
  {
   "cell_type": "code",
   "execution_count": 899,
   "metadata": {},
   "outputs": [
    {
     "data": {
      "text/plain": [
       "array(['PS2', 'X360', 'PS3', 'Wii', 'DS', 'PS', 'PS4', 'GBA', 'PSP',\n",
       "       '3DS'], dtype=object)"
      ]
     },
     "execution_count": 899,
     "metadata": {},
     "output_type": "execute_result"
    }
   ],
   "source": [
    "#Выделим 10 наиболее перспективных платформ и изучим их данные поближе\n",
    "\n",
    "perspective_platforms = platforms_data.reset_index().iloc[0:10]\n",
    "\n",
    "perspective_platforms['platform'].unique()\n"
   ]
  },
  {
   "cell_type": "code",
   "execution_count": 900,
   "metadata": {},
   "outputs": [
    {
     "data": {
      "image/png": "[encoded data removed]",
      "text/plain": [
       "<Figure size 1080x360 with 1 Axes>"
      ]
     },
     "metadata": {
      "needs_background": "light"
     },
     "output_type": "display_data"
    }
   ],
   "source": [
    "perspective_platforms.plot(x=\"platform\", y=\"total_sales\", kind='bar', figsize=(15,5));"
   ]
  },
  {
   "cell_type": "markdown",
   "metadata": {},
   "source": [
    "Лидирует по количеству игр PS2, наимешее количество игр выпущено для 3DS."
   ]
  },
  {
   "cell_type": "code",
   "execution_count": 901,
   "metadata": {
    "scrolled": false
   },
   "outputs": [
    {
     "data": {
      "image/png": "[encoded data removed]",
      "text/plain": [
       "<Figure size 1080x360 with 1 Axes>"
      ]
     },
     "metadata": {
      "needs_background": "light"
     },
     "output_type": "display_data"
    },
    {
     "data": {
      "image/png": "[encoded data removed]",
      "text/plain": [
       "<Figure size 1080x360 with 1 Axes>"
      ]
     },
     "metadata": {
      "needs_background": "light"
     },
     "output_type": "display_data"
    },
    {
     "data": {
      "image/png": "[encoded data removed]",
      "text/plain": [
       "<Figure size 1080x360 with 1 Axes>"
      ]
     },
     "metadata": {
      "needs_background": "light"
     },
     "output_type": "display_data"
    },
    {
     "data": {
      "image/png": "[encoded data removed]",
      "text/plain": [
       "<Figure size 1080x360 with 1 Axes>"
      ]
     },
     "metadata": {
      "needs_background": "light"
     },
     "output_type": "display_data"
    },
    {
     "data": {
      "image/png": "[encoded data removed]",
      "text/plain": [
       "<Figure size 1080x360 with 1 Axes>"
      ]
     },
     "metadata": {
      "needs_background": "light"
     },
     "output_type": "display_data"
    },
    {
     "data": {
      "image/png": "[encoded data removed]",
      "text/plain": [
       "<Figure size 1080x360 with 1 Axes>"
      ]
     },
     "metadata": {
      "needs_background": "light"
     },
     "output_type": "display_data"
    },
    {
     "data": {
      "image/png": "[encoded data removed]",
      "text/plain": [
       "<Figure size 1080x360 with 1 Axes>"
      ]
     },
     "metadata": {
      "needs_background": "light"
     },
     "output_type": "display_data"
    },
    {
     "data": {
      "image/png": "[encoded data removed]",
      "text/plain": [
       "<Figure size 1080x360 with 1 Axes>"
      ]
     },
     "metadata": {
      "needs_background": "light"
     },
     "output_type": "display_data"
    },
    {
     "data": {
      "image/png": "[encoded data removed]",
      "text/plain": [
       "<Figure size 1080x360 with 1 Axes>"
      ]
     },
     "metadata": {
      "needs_background": "light"
     },
     "output_type": "display_data"
    },
    {
     "data": {
      "image/png": "[encoded data removed]",
      "text/plain": [
       "<Figure size 1080x360 with 1 Axes>"
      ]
     },
     "metadata": {
      "needs_background": "light"
     },
     "output_type": "display_data"
    }
   ],
   "source": [
    "#Построим графики по каждой из платформ\n",
    "\n",
    "for platform in perspective_platforms['platform']:\n",
    "    data[data['platform'] == platform].pivot_table(index = 'year_of_release', values = 'total_sales', aggfunc = 'sum').plot(kind = 'bar', figsize=(15,5))\n",
    "    plt.title(platform)"
   ]
  },
  {
   "cell_type": "markdown",
   "metadata": {},
   "source": [
    "По изученным данным можем сделать вывод, что платформа в среднем существует 10 лет. PS4 самая молодая платформа. Для анализа нам необходимы актульные данные. По-моему мнению стоит рассмотреть период с 2014 по 2016 года."
   ]
  },
  {
   "cell_type": "code",
   "execution_count": 902,
   "metadata": {},
   "outputs": [],
   "source": [
    "#Отсортируем данные по актуальному периоду\n",
    "\n",
    "data_actual = data.query('year_of_release >= 2014')"
   ]
  },
  {
   "cell_type": "code",
   "execution_count": 903,
   "metadata": {},
   "outputs": [
    {
     "data": {
      "image/png": "[encoded data removed]",
      "text/plain": [
       "<Figure size 1080x360 with 1 Axes>"
      ]
     },
     "metadata": {
      "needs_background": "light"
     },
     "output_type": "display_data"
    }
   ],
   "source": [
    "platforms_filtr = perspective_platforms['platform']\n",
    "\n",
    "(data_actual\n",
    "            .query('platform in @platforms_filtr')\n",
    "            .pivot_table(index='year_of_release', columns = 'platform', values='total_sales', aggfunc='sum')\n",
    "            .plot(figsize=(15, 5))\n",
    ");"
   ]
  },
  {
   "cell_type": "markdown",
   "metadata": {},
   "source": [
    "Хотелось бы отметить PS4, так как платформа относительно молодая, продажи еще достаточно высоки, но можем заметить, что спад уже присутствует. Вторая платформа, которая привлекает внимание - 3DS.То есть потенциально прибыльными платформами можно назвать PS4 и 3DS. На остальные платформы спроса либо нет, либо он стремительно падает. К неперспективным можно отнести платформы X360, PS3, а у Wii стабильно низкие продажи."
   ]
  },
  {
   "cell_type": "code",
   "execution_count": 904,
   "metadata": {},
   "outputs": [
    {
     "data": {
      "image/png": "[encoded data removed]",
      "text/plain": [
       "<Figure size 432x288 with 1 Axes>"
      ]
     },
     "metadata": {
      "needs_background": "light"
     },
     "output_type": "display_data"
    }
   ],
   "source": [
    "(data_actual\n",
    "            .pivot_table(index = 'name', columns = 'platform', values = 'total_sales', aggfunc = 'sum')\n",
    "            .plot(kind='box', ylim=(0,1.9))\n",
    ")\n",
    "plt.title('Продажи по перспективным платформам за 2014-2016 гг') \n",
    "plt.xlabel('Платформы') \n",
    "plt.ylabel('Общие продажи');"
   ]
  },
  {
   "cell_type": "code",
   "execution_count": 905,
   "metadata": {},
   "outputs": [
    {
     "data": {
      "image/png": "[encoded data removed]",
      "text/plain": [
       "<Figure size 1440x720 with 1 Axes>"
      ]
     },
     "metadata": {
      "needs_background": "light"
     },
     "output_type": "display_data"
    }
   ],
   "source": [
    "(data_actual\n",
    "            .pivot_table(index = 'name', columns = 'platform', values = 'total_sales', aggfunc = 'sum')\n",
    "            .plot(kind='box', ylim=(0,0.85), figsize=[20, 10])\n",
    ")\n",
    "plt.title('Продажи по перспективным платформам за 2014-2016 гг') \n",
    "plt.xlabel('Платформы') \n",
    "plt.ylabel('Общие продажи');"
   ]
  },
  {
   "cell_type": "markdown",
   "metadata": {},
   "source": [
    "Мы можем увидеть, что в нашу сортировку не попала платформа XOne, которая только начинает набирать популярность. На нее было выпущено не так много игр, поэтому мы ее не включили в предыдущий график, но игры этой консоли очень хорошо продаются, что мы и видим по медианным значениям, которые примерно на одном уровне с PS4, так же, как и WiiU.\n",
    "\n",
    "**Вывод:**\n",
    "\n",
    "Потенциально прибыльные платформы - PS4, XOne и WiiU."
   ]
  },
  {
   "cell_type": "markdown",
   "metadata": {},
   "source": [
    "Расмотрим популярную платформу PS3, которая в своё время была очень популярна."
   ]
  },
  {
   "cell_type": "code",
   "execution_count": 906,
   "metadata": {},
   "outputs": [
    {
     "data": {
      "image/png": "[encoded data removed]",
      "text/plain": [
       "<Figure size 432x288 with 1 Axes>"
      ]
     },
     "metadata": {
      "needs_background": "light"
     },
     "output_type": "display_data"
    }
   ],
   "source": [
    "data_ps3 = data_actual.query('platform == \"PS3\"')\n",
    "data_ps3.plot(x='user_score', y='critic_score', kind='scatter');"
   ]
  },
  {
   "cell_type": "code",
   "execution_count": 907,
   "metadata": {},
   "outputs": [
    {
     "data": {
      "text/html": [
       "<div>\n",
       "<style scoped>\n",
       "    .dataframe tbody tr th:only-of-type {\n",
       "        vertical-align: middle;\n",
       "    }\n",
       "\n",
       "    .dataframe tbody tr th {\n",
       "        vertical-align: top;\n",
       "    }\n",
       "\n",
       "    .dataframe thead th {\n",
       "        text-align: right;\n",
       "    }\n",
       "</style>\n",
       "<table border=\"1\" class=\"dataframe\">\n",
       "  <thead>\n",
       "    <tr style=\"text-align: right;\">\n",
       "      <th></th>\n",
       "      <th>critic_score</th>\n",
       "      <th>user_score</th>\n",
       "      <th>total_sales</th>\n",
       "    </tr>\n",
       "  </thead>\n",
       "  <tbody>\n",
       "    <tr>\n",
       "      <th>critic_score</th>\n",
       "      <td>1.000000</td>\n",
       "      <td>0.693445</td>\n",
       "      <td>0.446575</td>\n",
       "    </tr>\n",
       "    <tr>\n",
       "      <th>user_score</th>\n",
       "      <td>0.693445</td>\n",
       "      <td>1.000000</td>\n",
       "      <td>-0.166761</td>\n",
       "    </tr>\n",
       "    <tr>\n",
       "      <th>total_sales</th>\n",
       "      <td>0.446575</td>\n",
       "      <td>-0.166761</td>\n",
       "      <td>1.000000</td>\n",
       "    </tr>\n",
       "  </tbody>\n",
       "</table>\n",
       "</div>"
      ],
      "text/plain": [
       "              critic_score  user_score  total_sales\n",
       "critic_score      1.000000    0.693445     0.446575\n",
       "user_score        0.693445    1.000000    -0.166761\n",
       "total_sales       0.446575   -0.166761     1.000000"
      ]
     },
     "execution_count": 907,
     "metadata": {},
     "output_type": "execute_result"
    }
   ],
   "source": [
    "ps3_cor = data_ps3[['critic_score','user_score', 'total_sales']]\n",
    "\n",
    "ps3_cor.corr()"
   ]
  },
  {
   "cell_type": "markdown",
   "metadata": {},
   "source": [
    "По графику видно, что в оценки критиков и оценки пользователей приблизительно совпадают. Можем заметить зависимость между оценками критиков и продажами. Предположительно, оценки критиков могут сказываться на продажах игр."
   ]
  },
  {
   "cell_type": "code",
   "execution_count": 908,
   "metadata": {},
   "outputs": [],
   "source": [
    "#Срежем данные по каждой из платформ, которых мы отметили, как потенциально прибыльные\n",
    "\n",
    "data_xone = data_actual.query('platform == \"XOne\"')\n",
    "\n",
    "data_ps4 = data_actual.query('platform == \"PS4\"')\n",
    "\n",
    "data_wiiu = data_actual.query('platform == \"WiiU\"')"
   ]
  },
  {
   "cell_type": "markdown",
   "metadata": {},
   "source": [
    "Посмотрим линейную зависимость между оценками критиков и пользователей и продажами."
   ]
  },
  {
   "cell_type": "code",
   "execution_count": 909,
   "metadata": {},
   "outputs": [
    {
     "data": {
      "text/html": [
       "<div>\n",
       "<style scoped>\n",
       "    .dataframe tbody tr th:only-of-type {\n",
       "        vertical-align: middle;\n",
       "    }\n",
       "\n",
       "    .dataframe tbody tr th {\n",
       "        vertical-align: top;\n",
       "    }\n",
       "\n",
       "    .dataframe thead th {\n",
       "        text-align: right;\n",
       "    }\n",
       "</style>\n",
       "<table border=\"1\" class=\"dataframe\">\n",
       "  <thead>\n",
       "    <tr style=\"text-align: right;\">\n",
       "      <th></th>\n",
       "      <th>critic_score</th>\n",
       "      <th>user_score</th>\n",
       "      <th>total_sales</th>\n",
       "    </tr>\n",
       "  </thead>\n",
       "  <tbody>\n",
       "    <tr>\n",
       "      <th>critic_score</th>\n",
       "      <td>1.000000</td>\n",
       "      <td>0.763536</td>\n",
       "      <td>0.370201</td>\n",
       "    </tr>\n",
       "    <tr>\n",
       "      <th>user_score</th>\n",
       "      <td>0.763536</td>\n",
       "      <td>1.000000</td>\n",
       "      <td>0.407926</td>\n",
       "    </tr>\n",
       "    <tr>\n",
       "      <th>total_sales</th>\n",
       "      <td>0.370201</td>\n",
       "      <td>0.407926</td>\n",
       "      <td>1.000000</td>\n",
       "    </tr>\n",
       "  </tbody>\n",
       "</table>\n",
       "</div>"
      ],
      "text/plain": [
       "              critic_score  user_score  total_sales\n",
       "critic_score      1.000000    0.763536     0.370201\n",
       "user_score        0.763536    1.000000     0.407926\n",
       "total_sales       0.370201    0.407926     1.000000"
      ]
     },
     "execution_count": 909,
     "metadata": {},
     "output_type": "execute_result"
    }
   ],
   "source": [
    "wiiu_cor = data_wiiu[['critic_score','user_score', 'total_sales']]\n",
    "\n",
    "wiiu_cor.corr()"
   ]
  },
  {
   "cell_type": "code",
   "execution_count": 910,
   "metadata": {},
   "outputs": [
    {
     "data": {
      "text/html": [
       "<div>\n",
       "<style scoped>\n",
       "    .dataframe tbody tr th:only-of-type {\n",
       "        vertical-align: middle;\n",
       "    }\n",
       "\n",
       "    .dataframe tbody tr th {\n",
       "        vertical-align: top;\n",
       "    }\n",
       "\n",
       "    .dataframe thead th {\n",
       "        text-align: right;\n",
       "    }\n",
       "</style>\n",
       "<table border=\"1\" class=\"dataframe\">\n",
       "  <thead>\n",
       "    <tr style=\"text-align: right;\">\n",
       "      <th></th>\n",
       "      <th>critic_score</th>\n",
       "      <th>user_score</th>\n",
       "      <th>total_sales</th>\n",
       "    </tr>\n",
       "  </thead>\n",
       "  <tbody>\n",
       "    <tr>\n",
       "      <th>critic_score</th>\n",
       "      <td>1.000000</td>\n",
       "      <td>0.546434</td>\n",
       "      <td>0.402661</td>\n",
       "    </tr>\n",
       "    <tr>\n",
       "      <th>user_score</th>\n",
       "      <td>0.546434</td>\n",
       "      <td>1.000000</td>\n",
       "      <td>-0.040132</td>\n",
       "    </tr>\n",
       "    <tr>\n",
       "      <th>total_sales</th>\n",
       "      <td>0.402661</td>\n",
       "      <td>-0.040132</td>\n",
       "      <td>1.000000</td>\n",
       "    </tr>\n",
       "  </tbody>\n",
       "</table>\n",
       "</div>"
      ],
      "text/plain": [
       "              critic_score  user_score  total_sales\n",
       "critic_score      1.000000    0.546434     0.402661\n",
       "user_score        0.546434    1.000000    -0.040132\n",
       "total_sales       0.402661   -0.040132     1.000000"
      ]
     },
     "execution_count": 910,
     "metadata": {},
     "output_type": "execute_result"
    }
   ],
   "source": [
    "ps4_cor = data_ps4[['critic_score','user_score', 'total_sales']]\n",
    "\n",
    "ps4_cor.corr()"
   ]
  },
  {
   "cell_type": "code",
   "execution_count": 911,
   "metadata": {},
   "outputs": [
    {
     "data": {
      "text/html": [
       "<div>\n",
       "<style scoped>\n",
       "    .dataframe tbody tr th:only-of-type {\n",
       "        vertical-align: middle;\n",
       "    }\n",
       "\n",
       "    .dataframe tbody tr th {\n",
       "        vertical-align: top;\n",
       "    }\n",
       "\n",
       "    .dataframe thead th {\n",
       "        text-align: right;\n",
       "    }\n",
       "</style>\n",
       "<table border=\"1\" class=\"dataframe\">\n",
       "  <thead>\n",
       "    <tr style=\"text-align: right;\">\n",
       "      <th></th>\n",
       "      <th>critic_score</th>\n",
       "      <th>user_score</th>\n",
       "      <th>total_sales</th>\n",
       "    </tr>\n",
       "  </thead>\n",
       "  <tbody>\n",
       "    <tr>\n",
       "      <th>critic_score</th>\n",
       "      <td>1.000000</td>\n",
       "      <td>0.440977</td>\n",
       "      <td>0.428677</td>\n",
       "    </tr>\n",
       "    <tr>\n",
       "      <th>user_score</th>\n",
       "      <td>0.440977</td>\n",
       "      <td>1.000000</td>\n",
       "      <td>-0.070384</td>\n",
       "    </tr>\n",
       "    <tr>\n",
       "      <th>total_sales</th>\n",
       "      <td>0.428677</td>\n",
       "      <td>-0.070384</td>\n",
       "      <td>1.000000</td>\n",
       "    </tr>\n",
       "  </tbody>\n",
       "</table>\n",
       "</div>"
      ],
      "text/plain": [
       "              critic_score  user_score  total_sales\n",
       "critic_score      1.000000    0.440977     0.428677\n",
       "user_score        0.440977    1.000000    -0.070384\n",
       "total_sales       0.428677   -0.070384     1.000000"
      ]
     },
     "execution_count": 911,
     "metadata": {},
     "output_type": "execute_result"
    }
   ],
   "source": [
    "xone_cor = data_xone[['critic_score','user_score', 'total_sales']]\n",
    "\n",
    "xone_cor.corr()"
   ]
  },
  {
   "cell_type": "markdown",
   "metadata": {},
   "source": [
    "Можем сделать вывод, что оценки критиков платформ XOne и PS4 имеют  прямую, средне-слабую корреляцию с \"цифрами\" продаж. Оценки пользователей корреляции с продажами не имеют. В то же время, платформа WiiU показывает другую статистику: как и оценки критиков, так и оценки пользователей имеют корреляцию с продажами.  "
   ]
  },
  {
   "cell_type": "markdown",
   "metadata": {},
   "source": [
    "**Посмотрим на популярные игровые жанры по продажам**"
   ]
  },
  {
   "cell_type": "code",
   "execution_count": 912,
   "metadata": {},
   "outputs": [
    {
     "data": {
      "image/png": "[encoded data removed]",
      "text/plain": [
       "<Figure size 720x720 with 1 Axes>"
      ]
     },
     "metadata": {},
     "output_type": "display_data"
    }
   ],
   "source": [
    "#Сделаем наглядную диаграмму\n",
    "\n",
    "( data_actual\n",
    "             .pivot_table(index = 'genre', values = 'total_sales', aggfunc = 'sum')\n",
    "             .sort_values(ascending=False, by = 'total_sales').plot(kind='pie', figsize=(10,10), y= 'total_sales')\n",
    ");\n",
    "plt.legend(loc=9);"
   ]
  },
  {
   "cell_type": "code",
   "execution_count": 913,
   "metadata": {},
   "outputs": [
    {
     "data": {
      "text/html": [
       "<div>\n",
       "<style scoped>\n",
       "    .dataframe tbody tr th:only-of-type {\n",
       "        vertical-align: middle;\n",
       "    }\n",
       "\n",
       "    .dataframe tbody tr th {\n",
       "        vertical-align: top;\n",
       "    }\n",
       "\n",
       "    .dataframe thead th {\n",
       "        text-align: right;\n",
       "    }\n",
       "</style>\n",
       "<table border=\"1\" class=\"dataframe\">\n",
       "  <thead>\n",
       "    <tr style=\"text-align: right;\">\n",
       "      <th></th>\n",
       "      <th>total_sales</th>\n",
       "    </tr>\n",
       "    <tr>\n",
       "      <th>genre</th>\n",
       "      <th></th>\n",
       "    </tr>\n",
       "  </thead>\n",
       "  <tbody>\n",
       "    <tr>\n",
       "      <th>Shooter</th>\n",
       "      <td>0.515</td>\n",
       "    </tr>\n",
       "    <tr>\n",
       "      <th>Sports</th>\n",
       "      <td>0.180</td>\n",
       "    </tr>\n",
       "    <tr>\n",
       "      <th>Platform</th>\n",
       "      <td>0.140</td>\n",
       "    </tr>\n",
       "    <tr>\n",
       "      <th>Fighting</th>\n",
       "      <td>0.125</td>\n",
       "    </tr>\n",
       "    <tr>\n",
       "      <th>Role-Playing</th>\n",
       "      <td>0.110</td>\n",
       "    </tr>\n",
       "    <tr>\n",
       "      <th>Simulation</th>\n",
       "      <td>0.100</td>\n",
       "    </tr>\n",
       "    <tr>\n",
       "      <th>Action</th>\n",
       "      <td>0.090</td>\n",
       "    </tr>\n",
       "    <tr>\n",
       "      <th>Misc</th>\n",
       "      <td>0.090</td>\n",
       "    </tr>\n",
       "    <tr>\n",
       "      <th>Racing</th>\n",
       "      <td>0.090</td>\n",
       "    </tr>\n",
       "    <tr>\n",
       "      <th>Strategy</th>\n",
       "      <td>0.060</td>\n",
       "    </tr>\n",
       "    <tr>\n",
       "      <th>Puzzle</th>\n",
       "      <td>0.045</td>\n",
       "    </tr>\n",
       "    <tr>\n",
       "      <th>Adventure</th>\n",
       "      <td>0.030</td>\n",
       "    </tr>\n",
       "  </tbody>\n",
       "</table>\n",
       "</div>"
      ],
      "text/plain": [
       "              total_sales\n",
       "genre                    \n",
       "Shooter             0.515\n",
       "Sports              0.180\n",
       "Platform            0.140\n",
       "Fighting            0.125\n",
       "Role-Playing        0.110\n",
       "Simulation          0.100\n",
       "Action              0.090\n",
       "Misc                0.090\n",
       "Racing              0.090\n",
       "Strategy            0.060\n",
       "Puzzle              0.045\n",
       "Adventure           0.030"
      ]
     },
     "execution_count": 913,
     "metadata": {},
     "output_type": "execute_result"
    }
   ],
   "source": [
    "#Посмотрим на продажи по каждому жанру, отсортируем по убыванию\n",
    "\n",
    "(data_actual\n",
    "            .pivot_table(index = 'genre', values = 'total_sales', aggfunc = 'median')\n",
    "            .sort_values(ascending=False, by = 'total_sales')\n",
    ")"
   ]
  },
  {
   "cell_type": "markdown",
   "metadata": {},
   "source": [
    "Можем прийти к выводу, что жанры, которые больше всего пользуются популярностью - Shooter, Sports и Platform. Меньше всего нравятся людям Puzzle и Adventure."
   ]
  },
  {
   "cell_type": "markdown",
   "metadata": {},
   "source": [
    "## Составим портрет пользователя каждого региона"
   ]
  },
  {
   "cell_type": "code",
   "execution_count": 914,
   "metadata": {},
   "outputs": [
    {
     "data": {
      "image/png": "[encoded data removed]",
      "text/plain": [
       "<Figure size 1080x360 with 1 Axes>"
      ]
     },
     "metadata": {
      "needs_background": "light"
     },
     "output_type": "display_data"
    }
   ],
   "source": [
    "#Посмотрим данные по Северной Америке\n",
    "\n",
    "(data_actual\n",
    "            .pivot_table(index = 'platform', values = 'na_sales', aggfunc = 'sum')\n",
    "            .sort_values(ascending=False, by = 'na_sales').plot(kind = 'bar', figsize=(15,5))\n",
    ");"
   ]
  },
  {
   "cell_type": "markdown",
   "metadata": {},
   "source": [
    "Пользователи Северной Америки больше всего предпочитают PS4. Платформы XOne, X360, 3DS - пользуются также значительной популярностью."
   ]
  },
  {
   "cell_type": "code",
   "execution_count": 915,
   "metadata": {},
   "outputs": [
    {
     "data": {
      "text/html": [
       "<div>\n",
       "<style scoped>\n",
       "    .dataframe tbody tr th:only-of-type {\n",
       "        vertical-align: middle;\n",
       "    }\n",
       "\n",
       "    .dataframe tbody tr th {\n",
       "        vertical-align: top;\n",
       "    }\n",
       "\n",
       "    .dataframe thead th {\n",
       "        text-align: right;\n",
       "    }\n",
       "</style>\n",
       "<table border=\"1\" class=\"dataframe\">\n",
       "  <thead>\n",
       "    <tr style=\"text-align: right;\">\n",
       "      <th></th>\n",
       "      <th>na_sales</th>\n",
       "    </tr>\n",
       "    <tr>\n",
       "      <th>platform</th>\n",
       "      <th></th>\n",
       "    </tr>\n",
       "  </thead>\n",
       "  <tbody>\n",
       "    <tr>\n",
       "      <th>PS4</th>\n",
       "      <td>98.61</td>\n",
       "    </tr>\n",
       "    <tr>\n",
       "      <th>XOne</th>\n",
       "      <td>81.27</td>\n",
       "    </tr>\n",
       "    <tr>\n",
       "      <th>X360</th>\n",
       "      <td>28.30</td>\n",
       "    </tr>\n",
       "    <tr>\n",
       "      <th>3DS</th>\n",
       "      <td>22.64</td>\n",
       "    </tr>\n",
       "    <tr>\n",
       "      <th>PS3</th>\n",
       "      <td>22.05</td>\n",
       "    </tr>\n",
       "  </tbody>\n",
       "</table>\n",
       "</div>"
      ],
      "text/plain": [
       "          na_sales\n",
       "platform          \n",
       "PS4          98.61\n",
       "XOne         81.27\n",
       "X360         28.30\n",
       "3DS          22.64\n",
       "PS3          22.05"
      ]
     },
     "metadata": {},
     "output_type": "display_data"
    }
   ],
   "source": [
    "#Определим топ 5 платформ для Северной Америки\n",
    "\n",
    "display(data_actual\n",
    "                   .pivot_table(index = 'platform', values = 'na_sales', aggfunc = 'sum')\n",
    "                   .sort_values(ascending=False, by='na_sales')[:5]\n",
    "       )"
   ]
  },
  {
   "cell_type": "code",
   "execution_count": 916,
   "metadata": {},
   "outputs": [
    {
     "data": {
      "image/png": "[encoded data removed]",
      "text/plain": [
       "<Figure size 1080x360 with 1 Axes>"
      ]
     },
     "metadata": {
      "needs_background": "light"
     },
     "output_type": "display_data"
    }
   ],
   "source": [
    "#Посмотрим на данные в Европе\n",
    "\n",
    "(data_actual\n",
    "            .pivot_table(index = 'platform', values = 'eu_sales', aggfunc = 'sum')\n",
    "            .sort_values(ascending=False, by = 'eu_sales').plot(kind = 'bar', figsize=(15,5))\n",
    ");\n"
   ]
  },
  {
   "cell_type": "markdown",
   "metadata": {},
   "source": [
    "В Европе самая популярная платформа - PS4. Также значительную долю имеют платформы XOne и PS3."
   ]
  },
  {
   "cell_type": "code",
   "execution_count": 917,
   "metadata": {},
   "outputs": [
    {
     "data": {
      "text/html": [
       "<div>\n",
       "<style scoped>\n",
       "    .dataframe tbody tr th:only-of-type {\n",
       "        vertical-align: middle;\n",
       "    }\n",
       "\n",
       "    .dataframe tbody tr th {\n",
       "        vertical-align: top;\n",
       "    }\n",
       "\n",
       "    .dataframe thead th {\n",
       "        text-align: right;\n",
       "    }\n",
       "</style>\n",
       "<table border=\"1\" class=\"dataframe\">\n",
       "  <thead>\n",
       "    <tr style=\"text-align: right;\">\n",
       "      <th></th>\n",
       "      <th>eu_sales</th>\n",
       "    </tr>\n",
       "    <tr>\n",
       "      <th>platform</th>\n",
       "      <th></th>\n",
       "    </tr>\n",
       "  </thead>\n",
       "  <tbody>\n",
       "    <tr>\n",
       "      <th>PS4</th>\n",
       "      <td>130.04</td>\n",
       "    </tr>\n",
       "    <tr>\n",
       "      <th>XOne</th>\n",
       "      <td>46.25</td>\n",
       "    </tr>\n",
       "    <tr>\n",
       "      <th>PS3</th>\n",
       "      <td>25.54</td>\n",
       "    </tr>\n",
       "    <tr>\n",
       "      <th>PC</th>\n",
       "      <td>17.97</td>\n",
       "    </tr>\n",
       "    <tr>\n",
       "      <th>3DS</th>\n",
       "      <td>16.12</td>\n",
       "    </tr>\n",
       "  </tbody>\n",
       "</table>\n",
       "</div>"
      ],
      "text/plain": [
       "          eu_sales\n",
       "platform          \n",
       "PS4         130.04\n",
       "XOne         46.25\n",
       "PS3          25.54\n",
       "PC           17.97\n",
       "3DS          16.12"
      ]
     },
     "metadata": {},
     "output_type": "display_data"
    }
   ],
   "source": [
    "#Определим топ 5 платформ для Европы\n",
    "\n",
    "display(data_actual\n",
    "                   .pivot_table(index = 'platform', values = 'eu_sales', aggfunc = 'sum')\n",
    "                   .sort_values(ascending=False, by='eu_sales')[:5]\n",
    "       )"
   ]
  },
  {
   "cell_type": "code",
   "execution_count": 918,
   "metadata": {},
   "outputs": [
    {
     "data": {
      "image/png": "[encoded data removed]",
      "text/plain": [
       "<Figure size 1080x360 with 1 Axes>"
      ]
     },
     "metadata": {
      "needs_background": "light"
     },
     "output_type": "display_data"
    }
   ],
   "source": [
    "#Посмотрим на данные в Японии\n",
    "\n",
    "(data_actual\n",
    "            .pivot_table(index = 'platform', values = 'jp_sales', aggfunc = 'sum')\n",
    "            .sort_values(ascending=False, by = 'jp_sales').plot(kind = 'bar', figsize=(15,5))\n",
    ");"
   ]
  },
  {
   "cell_type": "markdown",
   "metadata": {},
   "source": [
    "Японские предпочтения значительно отличаются от предыдщих пользователей. У них лидируюшие позиции занимает платформа 3DS. При этом популярная в других регионах X360, у японцев не в подчёте."
   ]
  },
  {
   "cell_type": "code",
   "execution_count": 919,
   "metadata": {},
   "outputs": [
    {
     "data": {
      "text/html": [
       "<div>\n",
       "<style scoped>\n",
       "    .dataframe tbody tr th:only-of-type {\n",
       "        vertical-align: middle;\n",
       "    }\n",
       "\n",
       "    .dataframe tbody tr th {\n",
       "        vertical-align: top;\n",
       "    }\n",
       "\n",
       "    .dataframe thead th {\n",
       "        text-align: right;\n",
       "    }\n",
       "</style>\n",
       "<table border=\"1\" class=\"dataframe\">\n",
       "  <thead>\n",
       "    <tr style=\"text-align: right;\">\n",
       "      <th></th>\n",
       "      <th>jp_sales</th>\n",
       "    </tr>\n",
       "    <tr>\n",
       "      <th>platform</th>\n",
       "      <th></th>\n",
       "    </tr>\n",
       "  </thead>\n",
       "  <tbody>\n",
       "    <tr>\n",
       "      <th>3DS</th>\n",
       "      <td>44.24</td>\n",
       "    </tr>\n",
       "    <tr>\n",
       "      <th>PS4</th>\n",
       "      <td>15.02</td>\n",
       "    </tr>\n",
       "    <tr>\n",
       "      <th>PSV</th>\n",
       "      <td>14.54</td>\n",
       "    </tr>\n",
       "    <tr>\n",
       "      <th>PS3</th>\n",
       "      <td>11.22</td>\n",
       "    </tr>\n",
       "    <tr>\n",
       "      <th>WiiU</th>\n",
       "      <td>7.31</td>\n",
       "    </tr>\n",
       "  </tbody>\n",
       "</table>\n",
       "</div>"
      ],
      "text/plain": [
       "          jp_sales\n",
       "platform          \n",
       "3DS          44.24\n",
       "PS4          15.02\n",
       "PSV          14.54\n",
       "PS3          11.22\n",
       "WiiU          7.31"
      ]
     },
     "metadata": {},
     "output_type": "display_data"
    }
   ],
   "source": [
    "#Определим топ 5 платформ для Японии\n",
    "\n",
    "display(data_actual\n",
    "                   .pivot_table(index = 'platform', values = 'jp_sales', aggfunc = 'sum')\n",
    "                   .sort_values(ascending=False, by='jp_sales')[:5]\n",
    "       )"
   ]
  },
  {
   "cell_type": "code",
   "execution_count": 920,
   "metadata": {},
   "outputs": [
    {
     "data": {
      "image/png": "[encoded data removed]",
      "text/plain": [
       "<Figure size 1080x360 with 1 Axes>"
      ]
     },
     "metadata": {
      "needs_background": "light"
     },
     "output_type": "display_data"
    }
   ],
   "source": [
    "#Посмотрим на данные в остальных странах\n",
    "\n",
    "(data_actual\n",
    "            .pivot_table(index = 'platform', values = 'other_sales', aggfunc = 'sum')\n",
    "            .sort_values(ascending=False, by = 'other_sales').plot(kind = 'bar', figsize=(15,5))\n",
    ");"
   ]
  },
  {
   "cell_type": "markdown",
   "metadata": {},
   "source": [
    "По остальным регионам можем сделать вывод, что их предпочтения сходятся с американцами и европейцами. "
   ]
  },
  {
   "cell_type": "code",
   "execution_count": 921,
   "metadata": {},
   "outputs": [
    {
     "data": {
      "text/html": [
       "<div>\n",
       "<style scoped>\n",
       "    .dataframe tbody tr th:only-of-type {\n",
       "        vertical-align: middle;\n",
       "    }\n",
       "\n",
       "    .dataframe tbody tr th {\n",
       "        vertical-align: top;\n",
       "    }\n",
       "\n",
       "    .dataframe thead th {\n",
       "        text-align: right;\n",
       "    }\n",
       "</style>\n",
       "<table border=\"1\" class=\"dataframe\">\n",
       "  <thead>\n",
       "    <tr style=\"text-align: right;\">\n",
       "      <th></th>\n",
       "      <th>other_sales</th>\n",
       "    </tr>\n",
       "    <tr>\n",
       "      <th>platform</th>\n",
       "      <th></th>\n",
       "    </tr>\n",
       "  </thead>\n",
       "  <tbody>\n",
       "    <tr>\n",
       "      <th>PS4</th>\n",
       "      <td>44.48</td>\n",
       "    </tr>\n",
       "    <tr>\n",
       "      <th>XOne</th>\n",
       "      <td>12.52</td>\n",
       "    </tr>\n",
       "    <tr>\n",
       "      <th>PS3</th>\n",
       "      <td>9.37</td>\n",
       "    </tr>\n",
       "    <tr>\n",
       "      <th>X360</th>\n",
       "      <td>4.35</td>\n",
       "    </tr>\n",
       "    <tr>\n",
       "      <th>3DS</th>\n",
       "      <td>3.68</td>\n",
       "    </tr>\n",
       "  </tbody>\n",
       "</table>\n",
       "</div>"
      ],
      "text/plain": [
       "          other_sales\n",
       "platform             \n",
       "PS4             44.48\n",
       "XOne            12.52\n",
       "PS3              9.37\n",
       "X360             4.35\n",
       "3DS              3.68"
      ]
     },
     "metadata": {},
     "output_type": "display_data"
    }
   ],
   "source": [
    "#Определим топ 5 платформ для остальных стран\n",
    "\n",
    "display(data_actual\n",
    "                   .pivot_table(index = 'platform', values = 'other_sales', aggfunc = 'sum')\n",
    "                   .sort_values(ascending=False, by='other_sales')[:5]\n",
    "       )"
   ]
  },
  {
   "cell_type": "markdown",
   "metadata": {},
   "source": [
    "**Теперь посмотрим предпочтения жанров по каждому региону**"
   ]
  },
  {
   "cell_type": "code",
   "execution_count": 922,
   "metadata": {},
   "outputs": [
    {
     "data": {
      "text/html": [
       "<div>\n",
       "<style scoped>\n",
       "    .dataframe tbody tr th:only-of-type {\n",
       "        vertical-align: middle;\n",
       "    }\n",
       "\n",
       "    .dataframe tbody tr th {\n",
       "        vertical-align: top;\n",
       "    }\n",
       "\n",
       "    .dataframe thead th {\n",
       "        text-align: right;\n",
       "    }\n",
       "</style>\n",
       "<table border=\"1\" class=\"dataframe\">\n",
       "  <thead>\n",
       "    <tr style=\"text-align: right;\">\n",
       "      <th></th>\n",
       "      <th>na_sales</th>\n",
       "    </tr>\n",
       "    <tr>\n",
       "      <th>genre</th>\n",
       "      <th></th>\n",
       "    </tr>\n",
       "  </thead>\n",
       "  <tbody>\n",
       "    <tr>\n",
       "      <th>Shooter</th>\n",
       "      <td>79.02</td>\n",
       "    </tr>\n",
       "    <tr>\n",
       "      <th>Action</th>\n",
       "      <td>72.53</td>\n",
       "    </tr>\n",
       "    <tr>\n",
       "      <th>Sports</th>\n",
       "      <td>46.13</td>\n",
       "    </tr>\n",
       "    <tr>\n",
       "      <th>Role-Playing</th>\n",
       "      <td>33.47</td>\n",
       "    </tr>\n",
       "    <tr>\n",
       "      <th>Misc</th>\n",
       "      <td>15.05</td>\n",
       "    </tr>\n",
       "  </tbody>\n",
       "</table>\n",
       "</div>"
      ],
      "text/plain": [
       "              na_sales\n",
       "genre                 \n",
       "Shooter          79.02\n",
       "Action           72.53\n",
       "Sports           46.13\n",
       "Role-Playing     33.47\n",
       "Misc             15.05"
      ]
     },
     "execution_count": 922,
     "metadata": {},
     "output_type": "execute_result"
    }
   ],
   "source": [
    "#Данные по Северной Америке\n",
    "\n",
    "#data_actual.pivot_table(index = 'genre', values = 'na_sales', aggfunc = 'sum').sort_values(ascending=False, by = 'na_sales')\n",
    "\n",
    "#Топ 5 жанров\n",
    "(data_actual\n",
    "            .pivot_table(index = 'genre', values = 'na_sales', aggfunc = 'sum')\n",
    "            .sort_values(ascending=False, by = 'na_sales')[0:5]\n",
    ")"
   ]
  },
  {
   "cell_type": "code",
   "execution_count": 923,
   "metadata": {},
   "outputs": [
    {
     "data": {
      "text/html": [
       "<div>\n",
       "<style scoped>\n",
       "    .dataframe tbody tr th:only-of-type {\n",
       "        vertical-align: middle;\n",
       "    }\n",
       "\n",
       "    .dataframe tbody tr th {\n",
       "        vertical-align: top;\n",
       "    }\n",
       "\n",
       "    .dataframe thead th {\n",
       "        text-align: right;\n",
       "    }\n",
       "</style>\n",
       "<table border=\"1\" class=\"dataframe\">\n",
       "  <thead>\n",
       "    <tr style=\"text-align: right;\">\n",
       "      <th></th>\n",
       "      <th>eu_sales</th>\n",
       "    </tr>\n",
       "    <tr>\n",
       "      <th>genre</th>\n",
       "      <th></th>\n",
       "    </tr>\n",
       "  </thead>\n",
       "  <tbody>\n",
       "    <tr>\n",
       "      <th>Action</th>\n",
       "      <td>74.68</td>\n",
       "    </tr>\n",
       "    <tr>\n",
       "      <th>Shooter</th>\n",
       "      <td>65.52</td>\n",
       "    </tr>\n",
       "    <tr>\n",
       "      <th>Sports</th>\n",
       "      <td>45.73</td>\n",
       "    </tr>\n",
       "    <tr>\n",
       "      <th>Role-Playing</th>\n",
       "      <td>28.17</td>\n",
       "    </tr>\n",
       "    <tr>\n",
       "      <th>Racing</th>\n",
       "      <td>14.13</td>\n",
       "    </tr>\n",
       "  </tbody>\n",
       "</table>\n",
       "</div>"
      ],
      "text/plain": [
       "              eu_sales\n",
       "genre                 \n",
       "Action           74.68\n",
       "Shooter          65.52\n",
       "Sports           45.73\n",
       "Role-Playing     28.17\n",
       "Racing           14.13"
      ]
     },
     "execution_count": 923,
     "metadata": {},
     "output_type": "execute_result"
    }
   ],
   "source": [
    "#Данные по Европе\n",
    "\n",
    "#data_actual.pivot_table(index = 'genre', values = 'eu_sales', aggfunc = 'sum').sort_values(ascending=False, by = 'eu_sales')\n",
    "\n",
    "#Топ 5\n",
    "(data_actual\n",
    "            .pivot_table(index = 'genre', values = 'eu_sales', aggfunc = 'sum')\n",
    "            .sort_values(ascending=False, by = 'eu_sales')[0:5]\n",
    ")"
   ]
  },
  {
   "cell_type": "code",
   "execution_count": 924,
   "metadata": {},
   "outputs": [
    {
     "data": {
      "text/html": [
       "<div>\n",
       "<style scoped>\n",
       "    .dataframe tbody tr th:only-of-type {\n",
       "        vertical-align: middle;\n",
       "    }\n",
       "\n",
       "    .dataframe tbody tr th {\n",
       "        vertical-align: top;\n",
       "    }\n",
       "\n",
       "    .dataframe thead th {\n",
       "        text-align: right;\n",
       "    }\n",
       "</style>\n",
       "<table border=\"1\" class=\"dataframe\">\n",
       "  <thead>\n",
       "    <tr style=\"text-align: right;\">\n",
       "      <th></th>\n",
       "      <th>jp_sales</th>\n",
       "    </tr>\n",
       "    <tr>\n",
       "      <th>genre</th>\n",
       "      <th></th>\n",
       "    </tr>\n",
       "  </thead>\n",
       "  <tbody>\n",
       "    <tr>\n",
       "      <th>Role-Playing</th>\n",
       "      <td>31.16</td>\n",
       "    </tr>\n",
       "    <tr>\n",
       "      <th>Action</th>\n",
       "      <td>29.58</td>\n",
       "    </tr>\n",
       "    <tr>\n",
       "      <th>Fighting</th>\n",
       "      <td>6.37</td>\n",
       "    </tr>\n",
       "    <tr>\n",
       "      <th>Misc</th>\n",
       "      <td>5.61</td>\n",
       "    </tr>\n",
       "    <tr>\n",
       "      <th>Shooter</th>\n",
       "      <td>4.87</td>\n",
       "    </tr>\n",
       "  </tbody>\n",
       "</table>\n",
       "</div>"
      ],
      "text/plain": [
       "              jp_sales\n",
       "genre                 \n",
       "Role-Playing     31.16\n",
       "Action           29.58\n",
       "Fighting          6.37\n",
       "Misc              5.61\n",
       "Shooter           4.87"
      ]
     },
     "execution_count": 924,
     "metadata": {},
     "output_type": "execute_result"
    }
   ],
   "source": [
    "#Данные по Японии\n",
    "\n",
    "#actual_data.pivot_table(index = 'genre', values = 'jp_sales', aggfunc = 'sum').sort_values(ascending=False, by = 'jp_sales')\n",
    "\n",
    "#Топ 5\n",
    "\n",
    "(data_actual\n",
    "            .pivot_table(index = 'genre', values = 'jp_sales', aggfunc = 'sum')\n",
    "            .sort_values(ascending=False, by = 'jp_sales')[0:5]\n",
    ")"
   ]
  },
  {
   "cell_type": "code",
   "execution_count": 925,
   "metadata": {},
   "outputs": [
    {
     "data": {
      "text/html": [
       "<div>\n",
       "<style scoped>\n",
       "    .dataframe tbody tr th:only-of-type {\n",
       "        vertical-align: middle;\n",
       "    }\n",
       "\n",
       "    .dataframe tbody tr th {\n",
       "        vertical-align: top;\n",
       "    }\n",
       "\n",
       "    .dataframe thead th {\n",
       "        text-align: right;\n",
       "    }\n",
       "</style>\n",
       "<table border=\"1\" class=\"dataframe\">\n",
       "  <thead>\n",
       "    <tr style=\"text-align: right;\">\n",
       "      <th></th>\n",
       "      <th>other_sales</th>\n",
       "    </tr>\n",
       "    <tr>\n",
       "      <th>genre</th>\n",
       "      <th></th>\n",
       "    </tr>\n",
       "  </thead>\n",
       "  <tbody>\n",
       "    <tr>\n",
       "      <th>Action</th>\n",
       "      <td>22.57</td>\n",
       "    </tr>\n",
       "    <tr>\n",
       "      <th>Shooter</th>\n",
       "      <td>21.53</td>\n",
       "    </tr>\n",
       "    <tr>\n",
       "      <th>Sports</th>\n",
       "      <td>14.36</td>\n",
       "    </tr>\n",
       "    <tr>\n",
       "      <th>Role-Playing</th>\n",
       "      <td>8.64</td>\n",
       "    </tr>\n",
       "    <tr>\n",
       "      <th>Misc</th>\n",
       "      <td>4.03</td>\n",
       "    </tr>\n",
       "  </tbody>\n",
       "</table>\n",
       "</div>"
      ],
      "text/plain": [
       "              other_sales\n",
       "genre                    \n",
       "Action              22.57\n",
       "Shooter             21.53\n",
       "Sports              14.36\n",
       "Role-Playing         8.64\n",
       "Misc                 4.03"
      ]
     },
     "execution_count": 925,
     "metadata": {},
     "output_type": "execute_result"
    }
   ],
   "source": [
    "#Данные по остальным странам\n",
    "\n",
    "#data_actual.pivot_table(index = 'genre', values = 'other_sales', aggfunc = 'sum').sort_values(ascending=False, by = 'other_sales')\n",
    "\n",
    "#Топ 5\n",
    "\n",
    "(data_actual\n",
    "            .pivot_table(index = 'genre', values = 'other_sales', aggfunc = 'sum')\n",
    "            .sort_values(ascending=False, by = 'other_sales')[0:5]\n",
    ")"
   ]
  },
  {
   "cell_type": "markdown",
   "metadata": {},
   "source": [
    "Ознакомившись поближе с данными по жанрам, можем сделать вывод, что большая часть мира отдает своё предпочтение жанру Shooter, Action и Sports. Япония снова отличилась, у неё в лидирующих позициях жанр Role-Playing, на втором месте Action. А вот популярный в остальных странах жанр Shooter в самой нижней строчке топ 5. "
   ]
  },
  {
   "cell_type": "markdown",
   "metadata": {},
   "source": [
    "**Проверим, влияет ли рейтинг ESRB на продажи в отдельном регионе**"
   ]
  },
  {
   "cell_type": "code",
   "execution_count": 926,
   "metadata": {},
   "outputs": [
    {
     "data": {
      "text/html": [
       "<div>\n",
       "<style scoped>\n",
       "    .dataframe tbody tr th:only-of-type {\n",
       "        vertical-align: middle;\n",
       "    }\n",
       "\n",
       "    .dataframe tbody tr th {\n",
       "        vertical-align: top;\n",
       "    }\n",
       "\n",
       "    .dataframe thead th {\n",
       "        text-align: right;\n",
       "    }\n",
       "</style>\n",
       "<table border=\"1\" class=\"dataframe\">\n",
       "  <thead>\n",
       "    <tr style=\"text-align: right;\">\n",
       "      <th></th>\n",
       "      <th>eu_sales</th>\n",
       "      <th>jp_sales</th>\n",
       "      <th>na_sales</th>\n",
       "    </tr>\n",
       "    <tr>\n",
       "      <th>rating</th>\n",
       "      <th></th>\n",
       "      <th></th>\n",
       "      <th></th>\n",
       "    </tr>\n",
       "  </thead>\n",
       "  <tbody>\n",
       "    <tr>\n",
       "      <th>E</th>\n",
       "      <td>58.06</td>\n",
       "      <td>8.94</td>\n",
       "      <td>50.74</td>\n",
       "    </tr>\n",
       "    <tr>\n",
       "      <th>E10+</th>\n",
       "      <td>26.16</td>\n",
       "      <td>4.46</td>\n",
       "      <td>33.23</td>\n",
       "    </tr>\n",
       "    <tr>\n",
       "      <th>M</th>\n",
       "      <td>93.44</td>\n",
       "      <td>8.01</td>\n",
       "      <td>96.42</td>\n",
       "    </tr>\n",
       "    <tr>\n",
       "      <th>T</th>\n",
       "      <td>34.07</td>\n",
       "      <td>14.78</td>\n",
       "      <td>38.95</td>\n",
       "    </tr>\n",
       "    <tr>\n",
       "      <th>Unknown</th>\n",
       "      <td>58.95</td>\n",
       "      <td>56.90</td>\n",
       "      <td>64.72</td>\n",
       "    </tr>\n",
       "  </tbody>\n",
       "</table>\n",
       "</div>"
      ],
      "text/plain": [
       "         eu_sales  jp_sales  na_sales\n",
       "rating                               \n",
       "E           58.06      8.94     50.74\n",
       "E10+        26.16      4.46     33.23\n",
       "M           93.44      8.01     96.42\n",
       "T           34.07     14.78     38.95\n",
       "Unknown     58.95     56.90     64.72"
      ]
     },
     "execution_count": 926,
     "metadata": {},
     "output_type": "execute_result"
    }
   ],
   "source": [
    "esrb = data_actual.pivot_table(index = 'rating', values = ['na_sales','eu_sales','jp_sales'], aggfunc = 'sum')\n",
    "esrb"
   ]
  },
  {
   "cell_type": "markdown",
   "metadata": {},
   "source": [
    "Рейтинг влияет на продажи в отдельных регионах. Можем заметить, что игры, которые популярны в Европе и Америке, совсем мало продаются в Японии. Но игры, которые не имеют рейтинга, популярны в 3 регионах. Большинство продаж (Европа и Америка) принадлежит играм с рейтингом М (то есть игры для взрослых). "
   ]
  },
  {
   "cell_type": "markdown",
   "metadata": {},
   "source": [
    "## Проверка гипотез"
   ]
  },
  {
   "cell_type": "markdown",
   "metadata": {},
   "source": [
    "1 гипотеза:\n",
    "\n",
    "Средние пользовательские рейтинги платформ Xbox One и PC одинаковые;\n",
    "\n",
    "2 гипотеза:\n",
    "\n",
    "Средние пользовательские рейтинги жанров Action (англ. «действие», экшен-игры) и Sports (англ. «спортивные соревнования») разные."
   ]
  },
  {
   "cell_type": "code",
   "execution_count": 927,
   "metadata": {},
   "outputs": [
    {
     "name": "stdout",
     "output_type": "stream",
     "text": [
      "Средний пользовательский рейтинг платформы Xbox One: 6.594545454545456\n",
      "Средний пользовательский рейтинг платформы PC 6.298360655737705\n"
     ]
    }
   ],
   "source": [
    "#Сделаем выборку по платформам\n",
    "\n",
    "xone = data_actual[(data_actual['platform'] == 'XOne') &  (data_actual['user_score'] > 0)]['user_score']\n",
    "\n",
    "pc = data_actual[(data_actual['platform'] == 'PC') &  (data_actual['user_score'] > 0)]['user_score']\n",
    "\n",
    "print('Средний пользовательский рейтинг платформы Xbox One:', xone.mean())\n",
    "print('Средний пользовательский рейтинг платформы PC', pc.mean())"
   ]
  },
  {
   "cell_type": "markdown",
   "metadata": {},
   "source": [
    "H0 гипотеза утверждает, что Xbox One и PC одинаковые\n",
    "\n",
    "H1 гипотеза утверждает, что Xbox One и PC разные"
   ]
  },
  {
   "cell_type": "code",
   "execution_count": 928,
   "metadata": {},
   "outputs": [
    {
     "name": "stdout",
     "output_type": "stream",
     "text": [
      "p-значение: 0.11601398086668832\n",
      "Не получилось отвергнуть нулевую гипотезу\n"
     ]
    }
   ],
   "source": [
    "#Проверяем первую гипотезу\n",
    "\n",
    "alpha = .05\n",
    "\n",
    "results = st.ttest_ind(xone, pc, equal_var=False)\n",
    "\n",
    "print('p-значение:', results.pvalue)\n",
    "\n",
    "\n",
    "if (results.pvalue < alpha):\n",
    "    print(\"Отвергаем нулевую гипотезу\")\n",
    "else:\n",
    "    print(\"Не получилось отвергнуть нулевую гипотезу\")"
   ]
  },
  {
   "cell_type": "markdown",
   "metadata": {},
   "source": [
    "**Вывод**\n",
    " \n",
    " Нет оснований полагать, что средние пользовательские рейтинги платформ Xbox One и PC значимо различаются."
   ]
  },
  {
   "cell_type": "code",
   "execution_count": 929,
   "metadata": {},
   "outputs": [
    {
     "name": "stdout",
     "output_type": "stream",
     "text": [
      "Средний пользовательский рейтинг жанра Action: 6.760606060606061\n",
      "Средний пользовательский рейтинг жанра Sports 5.2251968503937\n"
     ]
    }
   ],
   "source": [
    "action = data_actual[(data_actual['genre'] == 'Action') &  (data_actual['user_score'] > 0)]['user_score']\n",
    "\n",
    "sports = data_actual[(data_actual['genre'] == 'Sports') &  (data_actual['user_score'] > 0)]['user_score']\n",
    "\n",
    "print('Средний пользовательский рейтинг жанра Action:', action.mean())\n",
    "print('Средний пользовательский рейтинг жанра Sports', sports.mean())"
   ]
  },
  {
   "cell_type": "markdown",
   "metadata": {},
   "source": [
    "H0: Средние пользовательские рейтинги жанров Action и Sports разные\n",
    "\n",
    "H1: Средние пользовательские рейтинги жанров Action  и Sports одинаковые"
   ]
  },
  {
   "cell_type": "code",
   "execution_count": 930,
   "metadata": {},
   "outputs": [
    {
     "name": "stdout",
     "output_type": "stream",
     "text": [
      "p-значение: 1.1825550382644557e-14\n",
      "Не получилось отвергнуть нулевую гипотезу\n"
     ]
    }
   ],
   "source": [
    "#Проверяем вторую гипотезу\n",
    "\n",
    "alpha = .05\n",
    "\n",
    "results = st.ttest_ind(action, sports, equal_var=False)\n",
    "\n",
    "print('p-значение:', results.pvalue)\n",
    "\n",
    "\n",
    "if (results.pvalue > alpha):\n",
    "    print(\"Отвергаем нулевую гипотезу\")\n",
    "else:\n",
    "    print(\"Не получилось отвергнуть нулевую гипотезу\")"
   ]
  },
  {
   "cell_type": "markdown",
   "metadata": {},
   "source": [
    "Не получилось отвергнуть нулевую гипотезу. Средние пользовательские рейтинги жанров Action и Sports разные.\n",
    "\n",
    "H0 гипотеза - это гипотеза, которую мы хотим подтвердить, гипотеза H1 изначально противоречит гипотезе H0."
   ]
  },
  {
   "cell_type": "markdown",
   "metadata": {},
   "source": [
    "## Общий вывод"
   ]
  },
  {
   "cell_type": "markdown",
   "metadata": {},
   "source": [
    "Развитие игр с 1980 года по 2000 было очень слабым. В 2000 году мы видим активный рост игр, который продолжался до 2009 года. На 2008 и 2009 год приходится пик развития индустрии компьютерных игр, значит в эти года игры производились продуктивнее всего. Начиная с 2010 года количество выпускаемых игр значительно снизилось.\n",
    "\n",
    "**В топ 3 платформ среди продаж вошли:**\n",
    "\n",
    "PS2 (успешен в 2002-2004 годах)\n",
    "\n",
    "Xbox360 (успешен в 2010-2011 годах)\n",
    "\n",
    "PS 3 (успешен в 2008-2011 годах)\n",
    "\n",
    "При этом видно, что из представленного ТОПа все платформы уже не являются актуальными.\n",
    "\n",
    "Новые платформы быстро набирают популярность, наращивают/удерживают ее в течение 3-4 лет и затем их продажи снижаются. В среднем, платформа живёт 10 лет.\n",
    "\n",
    "Платформы, показывающие успешные показатели по продажам за 2014-2016 год значительно отличаются от того графика, где представлены продажи платформ за все время. Если раньше лидером по продажам был PS2, то сейчас на лидирующей строчке оказалась PS4, и почетное второе место по продажам игр за 2014-2016 год занимает XOne. PS4 и XOne являются потенциальнее остальных платформ.\n",
    "\n",
    "**Потенциально прибыльные платформы:**\n",
    "\n",
    "PS4\n",
    "\n",
    "XOne\n",
    "\n",
    "WiiU\n",
    "\n",
    "Корреляции для PS4 (потенциально самой успешной платформы) между пользовательскими оценками и продажами нет, так как значение почти нулевое. А вот оценки критиков имеют связь с продажами игр, но о их влиянии мы можем только предполагать.\n",
    "\n",
    "**Самые прибыльные жанры являются Shooter и Action. Значения их продаж почти доходят до 140 млн проданных копий.** \n",
    "\n",
    "**ТОП 3 можно отметить следующие жанры:**\n",
    "\n",
    "Shooter\n",
    "\n",
    "Action\n",
    "\n",
    "Sports\n",
    "\n",
    "**Портрет Американца**\n",
    "\n",
    "Предпочитает консоль PS4, жанры игр, которые он предпочитает Shooter и Action, популярный рейтинг М (для взрослых).\n",
    "\n",
    "**Портрет Европейца**\n",
    "\n",
    "Предпочитает консоль PS4. В основном его выбор приходится на жанр Action. Рейтинг игры, как и у американца, M, смею предположить, что такие игры более зрелищные.\n",
    "\n",
    "**Портрет Японца**\n",
    "\n",
    "Предпочитает играть на 3DS. Любимый жанр - Role-Playing. Предпочитаемый рейтинг определить не удалось, так как больше всего продаж неопределенного рейтинга, но на втором месте рейтинг Т, который подходит для подростков.\n",
    "\n",
    "**Проверка гипотез**\n",
    "\n",
    "Не отвергаем гипотезу, что средние пользовательские рейтинги платформ Xbox One и PC одинаковые.\n",
    "\n",
    "Не отвергаем гипотезу, что средние пользовательские рейтинги жанров Action и Sports разные."
   ]
  }
 ],
 "metadata": {
  "ExecuteTimeLog": [
   {
    "duration": 1393,
    "start_time": "2022-11-24T11:20:30.766Z"
   },
   {
    "duration": 188,
    "start_time": "2022-11-24T11:21:47.917Z"
   },
   {
    "duration": 77,
    "start_time": "2022-11-24T11:22:38.192Z"
   },
   {
    "duration": 12,
    "start_time": "2022-11-24T11:26:11.239Z"
   },
   {
    "duration": 98,
    "start_time": "2022-11-24T11:33:01.384Z"
   },
   {
    "duration": 20,
    "start_time": "2022-11-24T11:33:11.826Z"
   },
   {
    "duration": 13,
    "start_time": "2022-11-24T11:40:37.820Z"
   },
   {
    "duration": 10,
    "start_time": "2022-11-24T11:40:57.331Z"
   },
   {
    "duration": 21,
    "start_time": "2022-11-24T11:41:12.235Z"
   },
   {
    "duration": 15,
    "start_time": "2022-11-24T11:42:10.297Z"
   },
   {
    "duration": 8,
    "start_time": "2022-11-24T11:46:56.385Z"
   },
   {
    "duration": 3,
    "start_time": "2022-11-24T11:47:12.165Z"
   },
   {
    "duration": 14,
    "start_time": "2022-11-24T11:49:54.160Z"
   },
   {
    "duration": 17,
    "start_time": "2022-11-24T11:52:10.461Z"
   },
   {
    "duration": 8,
    "start_time": "2022-11-24T11:52:25.657Z"
   },
   {
    "duration": 20,
    "start_time": "2022-11-24T11:53:14.615Z"
   },
   {
    "duration": 16,
    "start_time": "2022-11-24T11:55:18.692Z"
   },
   {
    "duration": 12,
    "start_time": "2022-11-24T11:56:52.019Z"
   },
   {
    "duration": 12,
    "start_time": "2022-11-24T11:57:13.052Z"
   },
   {
    "duration": 10,
    "start_time": "2022-11-24T11:57:37.629Z"
   },
   {
    "duration": 19,
    "start_time": "2022-11-24T11:57:42.548Z"
   },
   {
    "duration": 19,
    "start_time": "2022-11-24T11:58:06.098Z"
   },
   {
    "duration": 2,
    "start_time": "2022-11-24T11:58:34.469Z"
   },
   {
    "duration": 9,
    "start_time": "2022-11-24T12:02:20.792Z"
   },
   {
    "duration": 9,
    "start_time": "2022-11-24T12:02:39.975Z"
   },
   {
    "duration": 3,
    "start_time": "2022-11-24T12:03:04.229Z"
   },
   {
    "duration": 60,
    "start_time": "2022-11-24T12:03:04.234Z"
   },
   {
    "duration": 12,
    "start_time": "2022-11-24T12:03:04.296Z"
   },
   {
    "duration": 18,
    "start_time": "2022-11-24T12:03:04.311Z"
   },
   {
    "duration": 13,
    "start_time": "2022-11-24T12:03:04.330Z"
   },
   {
    "duration": 7,
    "start_time": "2022-11-24T12:03:04.344Z"
   },
   {
    "duration": 5,
    "start_time": "2022-11-24T12:03:59.233Z"
   },
   {
    "duration": 4,
    "start_time": "2022-11-24T12:10:42.092Z"
   },
   {
    "duration": 6,
    "start_time": "2022-11-24T12:11:00.112Z"
   },
   {
    "duration": 5,
    "start_time": "2022-11-24T12:11:59.798Z"
   },
   {
    "duration": 5,
    "start_time": "2022-11-24T12:12:47.968Z"
   },
   {
    "duration": 5,
    "start_time": "2022-11-24T12:13:56.309Z"
   },
   {
    "duration": 1264,
    "start_time": "2022-11-25T18:01:20.409Z"
   },
   {
    "duration": 104,
    "start_time": "2022-11-25T18:01:21.675Z"
   },
   {
    "duration": 12,
    "start_time": "2022-11-25T18:01:21.781Z"
   },
   {
    "duration": 18,
    "start_time": "2022-11-25T18:01:21.795Z"
   },
   {
    "duration": 12,
    "start_time": "2022-11-25T18:01:21.815Z"
   },
   {
    "duration": 11,
    "start_time": "2022-11-25T18:01:21.828Z"
   },
   {
    "duration": 4,
    "start_time": "2022-11-25T18:01:21.841Z"
   },
   {
    "duration": 6,
    "start_time": "2022-11-25T18:01:21.846Z"
   },
   {
    "duration": 4,
    "start_time": "2022-11-25T18:01:21.853Z"
   },
   {
    "duration": 9,
    "start_time": "2022-11-25T18:01:21.858Z"
   },
   {
    "duration": 5,
    "start_time": "2022-11-25T18:02:39.936Z"
   },
   {
    "duration": 5,
    "start_time": "2022-11-25T18:02:42.920Z"
   },
   {
    "duration": 7,
    "start_time": "2022-11-25T18:02:46.743Z"
   },
   {
    "duration": 1058,
    "start_time": "2022-11-25T18:04:48.893Z"
   },
   {
    "duration": 5,
    "start_time": "2022-11-25T18:05:19.710Z"
   },
   {
    "duration": 64,
    "start_time": "2022-11-28T09:11:53.012Z"
   },
   {
    "duration": 1385,
    "start_time": "2022-11-28T09:12:00.885Z"
   },
   {
    "duration": 236,
    "start_time": "2022-11-28T09:12:02.272Z"
   },
   {
    "duration": 16,
    "start_time": "2022-11-28T09:12:02.510Z"
   },
   {
    "duration": 21,
    "start_time": "2022-11-28T09:12:02.528Z"
   },
   {
    "duration": 18,
    "start_time": "2022-11-28T09:12:02.551Z"
   },
   {
    "duration": 13,
    "start_time": "2022-11-28T09:12:02.571Z"
   },
   {
    "duration": 9,
    "start_time": "2022-11-28T09:12:02.586Z"
   },
   {
    "duration": 19,
    "start_time": "2022-11-28T09:12:02.597Z"
   },
   {
    "duration": 25,
    "start_time": "2022-11-28T09:12:02.618Z"
   },
   {
    "duration": 6,
    "start_time": "2022-11-28T09:12:19.813Z"
   },
   {
    "duration": 31,
    "start_time": "2022-11-28T09:13:52.943Z"
   },
   {
    "duration": 15,
    "start_time": "2022-11-28T09:15:25.199Z"
   },
   {
    "duration": 10,
    "start_time": "2022-11-28T09:16:52.395Z"
   },
   {
    "duration": 10,
    "start_time": "2022-11-28T09:17:06.647Z"
   },
   {
    "duration": 15,
    "start_time": "2022-11-28T09:18:45.099Z"
   },
   {
    "duration": 12,
    "start_time": "2022-11-28T09:21:46.551Z"
   },
   {
    "duration": 11,
    "start_time": "2022-11-28T09:22:03.465Z"
   },
   {
    "duration": 3,
    "start_time": "2022-11-28T09:22:25.288Z"
   },
   {
    "duration": 87,
    "start_time": "2022-11-28T09:22:25.294Z"
   },
   {
    "duration": 19,
    "start_time": "2022-11-28T09:22:25.383Z"
   },
   {
    "duration": 39,
    "start_time": "2022-11-28T09:22:25.404Z"
   },
   {
    "duration": 17,
    "start_time": "2022-11-28T09:22:25.446Z"
   },
   {
    "duration": 19,
    "start_time": "2022-11-28T09:22:25.465Z"
   },
   {
    "duration": 14,
    "start_time": "2022-11-28T09:22:25.486Z"
   },
   {
    "duration": 9,
    "start_time": "2022-11-28T09:22:25.502Z"
   },
   {
    "duration": 30,
    "start_time": "2022-11-28T09:22:25.513Z"
   },
   {
    "duration": 8,
    "start_time": "2022-11-28T09:22:25.544Z"
   },
   {
    "duration": 6,
    "start_time": "2022-11-28T09:26:10.767Z"
   },
   {
    "duration": 11,
    "start_time": "2022-11-28T09:28:06.602Z"
   },
   {
    "duration": 10,
    "start_time": "2022-11-28T09:32:11.239Z"
   },
   {
    "duration": 7,
    "start_time": "2022-11-28T09:32:19.677Z"
   },
   {
    "duration": 9,
    "start_time": "2022-11-28T09:34:43.857Z"
   },
   {
    "duration": 12,
    "start_time": "2022-11-28T09:39:39.973Z"
   },
   {
    "duration": 8,
    "start_time": "2022-11-28T09:43:23.775Z"
   },
   {
    "duration": 1297,
    "start_time": "2022-11-28T09:47:29.028Z"
   },
   {
    "duration": 4,
    "start_time": "2022-11-28T09:47:52.507Z"
   },
   {
    "duration": 8,
    "start_time": "2022-11-28T09:49:14.318Z"
   },
   {
    "duration": 175,
    "start_time": "2022-11-28T09:50:38.511Z"
   },
   {
    "duration": 147,
    "start_time": "2022-11-28T09:50:48.563Z"
   },
   {
    "duration": 147,
    "start_time": "2022-11-28T09:58:24.792Z"
   },
   {
    "duration": 138,
    "start_time": "2022-11-28T09:58:29.225Z"
   },
   {
    "duration": 162,
    "start_time": "2022-11-28T10:02:05.790Z"
   },
   {
    "duration": 143,
    "start_time": "2022-11-28T10:02:09.850Z"
   },
   {
    "duration": 140,
    "start_time": "2022-11-28T10:04:21.070Z"
   },
   {
    "duration": 11,
    "start_time": "2022-11-28T10:08:27.302Z"
   },
   {
    "duration": 18,
    "start_time": "2022-11-28T10:08:57.610Z"
   },
   {
    "duration": 16,
    "start_time": "2022-11-28T10:10:07.689Z"
   },
   {
    "duration": 7,
    "start_time": "2022-11-28T10:18:49.240Z"
   },
   {
    "duration": 5,
    "start_time": "2022-11-28T10:19:45.111Z"
   },
   {
    "duration": 6,
    "start_time": "2022-11-28T10:19:53.896Z"
   },
   {
    "duration": 6,
    "start_time": "2022-11-28T10:19:59.925Z"
   },
   {
    "duration": 177,
    "start_time": "2022-11-28T10:20:19.577Z"
   },
   {
    "duration": 161,
    "start_time": "2022-11-28T10:20:25.488Z"
   },
   {
    "duration": 23,
    "start_time": "2022-11-28T10:25:09.564Z"
   },
   {
    "duration": 21,
    "start_time": "2022-11-28T10:31:08.153Z"
   },
   {
    "duration": 456,
    "start_time": "2022-11-28T10:33:04.724Z"
   },
   {
    "duration": 1195,
    "start_time": "2022-11-28T10:33:44.939Z"
   },
   {
    "duration": 1380,
    "start_time": "2022-11-28T10:34:20.454Z"
   },
   {
    "duration": 14,
    "start_time": "2022-11-28T10:34:32.477Z"
   },
   {
    "duration": 19,
    "start_time": "2022-11-28T10:37:53.915Z"
   },
   {
    "duration": 21,
    "start_time": "2022-11-28T10:38:49.809Z"
   },
   {
    "duration": 19,
    "start_time": "2022-11-28T10:39:01.208Z"
   },
   {
    "duration": 20,
    "start_time": "2022-11-28T10:40:08.549Z"
   },
   {
    "duration": 12,
    "start_time": "2022-11-28T10:41:43.263Z"
   },
   {
    "duration": 12,
    "start_time": "2022-11-28T10:42:05.900Z"
   },
   {
    "duration": 18,
    "start_time": "2022-11-28T10:42:40.930Z"
   },
   {
    "duration": 25,
    "start_time": "2022-11-28T10:42:58.839Z"
   },
   {
    "duration": 8,
    "start_time": "2022-11-28T10:46:19.395Z"
   },
   {
    "duration": 1231,
    "start_time": "2022-11-28T10:46:34.792Z"
   },
   {
    "duration": 1139,
    "start_time": "2022-11-28T10:51:38.354Z"
   },
   {
    "duration": 14,
    "start_time": "2022-11-28T10:53:05.500Z"
   },
   {
    "duration": 21,
    "start_time": "2022-11-28T10:54:22.369Z"
   },
   {
    "duration": 30,
    "start_time": "2022-11-28T10:55:18.643Z"
   },
   {
    "duration": 20,
    "start_time": "2022-11-28T10:59:25.769Z"
   },
   {
    "duration": 20,
    "start_time": "2022-11-28T10:59:51.532Z"
   },
   {
    "duration": 21,
    "start_time": "2022-11-28T11:00:12.824Z"
   },
   {
    "duration": 9,
    "start_time": "2022-11-28T11:03:25.466Z"
   },
   {
    "duration": 191,
    "start_time": "2022-11-28T11:03:47.762Z"
   },
   {
    "duration": 22,
    "start_time": "2022-11-28T11:08:02.043Z"
   },
   {
    "duration": 24,
    "start_time": "2022-11-28T11:09:26.691Z"
   },
   {
    "duration": 13,
    "start_time": "2022-11-28T11:10:19.714Z"
   },
   {
    "duration": 63,
    "start_time": "2022-11-28T11:10:33.568Z"
   },
   {
    "duration": 490,
    "start_time": "2022-11-28T11:11:00.439Z"
   },
   {
    "duration": 19,
    "start_time": "2022-11-28T11:11:31.620Z"
   },
   {
    "duration": 178,
    "start_time": "2022-11-28T11:14:56.231Z"
   },
   {
    "duration": 271,
    "start_time": "2022-11-28T11:15:02.666Z"
   },
   {
    "duration": 27,
    "start_time": "2022-11-28T11:15:33.121Z"
   },
   {
    "duration": 25,
    "start_time": "2022-11-28T11:16:23.206Z"
   },
   {
    "duration": 10,
    "start_time": "2022-11-28T11:19:23.426Z"
   },
   {
    "duration": 81,
    "start_time": "2022-11-28T11:23:11.764Z"
   },
   {
    "duration": 30,
    "start_time": "2022-11-28T11:28:21.929Z"
   },
   {
    "duration": 28,
    "start_time": "2022-11-28T11:28:59.326Z"
   },
   {
    "duration": 2927,
    "start_time": "2022-11-28T11:29:40.593Z"
   },
   {
    "duration": 4146,
    "start_time": "2022-11-28T11:31:34.230Z"
   },
   {
    "duration": 13,
    "start_time": "2022-11-28T11:33:25.365Z"
   },
   {
    "duration": 77,
    "start_time": "2022-11-28T11:35:58.600Z"
   },
   {
    "duration": 4525,
    "start_time": "2022-11-28T11:36:11.638Z"
   },
   {
    "duration": 5,
    "start_time": "2022-11-28T11:36:47.113Z"
   },
   {
    "duration": 17,
    "start_time": "2022-11-28T11:36:57.637Z"
   },
   {
    "duration": 70,
    "start_time": "2022-11-28T11:38:39.682Z"
   },
   {
    "duration": 11,
    "start_time": "2022-11-28T11:38:46.101Z"
   },
   {
    "duration": 355,
    "start_time": "2022-11-28T11:40:14.601Z"
   },
   {
    "duration": 254,
    "start_time": "2022-11-28T11:40:43.037Z"
   },
   {
    "duration": 394,
    "start_time": "2022-11-28T11:42:48.578Z"
   },
   {
    "duration": 433,
    "start_time": "2022-11-28T11:43:15.862Z"
   },
   {
    "duration": 994,
    "start_time": "2022-11-28T11:43:57.375Z"
   },
   {
    "duration": 1122,
    "start_time": "2022-11-28T11:51:56.176Z"
   },
   {
    "duration": 205,
    "start_time": "2022-11-28T11:51:57.300Z"
   },
   {
    "duration": 16,
    "start_time": "2022-11-28T11:51:57.507Z"
   },
   {
    "duration": 26,
    "start_time": "2022-11-28T11:51:57.525Z"
   },
   {
    "duration": 22,
    "start_time": "2022-11-28T11:51:57.554Z"
   },
   {
    "duration": 15,
    "start_time": "2022-11-28T11:51:57.578Z"
   },
   {
    "duration": 24,
    "start_time": "2022-11-28T11:51:57.595Z"
   },
   {
    "duration": 34,
    "start_time": "2022-11-28T11:51:57.621Z"
   },
   {
    "duration": 20,
    "start_time": "2022-11-28T11:51:57.657Z"
   },
   {
    "duration": 12,
    "start_time": "2022-11-28T11:51:57.678Z"
   },
   {
    "duration": 19,
    "start_time": "2022-11-28T11:51:57.692Z"
   },
   {
    "duration": 130,
    "start_time": "2022-11-28T11:51:57.713Z"
   },
   {
    "duration": 0,
    "start_time": "2022-11-28T11:51:57.845Z"
   },
   {
    "duration": 0,
    "start_time": "2022-11-28T11:51:57.847Z"
   },
   {
    "duration": 0,
    "start_time": "2022-11-28T11:51:57.848Z"
   },
   {
    "duration": 0,
    "start_time": "2022-11-28T11:51:57.850Z"
   },
   {
    "duration": 0,
    "start_time": "2022-11-28T11:51:57.851Z"
   },
   {
    "duration": 0,
    "start_time": "2022-11-28T11:51:57.852Z"
   },
   {
    "duration": 0,
    "start_time": "2022-11-28T11:51:57.853Z"
   },
   {
    "duration": 0,
    "start_time": "2022-11-28T11:51:57.855Z"
   },
   {
    "duration": 0,
    "start_time": "2022-11-28T11:51:57.856Z"
   },
   {
    "duration": 0,
    "start_time": "2022-11-28T11:51:57.857Z"
   },
   {
    "duration": 0,
    "start_time": "2022-11-28T11:51:57.858Z"
   },
   {
    "duration": 0,
    "start_time": "2022-11-28T11:51:57.859Z"
   },
   {
    "duration": 28,
    "start_time": "2022-11-28T11:52:44.154Z"
   },
   {
    "duration": 14,
    "start_time": "2022-11-28T11:54:17.875Z"
   },
   {
    "duration": 21,
    "start_time": "2022-11-28T11:54:24.357Z"
   },
   {
    "duration": 30,
    "start_time": "2022-11-28T11:55:11.578Z"
   },
   {
    "duration": 7,
    "start_time": "2022-11-28T11:56:27.390Z"
   },
   {
    "duration": 14,
    "start_time": "2022-11-28T11:56:31.661Z"
   },
   {
    "duration": 9,
    "start_time": "2022-11-28T11:56:48.429Z"
   },
   {
    "duration": 4,
    "start_time": "2022-11-28T11:56:53.512Z"
   },
   {
    "duration": 8,
    "start_time": "2022-11-28T11:56:55.562Z"
   },
   {
    "duration": 185,
    "start_time": "2022-11-28T11:56:57.673Z"
   },
   {
    "duration": 137,
    "start_time": "2022-11-28T11:57:02.512Z"
   },
   {
    "duration": 150,
    "start_time": "2022-11-28T11:57:05.139Z"
   },
   {
    "duration": 130,
    "start_time": "2022-11-28T11:57:14.750Z"
   },
   {
    "duration": 16,
    "start_time": "2022-11-28T11:57:17.025Z"
   },
   {
    "duration": 5,
    "start_time": "2022-11-28T11:57:22.316Z"
   },
   {
    "duration": 167,
    "start_time": "2022-11-28T11:57:24.760Z"
   },
   {
    "duration": 1176,
    "start_time": "2022-11-28T11:57:29.171Z"
   },
   {
    "duration": 28,
    "start_time": "2022-11-28T11:59:19.989Z"
   },
   {
    "duration": 2893,
    "start_time": "2022-11-28T12:02:50.400Z"
   },
   {
    "duration": 3015,
    "start_time": "2022-11-28T12:04:49.844Z"
   },
   {
    "duration": 9,
    "start_time": "2022-11-28T12:05:58.384Z"
   },
   {
    "duration": 2,
    "start_time": "2022-11-28T12:06:31.864Z"
   },
   {
    "duration": 12,
    "start_time": "2022-11-28T12:10:04.648Z"
   },
   {
    "duration": 28,
    "start_time": "2022-11-28T12:10:08.852Z"
   },
   {
    "duration": 115,
    "start_time": "2022-11-28T12:10:42.623Z"
   },
   {
    "duration": 2794,
    "start_time": "2022-11-28T12:11:04.072Z"
   },
   {
    "duration": 20,
    "start_time": "2022-11-28T12:14:30.392Z"
   },
   {
    "duration": 20,
    "start_time": "2022-11-28T12:15:22.546Z"
   },
   {
    "duration": 21,
    "start_time": "2022-11-28T12:23:48.021Z"
   },
   {
    "duration": 9,
    "start_time": "2022-11-28T13:09:59.617Z"
   },
   {
    "duration": 5,
    "start_time": "2022-11-28T13:10:08.768Z"
   },
   {
    "duration": 28,
    "start_time": "2022-11-28T13:13:02.101Z"
   },
   {
    "duration": 45,
    "start_time": "2022-11-28T13:13:28.925Z"
   },
   {
    "duration": 28,
    "start_time": "2022-11-28T13:15:05.074Z"
   },
   {
    "duration": 89,
    "start_time": "2022-11-28T13:17:24.721Z"
   },
   {
    "duration": 73,
    "start_time": "2022-11-28T13:18:40.202Z"
   },
   {
    "duration": 78,
    "start_time": "2022-11-28T13:18:45.528Z"
   },
   {
    "duration": 12,
    "start_time": "2022-11-28T13:20:35.730Z"
   },
   {
    "duration": 25,
    "start_time": "2022-11-28T13:25:31.797Z"
   },
   {
    "duration": 26,
    "start_time": "2022-11-28T13:26:14.409Z"
   },
   {
    "duration": 16,
    "start_time": "2022-11-28T13:26:44.378Z"
   },
   {
    "duration": 10,
    "start_time": "2022-11-28T13:26:57.811Z"
   },
   {
    "duration": 12,
    "start_time": "2022-11-28T13:27:23.423Z"
   },
   {
    "duration": 10,
    "start_time": "2022-11-28T13:27:32.718Z"
   },
   {
    "duration": 11,
    "start_time": "2022-11-28T13:33:05.934Z"
   },
   {
    "duration": 2,
    "start_time": "2022-11-28T13:33:11.956Z"
   },
   {
    "duration": 69,
    "start_time": "2022-11-28T13:41:49.222Z"
   },
   {
    "duration": 81,
    "start_time": "2022-11-28T13:41:54.289Z"
   },
   {
    "duration": 16,
    "start_time": "2022-11-28T13:45:32.979Z"
   },
   {
    "duration": 14,
    "start_time": "2022-11-28T13:47:30.402Z"
   },
   {
    "duration": 30,
    "start_time": "2022-11-28T13:54:54.647Z"
   },
   {
    "duration": 8,
    "start_time": "2022-11-28T13:57:30.366Z"
   },
   {
    "duration": 3,
    "start_time": "2022-11-28T13:57:39.060Z"
   },
   {
    "duration": 77,
    "start_time": "2022-11-28T13:57:39.064Z"
   },
   {
    "duration": 14,
    "start_time": "2022-11-28T13:57:39.143Z"
   },
   {
    "duration": 25,
    "start_time": "2022-11-28T13:57:39.158Z"
   },
   {
    "duration": 19,
    "start_time": "2022-11-28T13:57:39.185Z"
   },
   {
    "duration": 18,
    "start_time": "2022-11-28T13:57:39.205Z"
   },
   {
    "duration": 10,
    "start_time": "2022-11-28T13:57:39.241Z"
   },
   {
    "duration": 10,
    "start_time": "2022-11-28T13:57:39.253Z"
   },
   {
    "duration": 9,
    "start_time": "2022-11-28T13:57:39.265Z"
   },
   {
    "duration": 11,
    "start_time": "2022-11-28T13:57:39.275Z"
   },
   {
    "duration": 18,
    "start_time": "2022-11-28T13:57:39.287Z"
   },
   {
    "duration": 27,
    "start_time": "2022-11-28T13:57:39.307Z"
   },
   {
    "duration": 0,
    "start_time": "2022-11-28T13:57:39.335Z"
   },
   {
    "duration": 0,
    "start_time": "2022-11-28T13:57:39.336Z"
   },
   {
    "duration": 0,
    "start_time": "2022-11-28T13:57:39.337Z"
   },
   {
    "duration": 0,
    "start_time": "2022-11-28T13:57:39.338Z"
   },
   {
    "duration": 0,
    "start_time": "2022-11-28T13:57:39.339Z"
   },
   {
    "duration": 0,
    "start_time": "2022-11-28T13:57:39.340Z"
   },
   {
    "duration": 0,
    "start_time": "2022-11-28T13:57:39.341Z"
   },
   {
    "duration": 0,
    "start_time": "2022-11-28T13:57:39.341Z"
   },
   {
    "duration": 0,
    "start_time": "2022-11-28T13:57:39.342Z"
   },
   {
    "duration": 0,
    "start_time": "2022-11-28T13:57:39.343Z"
   },
   {
    "duration": 0,
    "start_time": "2022-11-28T13:57:39.344Z"
   },
   {
    "duration": 0,
    "start_time": "2022-11-28T13:57:39.345Z"
   },
   {
    "duration": 31,
    "start_time": "2022-11-28T13:58:20.811Z"
   },
   {
    "duration": 12,
    "start_time": "2022-11-28T14:01:10.099Z"
   },
   {
    "duration": 10,
    "start_time": "2022-11-28T14:01:21.817Z"
   },
   {
    "duration": 13,
    "start_time": "2022-11-28T14:01:31.546Z"
   },
   {
    "duration": 7,
    "start_time": "2022-11-28T14:01:55.944Z"
   },
   {
    "duration": 5,
    "start_time": "2022-11-28T14:01:59.347Z"
   },
   {
    "duration": 9,
    "start_time": "2022-11-28T14:02:02.314Z"
   },
   {
    "duration": 171,
    "start_time": "2022-11-28T14:02:13.287Z"
   },
   {
    "duration": 16,
    "start_time": "2022-11-28T14:02:20.748Z"
   },
   {
    "duration": 6,
    "start_time": "2022-11-28T14:02:33.211Z"
   },
   {
    "duration": 173,
    "start_time": "2022-11-28T14:02:38.124Z"
   },
   {
    "duration": 586,
    "start_time": "2022-11-28T14:04:19.127Z"
   },
   {
    "duration": 1998,
    "start_time": "2022-11-28T14:08:52.684Z"
   },
   {
    "duration": 7,
    "start_time": "2022-11-28T14:21:50.853Z"
   },
   {
    "duration": 6,
    "start_time": "2022-11-28T14:22:59.499Z"
   },
   {
    "duration": 20,
    "start_time": "2022-11-28T14:24:08.067Z"
   },
   {
    "duration": 31,
    "start_time": "2022-11-28T14:24:28.910Z"
   },
   {
    "duration": 271,
    "start_time": "2022-11-28T14:25:46.475Z"
   },
   {
    "duration": 245,
    "start_time": "2022-11-28T14:25:54.270Z"
   },
   {
    "duration": 6,
    "start_time": "2022-11-28T14:26:34.905Z"
   },
   {
    "duration": 359,
    "start_time": "2022-11-28T14:26:37.822Z"
   },
   {
    "duration": 12,
    "start_time": "2022-11-28T14:42:26.881Z"
   },
   {
    "duration": 307,
    "start_time": "2022-11-28T14:42:45.853Z"
   },
   {
    "duration": 306,
    "start_time": "2022-11-28T14:42:52.637Z"
   },
   {
    "duration": 11,
    "start_time": "2022-11-28T14:53:21.072Z"
   },
   {
    "duration": 9,
    "start_time": "2022-11-28T14:54:40.325Z"
   },
   {
    "duration": 9,
    "start_time": "2022-11-28T14:54:57.243Z"
   },
   {
    "duration": 10,
    "start_time": "2022-11-28T14:55:10.502Z"
   },
   {
    "duration": 10,
    "start_time": "2022-11-28T14:56:01.299Z"
   },
   {
    "duration": 13,
    "start_time": "2022-11-28T14:56:04.200Z"
   },
   {
    "duration": 12,
    "start_time": "2022-11-28T14:57:31.539Z"
   },
   {
    "duration": 10,
    "start_time": "2022-11-28T14:58:32.929Z"
   },
   {
    "duration": 10,
    "start_time": "2022-11-28T14:58:49.110Z"
   },
   {
    "duration": 258,
    "start_time": "2022-11-28T15:02:52.605Z"
   },
   {
    "duration": 248,
    "start_time": "2022-11-28T15:02:58.323Z"
   },
   {
    "duration": 129,
    "start_time": "2022-11-28T15:07:20.440Z"
   },
   {
    "duration": 126,
    "start_time": "2022-11-28T15:07:30.691Z"
   },
   {
    "duration": 9,
    "start_time": "2022-11-28T15:08:11.371Z"
   },
   {
    "duration": 211,
    "start_time": "2022-11-28T15:08:14.180Z"
   },
   {
    "duration": 11,
    "start_time": "2022-11-28T15:08:17.770Z"
   },
   {
    "duration": 10,
    "start_time": "2022-11-28T15:08:24.042Z"
   },
   {
    "duration": 369,
    "start_time": "2022-11-28T15:11:53.528Z"
   },
   {
    "duration": 325,
    "start_time": "2022-11-28T15:12:02.616Z"
   },
   {
    "duration": 349,
    "start_time": "2022-11-28T15:17:11.244Z"
   },
   {
    "duration": 334,
    "start_time": "2022-11-28T15:17:20.525Z"
   },
   {
    "duration": 14,
    "start_time": "2022-11-28T15:17:26.637Z"
   },
   {
    "duration": 241,
    "start_time": "2022-11-28T15:21:45.696Z"
   },
   {
    "duration": 202,
    "start_time": "2022-11-28T15:21:53.119Z"
   },
   {
    "duration": 228,
    "start_time": "2022-11-28T15:22:45.751Z"
   },
   {
    "duration": 199,
    "start_time": "2022-11-28T15:27:32.305Z"
   },
   {
    "duration": 68,
    "start_time": "2022-11-28T15:29:02.109Z"
   },
   {
    "duration": 193,
    "start_time": "2022-11-28T15:30:29.886Z"
   },
   {
    "duration": 220,
    "start_time": "2022-11-28T15:34:33.799Z"
   },
   {
    "duration": 10,
    "start_time": "2022-11-28T15:40:35.314Z"
   },
   {
    "duration": 9,
    "start_time": "2022-11-28T15:41:01.598Z"
   },
   {
    "duration": 12,
    "start_time": "2022-11-28T15:41:58.673Z"
   },
   {
    "duration": 9,
    "start_time": "2022-11-28T15:42:17.712Z"
   },
   {
    "duration": 10,
    "start_time": "2022-11-28T15:42:54.716Z"
   },
   {
    "duration": 14,
    "start_time": "2022-11-28T15:44:37.955Z"
   },
   {
    "duration": 14,
    "start_time": "2022-11-28T15:45:27.333Z"
   },
   {
    "duration": 11,
    "start_time": "2022-11-28T15:46:16.761Z"
   },
   {
    "duration": 15,
    "start_time": "2022-11-28T15:46:37.506Z"
   },
   {
    "duration": 20,
    "start_time": "2022-11-28T15:47:16.859Z"
   },
   {
    "duration": 13,
    "start_time": "2022-11-28T15:51:21.543Z"
   },
   {
    "duration": 14,
    "start_time": "2022-11-28T15:52:46.375Z"
   },
   {
    "duration": 14,
    "start_time": "2022-11-28T15:54:28.071Z"
   },
   {
    "duration": 9,
    "start_time": "2022-11-28T15:55:57.309Z"
   },
   {
    "duration": 14,
    "start_time": "2022-11-28T15:56:25.138Z"
   },
   {
    "duration": 111,
    "start_time": "2022-11-28T15:56:53.380Z"
   },
   {
    "duration": 13,
    "start_time": "2022-11-28T15:59:21.775Z"
   },
   {
    "duration": 8,
    "start_time": "2022-11-28T16:07:43.724Z"
   },
   {
    "duration": 16,
    "start_time": "2022-11-28T16:11:37.098Z"
   },
   {
    "duration": 10,
    "start_time": "2022-11-28T16:20:17.783Z"
   },
   {
    "duration": 5,
    "start_time": "2022-11-28T16:23:07.897Z"
   },
   {
    "duration": 11,
    "start_time": "2022-11-28T16:26:19.739Z"
   },
   {
    "duration": 6,
    "start_time": "2022-11-28T16:27:11.135Z"
   },
   {
    "duration": 5,
    "start_time": "2022-11-28T16:30:15.360Z"
   },
   {
    "duration": 3,
    "start_time": "2022-11-28T16:42:12.776Z"
   },
   {
    "duration": 76,
    "start_time": "2022-11-28T16:42:12.781Z"
   },
   {
    "duration": 14,
    "start_time": "2022-11-28T16:42:12.859Z"
   },
   {
    "duration": 25,
    "start_time": "2022-11-28T16:42:12.875Z"
   },
   {
    "duration": 38,
    "start_time": "2022-11-28T16:42:12.902Z"
   },
   {
    "duration": 14,
    "start_time": "2022-11-28T16:42:12.942Z"
   },
   {
    "duration": 12,
    "start_time": "2022-11-28T16:42:12.958Z"
   },
   {
    "duration": 6,
    "start_time": "2022-11-28T16:42:12.971Z"
   },
   {
    "duration": 6,
    "start_time": "2022-11-28T16:42:12.978Z"
   },
   {
    "duration": 5,
    "start_time": "2022-11-28T16:42:12.985Z"
   },
   {
    "duration": 6,
    "start_time": "2022-11-28T16:42:12.991Z"
   },
   {
    "duration": 43,
    "start_time": "2022-11-28T16:42:12.998Z"
   },
   {
    "duration": 17,
    "start_time": "2022-11-28T16:42:13.043Z"
   },
   {
    "duration": 7,
    "start_time": "2022-11-28T16:42:13.063Z"
   },
   {
    "duration": 4,
    "start_time": "2022-11-28T16:42:13.072Z"
   },
   {
    "duration": 7,
    "start_time": "2022-11-28T16:42:13.078Z"
   },
   {
    "duration": 195,
    "start_time": "2022-11-28T16:42:13.086Z"
   },
   {
    "duration": 156,
    "start_time": "2022-11-28T16:42:13.283Z"
   },
   {
    "duration": 164,
    "start_time": "2022-11-28T16:42:13.441Z"
   },
   {
    "duration": 157,
    "start_time": "2022-11-28T16:42:13.607Z"
   },
   {
    "duration": 17,
    "start_time": "2022-11-28T16:42:13.766Z"
   },
   {
    "duration": 6,
    "start_time": "2022-11-28T16:42:13.785Z"
   },
   {
    "duration": 211,
    "start_time": "2022-11-28T16:42:13.793Z"
   },
   {
    "duration": 2138,
    "start_time": "2022-11-28T16:42:14.005Z"
   },
   {
    "duration": 8,
    "start_time": "2022-11-28T16:42:16.145Z"
   },
   {
    "duration": 293,
    "start_time": "2022-11-28T16:42:16.155Z"
   },
   {
    "duration": 309,
    "start_time": "2022-11-28T16:42:16.449Z"
   },
   {
    "duration": 131,
    "start_time": "2022-11-28T16:42:16.759Z"
   },
   {
    "duration": 10,
    "start_time": "2022-11-28T16:42:16.892Z"
   },
   {
    "duration": 11,
    "start_time": "2022-11-28T16:42:16.903Z"
   },
   {
    "duration": 28,
    "start_time": "2022-11-28T16:42:16.915Z"
   },
   {
    "duration": 9,
    "start_time": "2022-11-28T16:42:16.945Z"
   },
   {
    "duration": 16,
    "start_time": "2022-11-28T16:42:16.955Z"
   },
   {
    "duration": 353,
    "start_time": "2022-11-28T16:42:16.973Z"
   },
   {
    "duration": 21,
    "start_time": "2022-11-28T16:42:17.328Z"
   },
   {
    "duration": 218,
    "start_time": "2022-11-28T16:42:17.351Z"
   },
   {
    "duration": 14,
    "start_time": "2022-11-28T16:42:17.571Z"
   },
   {
    "duration": 224,
    "start_time": "2022-11-28T16:42:17.586Z"
   },
   {
    "duration": 27,
    "start_time": "2022-11-28T16:42:17.812Z"
   },
   {
    "duration": 228,
    "start_time": "2022-11-28T16:42:17.840Z"
   },
   {
    "duration": 15,
    "start_time": "2022-11-28T16:42:18.073Z"
   },
   {
    "duration": 219,
    "start_time": "2022-11-28T16:42:18.090Z"
   },
   {
    "duration": 13,
    "start_time": "2022-11-28T16:42:18.311Z"
   },
   {
    "duration": 14,
    "start_time": "2022-11-28T16:42:18.338Z"
   },
   {
    "duration": 32,
    "start_time": "2022-11-28T16:42:18.353Z"
   },
   {
    "duration": 13,
    "start_time": "2022-11-28T16:42:18.386Z"
   },
   {
    "duration": 14,
    "start_time": "2022-11-28T16:42:18.401Z"
   },
   {
    "duration": 35,
    "start_time": "2022-11-28T16:42:18.417Z"
   },
   {
    "duration": 10,
    "start_time": "2022-11-28T16:42:18.454Z"
   },
   {
    "duration": 16,
    "start_time": "2022-11-28T16:42:18.466Z"
   },
   {
    "duration": 21,
    "start_time": "2022-11-28T16:42:18.483Z"
   },
   {
    "duration": 7,
    "start_time": "2022-11-28T16:42:18.506Z"
   },
   {
    "duration": 14,
    "start_time": "2022-11-28T16:44:40.367Z"
   },
   {
    "duration": 10,
    "start_time": "2022-11-28T16:44:55.134Z"
   },
   {
    "duration": 18,
    "start_time": "2022-11-28T16:45:04.187Z"
   },
   {
    "duration": 5,
    "start_time": "2022-11-28T16:45:10.684Z"
   },
   {
    "duration": 1149,
    "start_time": "2022-11-28T17:42:42.518Z"
   },
   {
    "duration": 66,
    "start_time": "2022-11-28T17:42:43.672Z"
   },
   {
    "duration": 12,
    "start_time": "2022-11-28T17:42:43.740Z"
   },
   {
    "duration": 39,
    "start_time": "2022-11-28T17:42:43.754Z"
   },
   {
    "duration": 8,
    "start_time": "2022-11-28T17:42:43.795Z"
   },
   {
    "duration": 37,
    "start_time": "2022-11-28T17:42:43.806Z"
   },
   {
    "duration": 33,
    "start_time": "2022-11-28T17:42:43.845Z"
   },
   {
    "duration": 15,
    "start_time": "2022-11-28T17:42:43.880Z"
   },
   {
    "duration": 6,
    "start_time": "2022-11-28T17:42:43.898Z"
   },
   {
    "duration": 21,
    "start_time": "2022-11-28T17:42:43.905Z"
   },
   {
    "duration": 21,
    "start_time": "2022-11-28T17:42:43.928Z"
   },
   {
    "duration": 29,
    "start_time": "2022-11-28T17:42:43.951Z"
   },
   {
    "duration": 27,
    "start_time": "2022-11-28T17:42:43.982Z"
   },
   {
    "duration": 14,
    "start_time": "2022-11-28T17:42:44.011Z"
   },
   {
    "duration": 31,
    "start_time": "2022-11-28T17:42:44.027Z"
   },
   {
    "duration": 19,
    "start_time": "2022-11-28T17:42:44.059Z"
   },
   {
    "duration": 190,
    "start_time": "2022-11-28T17:42:44.080Z"
   },
   {
    "duration": 166,
    "start_time": "2022-11-28T17:42:44.271Z"
   },
   {
    "duration": 166,
    "start_time": "2022-11-28T17:42:44.439Z"
   },
   {
    "duration": 148,
    "start_time": "2022-11-28T17:42:44.607Z"
   },
   {
    "duration": 22,
    "start_time": "2022-11-28T17:42:44.757Z"
   },
   {
    "duration": 7,
    "start_time": "2022-11-28T17:42:44.780Z"
   },
   {
    "duration": 208,
    "start_time": "2022-11-28T17:42:44.788Z"
   },
   {
    "duration": 2299,
    "start_time": "2022-11-28T17:42:44.998Z"
   },
   {
    "duration": 8,
    "start_time": "2022-11-28T17:42:47.299Z"
   },
   {
    "duration": 318,
    "start_time": "2022-11-28T17:42:47.309Z"
   },
   {
    "duration": 314,
    "start_time": "2022-11-28T17:42:47.631Z"
   },
   {
    "duration": 131,
    "start_time": "2022-11-28T17:42:47.954Z"
   },
   {
    "duration": 10,
    "start_time": "2022-11-28T17:42:48.087Z"
   },
   {
    "duration": 22,
    "start_time": "2022-11-28T17:42:48.099Z"
   },
   {
    "duration": 11,
    "start_time": "2022-11-28T17:42:48.123Z"
   },
   {
    "duration": 32,
    "start_time": "2022-11-28T17:42:48.135Z"
   },
   {
    "duration": 34,
    "start_time": "2022-11-28T17:42:48.169Z"
   },
   {
    "duration": 338,
    "start_time": "2022-11-28T17:42:48.204Z"
   },
   {
    "duration": 25,
    "start_time": "2022-11-28T17:42:48.544Z"
   },
   {
    "duration": 221,
    "start_time": "2022-11-28T17:42:48.571Z"
   },
   {
    "duration": 14,
    "start_time": "2022-11-28T17:42:48.793Z"
   },
   {
    "duration": 267,
    "start_time": "2022-11-28T17:42:48.809Z"
   },
   {
    "duration": 19,
    "start_time": "2022-11-28T17:42:49.079Z"
   },
   {
    "duration": 247,
    "start_time": "2022-11-28T17:42:49.100Z"
   },
   {
    "duration": 24,
    "start_time": "2022-11-28T17:42:49.351Z"
   },
   {
    "duration": 340,
    "start_time": "2022-11-28T17:42:49.377Z"
   },
   {
    "duration": 14,
    "start_time": "2022-11-28T17:42:49.719Z"
   },
   {
    "duration": 35,
    "start_time": "2022-11-28T17:42:49.735Z"
   },
   {
    "duration": 16,
    "start_time": "2022-11-28T17:42:49.772Z"
   },
   {
    "duration": 14,
    "start_time": "2022-11-28T17:42:49.789Z"
   },
   {
    "duration": 19,
    "start_time": "2022-11-28T17:42:49.805Z"
   },
   {
    "duration": 36,
    "start_time": "2022-11-28T17:42:49.825Z"
   },
   {
    "duration": 10,
    "start_time": "2022-11-28T17:42:49.867Z"
   },
   {
    "duration": 5,
    "start_time": "2022-11-28T17:42:49.879Z"
   },
   {
    "duration": 10,
    "start_time": "2022-11-28T17:42:49.886Z"
   },
   {
    "duration": 8,
    "start_time": "2022-11-28T17:42:49.897Z"
   },
   {
    "duration": 1147,
    "start_time": "2022-11-29T05:27:49.816Z"
   },
   {
    "duration": 67,
    "start_time": "2022-11-29T05:27:50.965Z"
   },
   {
    "duration": 14,
    "start_time": "2022-11-29T05:27:51.034Z"
   },
   {
    "duration": 30,
    "start_time": "2022-11-29T05:27:51.050Z"
   },
   {
    "duration": 11,
    "start_time": "2022-11-29T05:27:51.082Z"
   },
   {
    "duration": 15,
    "start_time": "2022-11-29T05:27:51.094Z"
   },
   {
    "duration": 11,
    "start_time": "2022-11-29T05:27:51.111Z"
   },
   {
    "duration": 5,
    "start_time": "2022-11-29T05:27:51.124Z"
   },
   {
    "duration": 21,
    "start_time": "2022-11-29T05:27:51.131Z"
   },
   {
    "duration": 4,
    "start_time": "2022-11-29T05:27:51.155Z"
   },
   {
    "duration": 7,
    "start_time": "2022-11-29T05:27:51.160Z"
   },
   {
    "duration": 11,
    "start_time": "2022-11-29T05:27:51.168Z"
   },
   {
    "duration": 16,
    "start_time": "2022-11-29T05:27:51.181Z"
   },
   {
    "duration": 6,
    "start_time": "2022-11-29T05:27:51.199Z"
   },
   {
    "duration": 6,
    "start_time": "2022-11-29T05:27:51.206Z"
   },
   {
    "duration": 8,
    "start_time": "2022-11-29T05:27:51.213Z"
   },
   {
    "duration": 168,
    "start_time": "2022-11-29T05:27:51.252Z"
   },
   {
    "duration": 144,
    "start_time": "2022-11-29T05:27:51.422Z"
   },
   {
    "duration": 152,
    "start_time": "2022-11-29T05:27:51.568Z"
   },
   {
    "duration": 132,
    "start_time": "2022-11-29T05:27:51.722Z"
   },
   {
    "duration": 14,
    "start_time": "2022-11-29T05:27:51.856Z"
   },
   {
    "duration": 5,
    "start_time": "2022-11-29T05:27:51.872Z"
   },
   {
    "duration": 180,
    "start_time": "2022-11-29T05:27:51.878Z"
   },
   {
    "duration": 2014,
    "start_time": "2022-11-29T05:27:52.060Z"
   },
   {
    "duration": 7,
    "start_time": "2022-11-29T05:27:54.076Z"
   },
   {
    "duration": 299,
    "start_time": "2022-11-29T05:27:54.084Z"
   },
   {
    "duration": 288,
    "start_time": "2022-11-29T05:27:54.384Z"
   },
   {
    "duration": 121,
    "start_time": "2022-11-29T05:27:54.675Z"
   },
   {
    "duration": 11,
    "start_time": "2022-11-29T05:27:54.797Z"
   },
   {
    "duration": 11,
    "start_time": "2022-11-29T05:27:54.809Z"
   },
   {
    "duration": 10,
    "start_time": "2022-11-29T05:27:54.822Z"
   },
   {
    "duration": 9,
    "start_time": "2022-11-29T05:27:54.853Z"
   },
   {
    "duration": 12,
    "start_time": "2022-11-29T05:27:54.863Z"
   },
   {
    "duration": 338,
    "start_time": "2022-11-29T05:27:54.877Z"
   },
   {
    "duration": 14,
    "start_time": "2022-11-29T05:27:55.216Z"
   },
   {
    "duration": 209,
    "start_time": "2022-11-29T05:27:55.232Z"
   },
   {
    "duration": 17,
    "start_time": "2022-11-29T05:27:55.443Z"
   },
   {
    "duration": 213,
    "start_time": "2022-11-29T05:27:55.462Z"
   },
   {
    "duration": 14,
    "start_time": "2022-11-29T05:27:55.677Z"
   },
   {
    "duration": 226,
    "start_time": "2022-11-29T05:27:55.693Z"
   },
   {
    "duration": 13,
    "start_time": "2022-11-29T05:27:55.921Z"
   },
   {
    "duration": 318,
    "start_time": "2022-11-29T05:27:55.936Z"
   },
   {
    "duration": 14,
    "start_time": "2022-11-29T05:27:56.255Z"
   },
   {
    "duration": 13,
    "start_time": "2022-11-29T05:27:56.270Z"
   },
   {
    "duration": 13,
    "start_time": "2022-11-29T05:27:56.285Z"
   },
   {
    "duration": 13,
    "start_time": "2022-11-29T05:27:56.299Z"
   },
   {
    "duration": 43,
    "start_time": "2022-11-29T05:27:56.314Z"
   },
   {
    "duration": 15,
    "start_time": "2022-11-29T05:27:56.359Z"
   },
   {
    "duration": 8,
    "start_time": "2022-11-29T05:27:56.376Z"
   },
   {
    "duration": 7,
    "start_time": "2022-11-29T05:27:56.386Z"
   },
   {
    "duration": 10,
    "start_time": "2022-11-29T05:27:56.394Z"
   },
   {
    "duration": 5,
    "start_time": "2022-11-29T05:27:56.406Z"
   },
   {
    "duration": 1397,
    "start_time": "2022-11-29T12:37:08.329Z"
   },
   {
    "duration": 121,
    "start_time": "2022-11-29T12:37:11.595Z"
   },
   {
    "duration": 14,
    "start_time": "2022-11-29T12:37:17.756Z"
   },
   {
    "duration": 27,
    "start_time": "2022-11-29T12:37:26.386Z"
   },
   {
    "duration": 26,
    "start_time": "2022-11-29T12:37:34.483Z"
   },
   {
    "duration": 11,
    "start_time": "2022-11-29T12:38:15.474Z"
   },
   {
    "duration": 23,
    "start_time": "2022-11-29T12:41:55.231Z"
   },
   {
    "duration": 10,
    "start_time": "2022-11-29T12:43:09.396Z"
   },
   {
    "duration": 5,
    "start_time": "2022-11-29T12:51:37.407Z"
   },
   {
    "duration": 478,
    "start_time": "2022-11-29T12:53:38.972Z"
   },
   {
    "duration": 261,
    "start_time": "2022-11-29T12:56:15.768Z"
   },
   {
    "duration": 107,
    "start_time": "2022-11-29T12:58:08.449Z"
   },
   {
    "duration": 270,
    "start_time": "2022-11-29T12:58:19.443Z"
   },
   {
    "duration": 5,
    "start_time": "2022-11-29T12:59:35.417Z"
   },
   {
    "duration": 5,
    "start_time": "2022-11-29T13:06:47.506Z"
   },
   {
    "duration": 344,
    "start_time": "2022-11-29T13:06:54.135Z"
   },
   {
    "duration": 298,
    "start_time": "2022-11-29T13:16:44.806Z"
   },
   {
    "duration": 5,
    "start_time": "2022-11-29T13:17:12.366Z"
   },
   {
    "duration": 8,
    "start_time": "2022-11-29T13:17:29.284Z"
   },
   {
    "duration": 7,
    "start_time": "2022-11-29T13:17:54.060Z"
   },
   {
    "duration": 6,
    "start_time": "2022-11-29T13:19:00.645Z"
   },
   {
    "duration": 6,
    "start_time": "2022-11-29T13:19:32.026Z"
   },
   {
    "duration": 5,
    "start_time": "2022-11-29T13:24:19.658Z"
   },
   {
    "duration": 8,
    "start_time": "2022-11-29T13:27:09.396Z"
   },
   {
    "duration": 9,
    "start_time": "2022-11-29T13:31:48.676Z"
   },
   {
    "duration": 10,
    "start_time": "2022-11-29T13:43:09.492Z"
   },
   {
    "duration": 12,
    "start_time": "2022-11-29T13:43:41.116Z"
   },
   {
    "duration": 25,
    "start_time": "2022-11-29T13:44:00.341Z"
   },
   {
    "duration": 13,
    "start_time": "2022-11-29T13:44:04.922Z"
   },
   {
    "duration": 6,
    "start_time": "2022-11-29T13:46:58.556Z"
   },
   {
    "duration": 97,
    "start_time": "2022-11-29T13:48:05.157Z"
   },
   {
    "duration": 8,
    "start_time": "2022-11-29T13:49:03.734Z"
   },
   {
    "duration": 7,
    "start_time": "2022-11-29T13:49:06.840Z"
   },
   {
    "duration": 54,
    "start_time": "2022-11-29T13:49:09.535Z"
   },
   {
    "duration": 13,
    "start_time": "2022-11-29T13:49:36.818Z"
   },
   {
    "duration": 7,
    "start_time": "2022-11-29T13:49:39.526Z"
   },
   {
    "duration": 6,
    "start_time": "2022-11-29T13:49:48.015Z"
   },
   {
    "duration": 5,
    "start_time": "2022-11-29T13:50:06.037Z"
   },
   {
    "duration": 159,
    "start_time": "2022-11-29T13:50:06.045Z"
   },
   {
    "duration": 15,
    "start_time": "2022-11-29T13:50:06.206Z"
   },
   {
    "duration": 28,
    "start_time": "2022-11-29T13:50:06.224Z"
   },
   {
    "duration": 46,
    "start_time": "2022-11-29T13:50:06.254Z"
   },
   {
    "duration": 24,
    "start_time": "2022-11-29T13:50:06.302Z"
   },
   {
    "duration": 35,
    "start_time": "2022-11-29T13:50:06.327Z"
   },
   {
    "duration": 17,
    "start_time": "2022-11-29T13:50:06.364Z"
   },
   {
    "duration": 572,
    "start_time": "2022-11-29T13:50:06.383Z"
   },
   {
    "duration": 6,
    "start_time": "2022-11-29T13:50:06.958Z"
   },
   {
    "duration": 17,
    "start_time": "2022-11-29T13:50:06.967Z"
   },
   {
    "duration": 6,
    "start_time": "2022-11-29T13:50:06.987Z"
   },
   {
    "duration": 19,
    "start_time": "2022-11-29T13:50:06.996Z"
   },
   {
    "duration": 30,
    "start_time": "2022-11-29T13:50:07.016Z"
   },
   {
    "duration": 21,
    "start_time": "2022-11-29T13:50:07.048Z"
   },
   {
    "duration": 21,
    "start_time": "2022-11-29T13:50:07.071Z"
   },
   {
    "duration": 29,
    "start_time": "2022-11-29T13:50:07.094Z"
   },
   {
    "duration": 33,
    "start_time": "2022-11-29T13:50:07.125Z"
   },
   {
    "duration": 42,
    "start_time": "2022-11-29T13:50:07.161Z"
   },
   {
    "duration": 11,
    "start_time": "2022-11-29T13:50:07.206Z"
   },
   {
    "duration": 62,
    "start_time": "2022-11-29T13:50:07.219Z"
   },
   {
    "duration": 28,
    "start_time": "2022-11-29T13:50:07.283Z"
   },
   {
    "duration": 15,
    "start_time": "2022-11-29T13:50:07.313Z"
   },
   {
    "duration": 21,
    "start_time": "2022-11-29T13:50:07.330Z"
   },
   {
    "duration": 204,
    "start_time": "2022-11-29T13:50:07.353Z"
   },
   {
    "duration": 179,
    "start_time": "2022-11-29T13:50:07.560Z"
   },
   {
    "duration": 197,
    "start_time": "2022-11-29T13:50:07.742Z"
   },
   {
    "duration": 175,
    "start_time": "2022-11-29T13:50:07.943Z"
   },
   {
    "duration": 26,
    "start_time": "2022-11-29T13:50:08.121Z"
   },
   {
    "duration": 15,
    "start_time": "2022-11-29T13:50:08.150Z"
   },
   {
    "duration": 217,
    "start_time": "2022-11-29T13:50:08.167Z"
   },
   {
    "duration": 2337,
    "start_time": "2022-11-29T13:50:08.386Z"
   },
   {
    "duration": 8,
    "start_time": "2022-11-29T13:50:10.725Z"
   },
   {
    "duration": 325,
    "start_time": "2022-11-29T13:50:10.735Z"
   },
   {
    "duration": 330,
    "start_time": "2022-11-29T13:50:11.062Z"
   },
   {
    "duration": 143,
    "start_time": "2022-11-29T13:50:11.394Z"
   },
   {
    "duration": 11,
    "start_time": "2022-11-29T13:50:11.539Z"
   },
   {
    "duration": 34,
    "start_time": "2022-11-29T13:50:11.552Z"
   },
   {
    "duration": 28,
    "start_time": "2022-11-29T13:50:11.588Z"
   },
   {
    "duration": 14,
    "start_time": "2022-11-29T13:50:11.618Z"
   },
   {
    "duration": 17,
    "start_time": "2022-11-29T13:50:11.634Z"
   },
   {
    "duration": 377,
    "start_time": "2022-11-29T13:50:11.652Z"
   },
   {
    "duration": 17,
    "start_time": "2022-11-29T13:50:12.030Z"
   },
   {
    "duration": 249,
    "start_time": "2022-11-29T13:50:12.049Z"
   },
   {
    "duration": 26,
    "start_time": "2022-11-29T13:50:12.299Z"
   },
   {
    "duration": 277,
    "start_time": "2022-11-29T13:50:12.328Z"
   },
   {
    "duration": 19,
    "start_time": "2022-11-29T13:50:12.607Z"
   },
   {
    "duration": 398,
    "start_time": "2022-11-29T13:50:12.628Z"
   },
   {
    "duration": 16,
    "start_time": "2022-11-29T13:50:13.028Z"
   },
   {
    "duration": 385,
    "start_time": "2022-11-29T13:50:13.046Z"
   },
   {
    "duration": 17,
    "start_time": "2022-11-29T13:50:13.433Z"
   },
   {
    "duration": 163,
    "start_time": "2022-11-29T13:50:13.452Z"
   },
   {
    "duration": 50,
    "start_time": "2022-11-29T13:50:13.616Z"
   },
   {
    "duration": 46,
    "start_time": "2022-11-29T13:50:13.668Z"
   },
   {
    "duration": 23,
    "start_time": "2022-11-29T13:50:13.716Z"
   },
   {
    "duration": 37,
    "start_time": "2022-11-29T13:50:13.741Z"
   },
   {
    "duration": 51,
    "start_time": "2022-11-29T13:50:13.781Z"
   },
   {
    "duration": 26,
    "start_time": "2022-11-29T13:50:13.835Z"
   },
   {
    "duration": 21,
    "start_time": "2022-11-29T13:50:13.864Z"
   },
   {
    "duration": 6,
    "start_time": "2022-11-29T13:50:13.888Z"
   },
   {
    "duration": 10,
    "start_time": "2022-11-29T13:53:33.607Z"
   },
   {
    "duration": 23,
    "start_time": "2022-11-29T13:53:52.532Z"
   },
   {
    "duration": 9,
    "start_time": "2022-11-29T13:57:28.827Z"
   },
   {
    "duration": 6,
    "start_time": "2022-11-29T13:58:21.781Z"
   },
   {
    "duration": 50,
    "start_time": "2022-11-29T14:09:39.906Z"
   },
   {
    "duration": 3,
    "start_time": "2022-11-29T14:16:58.153Z"
   },
   {
    "duration": 82,
    "start_time": "2022-11-29T14:16:58.158Z"
   },
   {
    "duration": 15,
    "start_time": "2022-11-29T14:16:58.242Z"
   },
   {
    "duration": 22,
    "start_time": "2022-11-29T14:16:58.259Z"
   },
   {
    "duration": 40,
    "start_time": "2022-11-29T14:16:58.283Z"
   },
   {
    "duration": 20,
    "start_time": "2022-11-29T14:16:58.325Z"
   },
   {
    "duration": 10,
    "start_time": "2022-11-29T14:16:58.347Z"
   },
   {
    "duration": 10,
    "start_time": "2022-11-29T14:16:58.359Z"
   },
   {
    "duration": 524,
    "start_time": "2022-11-29T14:16:58.372Z"
   },
   {
    "duration": 5,
    "start_time": "2022-11-29T14:16:58.898Z"
   },
   {
    "duration": 9,
    "start_time": "2022-11-29T14:16:58.906Z"
   },
   {
    "duration": 8,
    "start_time": "2022-11-29T14:16:58.917Z"
   },
   {
    "duration": 9,
    "start_time": "2022-11-29T14:16:58.927Z"
   },
   {
    "duration": 24,
    "start_time": "2022-11-29T14:16:58.938Z"
   },
   {
    "duration": 14,
    "start_time": "2022-11-29T14:16:58.964Z"
   },
   {
    "duration": 7,
    "start_time": "2022-11-29T14:16:58.980Z"
   },
   {
    "duration": 9,
    "start_time": "2022-11-29T14:16:59.013Z"
   },
   {
    "duration": 19,
    "start_time": "2022-11-29T14:16:59.024Z"
   },
   {
    "duration": 18,
    "start_time": "2022-11-29T14:16:59.044Z"
   },
   {
    "duration": 9,
    "start_time": "2022-11-29T14:16:59.063Z"
   },
   {
    "duration": 39,
    "start_time": "2022-11-29T14:16:59.074Z"
   },
   {
    "duration": 8,
    "start_time": "2022-11-29T14:16:59.115Z"
   },
   {
    "duration": 7,
    "start_time": "2022-11-29T14:16:59.125Z"
   },
   {
    "duration": 11,
    "start_time": "2022-11-29T14:16:59.133Z"
   },
   {
    "duration": 205,
    "start_time": "2022-11-29T14:16:59.146Z"
   },
   {
    "duration": 162,
    "start_time": "2022-11-29T14:16:59.353Z"
   },
   {
    "duration": 167,
    "start_time": "2022-11-29T14:16:59.517Z"
   },
   {
    "duration": 170,
    "start_time": "2022-11-29T14:16:59.686Z"
   },
   {
    "duration": 17,
    "start_time": "2022-11-29T14:16:59.861Z"
   },
   {
    "duration": 6,
    "start_time": "2022-11-29T14:16:59.880Z"
   },
   {
    "duration": 222,
    "start_time": "2022-11-29T14:16:59.888Z"
   },
   {
    "duration": 2263,
    "start_time": "2022-11-29T14:17:00.112Z"
   },
   {
    "duration": 8,
    "start_time": "2022-11-29T14:17:02.378Z"
   },
   {
    "duration": 279,
    "start_time": "2022-11-29T14:17:02.387Z"
   },
   {
    "duration": 338,
    "start_time": "2022-11-29T14:17:02.668Z"
   },
   {
    "duration": 140,
    "start_time": "2022-11-29T14:17:03.008Z"
   },
   {
    "duration": 12,
    "start_time": "2022-11-29T14:17:03.149Z"
   },
   {
    "duration": 12,
    "start_time": "2022-11-29T14:17:03.163Z"
   },
   {
    "duration": 38,
    "start_time": "2022-11-29T14:17:03.177Z"
   },
   {
    "duration": 11,
    "start_time": "2022-11-29T14:17:03.217Z"
   },
   {
    "duration": 13,
    "start_time": "2022-11-29T14:17:03.230Z"
   },
   {
    "duration": 386,
    "start_time": "2022-11-29T14:17:03.246Z"
   },
   {
    "duration": 16,
    "start_time": "2022-11-29T14:17:03.634Z"
   },
   {
    "duration": 248,
    "start_time": "2022-11-29T14:17:03.652Z"
   },
   {
    "duration": 19,
    "start_time": "2022-11-29T14:17:03.902Z"
   },
   {
    "duration": 239,
    "start_time": "2022-11-29T14:17:03.923Z"
   },
   {
    "duration": 23,
    "start_time": "2022-11-29T14:17:04.164Z"
   },
   {
    "duration": 383,
    "start_time": "2022-11-29T14:17:04.198Z"
   },
   {
    "duration": 15,
    "start_time": "2022-11-29T14:17:04.583Z"
   },
   {
    "duration": 245,
    "start_time": "2022-11-29T14:17:04.600Z"
   },
   {
    "duration": 17,
    "start_time": "2022-11-29T14:17:04.848Z"
   },
   {
    "duration": 16,
    "start_time": "2022-11-29T14:17:04.867Z"
   },
   {
    "duration": 39,
    "start_time": "2022-11-29T14:17:04.885Z"
   },
   {
    "duration": 21,
    "start_time": "2022-11-29T14:17:04.925Z"
   },
   {
    "duration": 28,
    "start_time": "2022-11-29T14:17:04.948Z"
   },
   {
    "duration": 44,
    "start_time": "2022-11-29T14:17:04.978Z"
   },
   {
    "duration": 38,
    "start_time": "2022-11-29T14:17:05.024Z"
   },
   {
    "duration": 37,
    "start_time": "2022-11-29T14:17:05.064Z"
   },
   {
    "duration": 30,
    "start_time": "2022-11-29T14:17:05.103Z"
   },
   {
    "duration": 13,
    "start_time": "2022-11-29T14:17:05.135Z"
   },
   {
    "duration": 17,
    "start_time": "2022-11-29T14:19:18.050Z"
   },
   {
    "duration": 47,
    "start_time": "2022-11-29T14:24:33.099Z"
   },
   {
    "duration": 43,
    "start_time": "2022-11-29T14:24:41.909Z"
   },
   {
    "duration": 2111,
    "start_time": "2022-11-29T14:25:11.544Z"
   },
   {
    "duration": 8,
    "start_time": "2022-11-29T14:34:03.574Z"
   },
   {
    "duration": 6,
    "start_time": "2022-11-29T14:34:25.676Z"
   },
   {
    "duration": 5,
    "start_time": "2022-11-29T14:34:37.651Z"
   },
   {
    "duration": 5,
    "start_time": "2022-11-29T14:35:03.542Z"
   },
   {
    "duration": 98,
    "start_time": "2022-11-29T14:35:03.549Z"
   },
   {
    "duration": 15,
    "start_time": "2022-11-29T14:35:03.649Z"
   },
   {
    "duration": 29,
    "start_time": "2022-11-29T14:35:03.667Z"
   },
   {
    "duration": 20,
    "start_time": "2022-11-29T14:35:03.698Z"
   },
   {
    "duration": 21,
    "start_time": "2022-11-29T14:35:03.720Z"
   },
   {
    "duration": 15,
    "start_time": "2022-11-29T14:35:03.742Z"
   },
   {
    "duration": 7,
    "start_time": "2022-11-29T14:35:03.759Z"
   },
   {
    "duration": 551,
    "start_time": "2022-11-29T14:35:03.768Z"
   },
   {
    "duration": 5,
    "start_time": "2022-11-29T14:35:04.323Z"
   },
   {
    "duration": 26,
    "start_time": "2022-11-29T14:35:04.329Z"
   },
   {
    "duration": 19,
    "start_time": "2022-11-29T14:35:04.357Z"
   },
   {
    "duration": 15,
    "start_time": "2022-11-29T14:35:04.378Z"
   },
   {
    "duration": 15,
    "start_time": "2022-11-29T14:35:04.394Z"
   },
   {
    "duration": 30,
    "start_time": "2022-11-29T14:35:04.411Z"
   },
   {
    "duration": 15,
    "start_time": "2022-11-29T14:35:04.442Z"
   },
   {
    "duration": 26,
    "start_time": "2022-11-29T14:35:04.458Z"
   },
   {
    "duration": 24,
    "start_time": "2022-11-29T14:35:04.486Z"
   },
   {
    "duration": 17,
    "start_time": "2022-11-29T14:35:04.512Z"
   },
   {
    "duration": 20,
    "start_time": "2022-11-29T14:35:04.531Z"
   },
   {
    "duration": 11,
    "start_time": "2022-11-29T14:35:04.554Z"
   },
   {
    "duration": 20,
    "start_time": "2022-11-29T14:35:04.567Z"
   },
   {
    "duration": 28,
    "start_time": "2022-11-29T14:35:04.589Z"
   },
   {
    "duration": 7,
    "start_time": "2022-11-29T14:35:04.619Z"
   },
   {
    "duration": 11,
    "start_time": "2022-11-29T14:35:04.628Z"
   },
   {
    "duration": 201,
    "start_time": "2022-11-29T14:35:04.640Z"
   },
   {
    "duration": 181,
    "start_time": "2022-11-29T14:35:04.843Z"
   },
   {
    "duration": 278,
    "start_time": "2022-11-29T14:35:05.028Z"
   },
   {
    "duration": 156,
    "start_time": "2022-11-29T14:35:05.307Z"
   },
   {
    "duration": 17,
    "start_time": "2022-11-29T14:35:05.465Z"
   },
   {
    "duration": 5,
    "start_time": "2022-11-29T14:35:05.484Z"
   },
   {
    "duration": 216,
    "start_time": "2022-11-29T14:35:05.491Z"
   },
   {
    "duration": 2225,
    "start_time": "2022-11-29T14:35:05.711Z"
   },
   {
    "duration": 7,
    "start_time": "2022-11-29T14:35:07.938Z"
   },
   {
    "duration": 290,
    "start_time": "2022-11-29T14:35:07.947Z"
   },
   {
    "duration": 439,
    "start_time": "2022-11-29T14:35:08.239Z"
   },
   {
    "duration": 155,
    "start_time": "2022-11-29T14:35:08.681Z"
   },
   {
    "duration": 10,
    "start_time": "2022-11-29T14:35:08.838Z"
   },
   {
    "duration": 11,
    "start_time": "2022-11-29T14:35:08.850Z"
   },
   {
    "duration": 13,
    "start_time": "2022-11-29T14:35:08.863Z"
   },
   {
    "duration": 36,
    "start_time": "2022-11-29T14:35:08.877Z"
   },
   {
    "duration": 10,
    "start_time": "2022-11-29T14:35:08.915Z"
   },
   {
    "duration": 378,
    "start_time": "2022-11-29T14:35:08.926Z"
   },
   {
    "duration": 20,
    "start_time": "2022-11-29T14:35:09.305Z"
   },
   {
    "duration": 243,
    "start_time": "2022-11-29T14:35:09.327Z"
   },
   {
    "duration": 17,
    "start_time": "2022-11-29T14:35:09.572Z"
   },
   {
    "duration": 243,
    "start_time": "2022-11-29T14:35:09.592Z"
   },
   {
    "duration": 15,
    "start_time": "2022-11-29T14:35:09.837Z"
   },
   {
    "duration": 232,
    "start_time": "2022-11-29T14:35:09.854Z"
   },
   {
    "duration": 15,
    "start_time": "2022-11-29T14:35:10.087Z"
   },
   {
    "duration": 239,
    "start_time": "2022-11-29T14:35:10.113Z"
   },
   {
    "duration": 15,
    "start_time": "2022-11-29T14:35:10.354Z"
   },
   {
    "duration": 15,
    "start_time": "2022-11-29T14:35:10.371Z"
   },
   {
    "duration": 35,
    "start_time": "2022-11-29T14:35:10.389Z"
   },
   {
    "duration": 16,
    "start_time": "2022-11-29T14:35:10.426Z"
   },
   {
    "duration": 14,
    "start_time": "2022-11-29T14:35:10.444Z"
   },
   {
    "duration": 54,
    "start_time": "2022-11-29T14:35:10.460Z"
   },
   {
    "duration": 10,
    "start_time": "2022-11-29T14:35:10.516Z"
   },
   {
    "duration": 6,
    "start_time": "2022-11-29T14:35:10.528Z"
   },
   {
    "duration": 12,
    "start_time": "2022-11-29T14:35:10.536Z"
   },
   {
    "duration": 6,
    "start_time": "2022-11-29T14:35:10.549Z"
   },
   {
    "duration": 6,
    "start_time": "2022-11-29T14:35:35.026Z"
   },
   {
    "duration": 3,
    "start_time": "2022-11-29T14:35:46.802Z"
   },
   {
    "duration": 76,
    "start_time": "2022-11-29T14:35:46.807Z"
   },
   {
    "duration": 30,
    "start_time": "2022-11-29T14:35:46.885Z"
   },
   {
    "duration": 25,
    "start_time": "2022-11-29T14:35:46.917Z"
   },
   {
    "duration": 11,
    "start_time": "2022-11-29T14:35:46.944Z"
   },
   {
    "duration": 17,
    "start_time": "2022-11-29T14:35:46.956Z"
   },
   {
    "duration": 11,
    "start_time": "2022-11-29T14:35:46.974Z"
   },
   {
    "duration": 10,
    "start_time": "2022-11-29T14:35:47.013Z"
   },
   {
    "duration": 578,
    "start_time": "2022-11-29T14:35:47.026Z"
   },
   {
    "duration": 9,
    "start_time": "2022-11-29T14:35:47.606Z"
   },
   {
    "duration": 11,
    "start_time": "2022-11-29T14:35:47.617Z"
   },
   {
    "duration": 6,
    "start_time": "2022-11-29T14:35:47.630Z"
   },
   {
    "duration": 10,
    "start_time": "2022-11-29T14:35:47.638Z"
   },
   {
    "duration": 6,
    "start_time": "2022-11-29T14:35:47.649Z"
   },
   {
    "duration": 26,
    "start_time": "2022-11-29T14:35:47.657Z"
   },
   {
    "duration": 31,
    "start_time": "2022-11-29T14:35:47.686Z"
   },
   {
    "duration": 14,
    "start_time": "2022-11-29T14:35:47.719Z"
   },
   {
    "duration": 12,
    "start_time": "2022-11-29T14:35:47.736Z"
   },
   {
    "duration": 13,
    "start_time": "2022-11-29T14:35:47.750Z"
   },
   {
    "duration": 17,
    "start_time": "2022-11-29T14:35:47.765Z"
   },
   {
    "duration": 12,
    "start_time": "2022-11-29T14:35:47.813Z"
   },
   {
    "duration": 23,
    "start_time": "2022-11-29T14:35:47.827Z"
   },
   {
    "duration": 10,
    "start_time": "2022-11-29T14:35:47.852Z"
   },
   {
    "duration": 5,
    "start_time": "2022-11-29T14:35:47.867Z"
   },
   {
    "duration": 37,
    "start_time": "2022-11-29T14:35:47.875Z"
   },
   {
    "duration": 190,
    "start_time": "2022-11-29T14:35:47.915Z"
   },
   {
    "duration": 178,
    "start_time": "2022-11-29T14:35:48.107Z"
   },
   {
    "duration": 184,
    "start_time": "2022-11-29T14:35:48.287Z"
   },
   {
    "duration": 262,
    "start_time": "2022-11-29T14:35:48.473Z"
   },
   {
    "duration": 17,
    "start_time": "2022-11-29T14:35:48.737Z"
   },
   {
    "duration": 5,
    "start_time": "2022-11-29T14:35:48.756Z"
   },
   {
    "duration": 205,
    "start_time": "2022-11-29T14:35:48.763Z"
   },
   {
    "duration": 2237,
    "start_time": "2022-11-29T14:35:48.970Z"
   },
   {
    "duration": 10,
    "start_time": "2022-11-29T14:35:51.208Z"
   },
   {
    "duration": 290,
    "start_time": "2022-11-29T14:35:51.220Z"
   },
   {
    "duration": 420,
    "start_time": "2022-11-29T14:35:51.512Z"
   },
   {
    "duration": 147,
    "start_time": "2022-11-29T14:35:51.934Z"
   },
   {
    "duration": 10,
    "start_time": "2022-11-29T14:35:52.083Z"
   },
   {
    "duration": 25,
    "start_time": "2022-11-29T14:35:52.095Z"
   },
   {
    "duration": 15,
    "start_time": "2022-11-29T14:35:52.123Z"
   },
   {
    "duration": 13,
    "start_time": "2022-11-29T14:35:52.140Z"
   },
   {
    "duration": 14,
    "start_time": "2022-11-29T14:35:52.155Z"
   },
   {
    "duration": 397,
    "start_time": "2022-11-29T14:35:52.172Z"
   },
   {
    "duration": 16,
    "start_time": "2022-11-29T14:35:52.571Z"
   },
   {
    "duration": 242,
    "start_time": "2022-11-29T14:35:52.588Z"
   },
   {
    "duration": 21,
    "start_time": "2022-11-29T14:35:52.832Z"
   },
   {
    "duration": 237,
    "start_time": "2022-11-29T14:35:52.855Z"
   },
   {
    "duration": 26,
    "start_time": "2022-11-29T14:35:53.094Z"
   },
   {
    "duration": 260,
    "start_time": "2022-11-29T14:35:53.122Z"
   },
   {
    "duration": 15,
    "start_time": "2022-11-29T14:35:53.384Z"
   },
   {
    "duration": 246,
    "start_time": "2022-11-29T14:35:53.401Z"
   },
   {
    "duration": 15,
    "start_time": "2022-11-29T14:35:53.649Z"
   },
   {
    "duration": 15,
    "start_time": "2022-11-29T14:35:53.666Z"
   },
   {
    "duration": 36,
    "start_time": "2022-11-29T14:35:53.683Z"
   },
   {
    "duration": 16,
    "start_time": "2022-11-29T14:35:53.721Z"
   },
   {
    "duration": 17,
    "start_time": "2022-11-29T14:35:53.738Z"
   },
   {
    "duration": 16,
    "start_time": "2022-11-29T14:35:53.757Z"
   },
   {
    "duration": 45,
    "start_time": "2022-11-29T14:35:53.775Z"
   },
   {
    "duration": 6,
    "start_time": "2022-11-29T14:35:53.822Z"
   },
   {
    "duration": 11,
    "start_time": "2022-11-29T14:35:53.830Z"
   },
   {
    "duration": 7,
    "start_time": "2022-11-29T14:35:53.843Z"
   },
   {
    "duration": 9,
    "start_time": "2022-11-29T14:37:13.021Z"
   },
   {
    "duration": 4,
    "start_time": "2022-11-29T14:37:20.647Z"
   },
   {
    "duration": 83,
    "start_time": "2022-11-29T14:37:20.653Z"
   },
   {
    "duration": 16,
    "start_time": "2022-11-29T14:37:20.737Z"
   },
   {
    "duration": 30,
    "start_time": "2022-11-29T14:37:20.756Z"
   },
   {
    "duration": 27,
    "start_time": "2022-11-29T14:37:20.788Z"
   },
   {
    "duration": 22,
    "start_time": "2022-11-29T14:37:20.817Z"
   },
   {
    "duration": 14,
    "start_time": "2022-11-29T14:37:20.841Z"
   },
   {
    "duration": 6,
    "start_time": "2022-11-29T14:37:20.858Z"
   },
   {
    "duration": 571,
    "start_time": "2022-11-29T14:37:20.866Z"
   },
   {
    "duration": 6,
    "start_time": "2022-11-29T14:37:21.440Z"
   },
   {
    "duration": 19,
    "start_time": "2022-11-29T14:37:21.447Z"
   },
   {
    "duration": 6,
    "start_time": "2022-11-29T14:37:21.468Z"
   },
   {
    "duration": 18,
    "start_time": "2022-11-29T14:37:21.476Z"
   },
   {
    "duration": 14,
    "start_time": "2022-11-29T14:37:21.497Z"
   },
   {
    "duration": 6,
    "start_time": "2022-11-29T14:37:21.513Z"
   },
   {
    "duration": 39,
    "start_time": "2022-11-29T14:37:21.521Z"
   },
   {
    "duration": 6,
    "start_time": "2022-11-29T14:37:21.562Z"
   },
   {
    "duration": 7,
    "start_time": "2022-11-29T14:37:21.569Z"
   },
   {
    "duration": 39,
    "start_time": "2022-11-29T14:37:21.578Z"
   },
   {
    "duration": 11,
    "start_time": "2022-11-29T14:37:21.620Z"
   },
   {
    "duration": 18,
    "start_time": "2022-11-29T14:37:21.633Z"
   },
   {
    "duration": 9,
    "start_time": "2022-11-29T14:37:21.653Z"
   },
   {
    "duration": 14,
    "start_time": "2022-11-29T14:37:21.664Z"
   },
   {
    "duration": 38,
    "start_time": "2022-11-29T14:37:21.680Z"
   },
   {
    "duration": 7,
    "start_time": "2022-11-29T14:37:21.720Z"
   },
   {
    "duration": 13,
    "start_time": "2022-11-29T14:37:21.729Z"
   },
   {
    "duration": 191,
    "start_time": "2022-11-29T14:37:21.744Z"
   },
   {
    "duration": 158,
    "start_time": "2022-11-29T14:37:21.939Z"
   },
   {
    "duration": 180,
    "start_time": "2022-11-29T14:37:22.099Z"
   },
   {
    "duration": 180,
    "start_time": "2022-11-29T14:37:22.282Z"
   },
   {
    "duration": 17,
    "start_time": "2022-11-29T14:37:22.464Z"
   },
   {
    "duration": 6,
    "start_time": "2022-11-29T14:37:22.483Z"
   },
   {
    "duration": 326,
    "start_time": "2022-11-29T14:37:22.491Z"
   },
   {
    "duration": 2124,
    "start_time": "2022-11-29T14:37:22.819Z"
   },
   {
    "duration": 8,
    "start_time": "2022-11-29T14:37:24.945Z"
   },
   {
    "duration": 283,
    "start_time": "2022-11-29T14:37:24.954Z"
   },
   {
    "duration": 328,
    "start_time": "2022-11-29T14:37:25.239Z"
   },
   {
    "duration": 257,
    "start_time": "2022-11-29T14:37:25.568Z"
   },
   {
    "duration": 11,
    "start_time": "2022-11-29T14:37:25.827Z"
   },
   {
    "duration": 12,
    "start_time": "2022-11-29T14:37:25.840Z"
   },
   {
    "duration": 10,
    "start_time": "2022-11-29T14:37:25.854Z"
   },
   {
    "duration": 48,
    "start_time": "2022-11-29T14:37:25.866Z"
   },
   {
    "duration": 12,
    "start_time": "2022-11-29T14:37:25.916Z"
   },
   {
    "duration": 402,
    "start_time": "2022-11-29T14:37:25.929Z"
   },
   {
    "duration": 23,
    "start_time": "2022-11-29T14:37:26.332Z"
   },
   {
    "duration": 323,
    "start_time": "2022-11-29T14:37:26.358Z"
   },
   {
    "duration": 32,
    "start_time": "2022-11-29T14:37:26.683Z"
   },
   {
    "duration": 244,
    "start_time": "2022-11-29T14:37:26.717Z"
   },
   {
    "duration": 21,
    "start_time": "2022-11-29T14:37:26.962Z"
   },
   {
    "duration": 260,
    "start_time": "2022-11-29T14:37:26.985Z"
   },
   {
    "duration": 17,
    "start_time": "2022-11-29T14:37:27.247Z"
   },
   {
    "duration": 298,
    "start_time": "2022-11-29T14:37:27.265Z"
   },
   {
    "duration": 15,
    "start_time": "2022-11-29T14:37:27.565Z"
   },
   {
    "duration": 33,
    "start_time": "2022-11-29T14:37:27.582Z"
   },
   {
    "duration": 17,
    "start_time": "2022-11-29T14:37:27.617Z"
   },
   {
    "duration": 16,
    "start_time": "2022-11-29T14:37:27.636Z"
   },
   {
    "duration": 16,
    "start_time": "2022-11-29T14:37:27.653Z"
   },
   {
    "duration": 60,
    "start_time": "2022-11-29T14:37:27.671Z"
   },
   {
    "duration": 14,
    "start_time": "2022-11-29T14:37:27.733Z"
   },
   {
    "duration": 18,
    "start_time": "2022-11-29T14:37:27.749Z"
   },
   {
    "duration": 15,
    "start_time": "2022-11-29T14:37:27.768Z"
   },
   {
    "duration": 7,
    "start_time": "2022-11-29T14:37:27.785Z"
   },
   {
    "duration": 4,
    "start_time": "2022-11-29T14:49:11.294Z"
   },
   {
    "duration": 37,
    "start_time": "2022-11-29T14:57:51.460Z"
   },
   {
    "duration": 11,
    "start_time": "2022-11-29T15:03:24.437Z"
   },
   {
    "duration": 4,
    "start_time": "2022-11-29T15:04:31.870Z"
   },
   {
    "duration": 80,
    "start_time": "2022-11-29T15:04:31.876Z"
   },
   {
    "duration": 17,
    "start_time": "2022-11-29T15:04:31.958Z"
   },
   {
    "duration": 54,
    "start_time": "2022-11-29T15:04:31.977Z"
   },
   {
    "duration": 27,
    "start_time": "2022-11-29T15:04:32.033Z"
   },
   {
    "duration": 19,
    "start_time": "2022-11-29T15:04:32.063Z"
   },
   {
    "duration": 40,
    "start_time": "2022-11-29T15:04:32.084Z"
   },
   {
    "duration": 7,
    "start_time": "2022-11-29T15:04:32.127Z"
   },
   {
    "duration": 546,
    "start_time": "2022-11-29T15:04:32.136Z"
   },
   {
    "duration": 5,
    "start_time": "2022-11-29T15:04:32.685Z"
   },
   {
    "duration": 23,
    "start_time": "2022-11-29T15:04:32.693Z"
   },
   {
    "duration": 5,
    "start_time": "2022-11-29T15:04:32.718Z"
   },
   {
    "duration": 6,
    "start_time": "2022-11-29T15:04:32.725Z"
   },
   {
    "duration": 10,
    "start_time": "2022-11-29T15:04:32.735Z"
   },
   {
    "duration": 27,
    "start_time": "2022-11-29T15:04:32.747Z"
   },
   {
    "duration": 6,
    "start_time": "2022-11-29T15:04:32.776Z"
   },
   {
    "duration": 6,
    "start_time": "2022-11-29T15:04:32.813Z"
   },
   {
    "duration": 15,
    "start_time": "2022-11-29T15:04:32.821Z"
   },
   {
    "duration": 16,
    "start_time": "2022-11-29T15:04:32.838Z"
   },
   {
    "duration": 23,
    "start_time": "2022-11-29T15:04:32.857Z"
   },
   {
    "duration": 34,
    "start_time": "2022-11-29T15:04:32.883Z"
   },
   {
    "duration": 15,
    "start_time": "2022-11-29T15:04:32.919Z"
   },
   {
    "duration": 10,
    "start_time": "2022-11-29T15:04:32.936Z"
   },
   {
    "duration": 8,
    "start_time": "2022-11-29T15:04:32.949Z"
   },
   {
    "duration": 18,
    "start_time": "2022-11-29T15:04:32.959Z"
   },
   {
    "duration": 222,
    "start_time": "2022-11-29T15:04:32.980Z"
   },
   {
    "duration": 180,
    "start_time": "2022-11-29T15:04:33.205Z"
   },
   {
    "duration": 180,
    "start_time": "2022-11-29T15:04:33.388Z"
   },
   {
    "duration": 165,
    "start_time": "2022-11-29T15:04:33.570Z"
   },
   {
    "duration": 19,
    "start_time": "2022-11-29T15:04:33.737Z"
   },
   {
    "duration": 21,
    "start_time": "2022-11-29T15:04:33.758Z"
   },
   {
    "duration": 208,
    "start_time": "2022-11-29T15:04:33.781Z"
   },
   {
    "duration": 2312,
    "start_time": "2022-11-29T15:04:33.991Z"
   },
   {
    "duration": 15,
    "start_time": "2022-11-29T15:04:36.306Z"
   },
   {
    "duration": 287,
    "start_time": "2022-11-29T15:04:36.323Z"
   },
   {
    "duration": 419,
    "start_time": "2022-11-29T15:04:36.612Z"
   },
   {
    "duration": 153,
    "start_time": "2022-11-29T15:04:37.034Z"
   },
   {
    "duration": 24,
    "start_time": "2022-11-29T15:04:37.190Z"
   },
   {
    "duration": 22,
    "start_time": "2022-11-29T15:04:37.216Z"
   },
   {
    "duration": 18,
    "start_time": "2022-11-29T15:04:37.240Z"
   },
   {
    "duration": 12,
    "start_time": "2022-11-29T15:04:37.263Z"
   },
   {
    "duration": 13,
    "start_time": "2022-11-29T15:04:37.277Z"
   },
   {
    "duration": 519,
    "start_time": "2022-11-29T15:04:37.313Z"
   },
   {
    "duration": 18,
    "start_time": "2022-11-29T15:04:37.834Z"
   },
   {
    "duration": 258,
    "start_time": "2022-11-29T15:04:37.854Z"
   },
   {
    "duration": 16,
    "start_time": "2022-11-29T15:04:38.114Z"
   },
   {
    "duration": 261,
    "start_time": "2022-11-29T15:04:38.132Z"
   },
   {
    "duration": 21,
    "start_time": "2022-11-29T15:04:38.395Z"
   },
   {
    "duration": 240,
    "start_time": "2022-11-29T15:04:38.418Z"
   },
   {
    "duration": 15,
    "start_time": "2022-11-29T15:04:38.660Z"
   },
   {
    "duration": 253,
    "start_time": "2022-11-29T15:04:38.677Z"
   },
   {
    "duration": 16,
    "start_time": "2022-11-29T15:04:38.932Z"
   },
   {
    "duration": 16,
    "start_time": "2022-11-29T15:04:38.950Z"
   },
   {
    "duration": 15,
    "start_time": "2022-11-29T15:04:38.968Z"
   },
   {
    "duration": 23,
    "start_time": "2022-11-29T15:04:39.013Z"
   },
   {
    "duration": 16,
    "start_time": "2022-11-29T15:04:39.037Z"
   },
   {
    "duration": 18,
    "start_time": "2022-11-29T15:04:39.054Z"
   },
   {
    "duration": 43,
    "start_time": "2022-11-29T15:04:39.074Z"
   },
   {
    "duration": 6,
    "start_time": "2022-11-29T15:04:39.119Z"
   },
   {
    "duration": 14,
    "start_time": "2022-11-29T15:04:39.126Z"
   },
   {
    "duration": 7,
    "start_time": "2022-11-29T15:04:39.141Z"
   },
   {
    "duration": 50,
    "start_time": "2022-11-29T15:05:06.971Z"
   },
   {
    "duration": 83,
    "start_time": "2022-11-29T15:05:21.101Z"
   },
   {
    "duration": 16,
    "start_time": "2022-11-29T15:05:30.818Z"
   },
   {
    "duration": 5,
    "start_time": "2022-11-29T15:06:35.119Z"
   },
   {
    "duration": 4,
    "start_time": "2022-11-29T15:08:06.037Z"
   },
   {
    "duration": 54,
    "start_time": "2022-11-29T15:08:40.410Z"
   },
   {
    "duration": 10,
    "start_time": "2022-11-29T15:09:01.552Z"
   },
   {
    "duration": 14,
    "start_time": "2022-11-29T15:09:47.703Z"
   },
   {
    "duration": 13,
    "start_time": "2022-11-29T15:10:09.538Z"
   },
   {
    "duration": 4,
    "start_time": "2022-11-29T15:10:17.985Z"
   },
   {
    "duration": 93,
    "start_time": "2022-11-29T15:10:17.993Z"
   },
   {
    "duration": 16,
    "start_time": "2022-11-29T15:10:18.088Z"
   },
   {
    "duration": 23,
    "start_time": "2022-11-29T15:10:18.112Z"
   },
   {
    "duration": 13,
    "start_time": "2022-11-29T15:10:18.138Z"
   },
   {
    "duration": 22,
    "start_time": "2022-11-29T15:10:18.153Z"
   },
   {
    "duration": 39,
    "start_time": "2022-11-29T15:10:18.177Z"
   },
   {
    "duration": 12,
    "start_time": "2022-11-29T15:10:18.218Z"
   },
   {
    "duration": 522,
    "start_time": "2022-11-29T15:10:18.231Z"
   },
   {
    "duration": 4,
    "start_time": "2022-11-29T15:10:18.755Z"
   },
   {
    "duration": 22,
    "start_time": "2022-11-29T15:10:18.761Z"
   },
   {
    "duration": 37,
    "start_time": "2022-11-29T15:10:18.785Z"
   },
   {
    "duration": 38,
    "start_time": "2022-11-29T15:10:18.825Z"
   },
   {
    "duration": 24,
    "start_time": "2022-11-29T15:10:18.867Z"
   },
   {
    "duration": 18,
    "start_time": "2022-11-29T15:10:18.893Z"
   },
   {
    "duration": 31,
    "start_time": "2022-11-29T15:10:18.913Z"
   },
   {
    "duration": 11,
    "start_time": "2022-11-29T15:10:18.947Z"
   },
   {
    "duration": 18,
    "start_time": "2022-11-29T15:10:18.960Z"
   },
   {
    "duration": 25,
    "start_time": "2022-11-29T15:10:18.980Z"
   },
   {
    "duration": 15,
    "start_time": "2022-11-29T15:10:19.008Z"
   },
   {
    "duration": 42,
    "start_time": "2022-11-29T15:10:19.025Z"
   },
   {
    "duration": 20,
    "start_time": "2022-11-29T15:10:19.069Z"
   },
   {
    "duration": 19,
    "start_time": "2022-11-29T15:10:19.091Z"
   },
   {
    "duration": 27,
    "start_time": "2022-11-29T15:10:19.113Z"
   },
   {
    "duration": 22,
    "start_time": "2022-11-29T15:10:19.142Z"
   },
   {
    "duration": 35,
    "start_time": "2022-11-29T15:10:19.166Z"
   },
   {
    "duration": 206,
    "start_time": "2022-11-29T15:10:19.203Z"
   },
   {
    "duration": 168,
    "start_time": "2022-11-29T15:10:19.411Z"
   },
   {
    "duration": 179,
    "start_time": "2022-11-29T15:10:19.581Z"
   },
   {
    "duration": 165,
    "start_time": "2022-11-29T15:10:19.762Z"
   },
   {
    "duration": 18,
    "start_time": "2022-11-29T15:10:19.929Z"
   },
   {
    "duration": 0,
    "start_time": "2022-11-29T15:10:19.949Z"
   },
   {
    "duration": 0,
    "start_time": "2022-11-29T15:10:19.951Z"
   },
   {
    "duration": 0,
    "start_time": "2022-11-29T15:10:19.952Z"
   },
   {
    "duration": 0,
    "start_time": "2022-11-29T15:10:19.954Z"
   },
   {
    "duration": 0,
    "start_time": "2022-11-29T15:10:19.955Z"
   },
   {
    "duration": 0,
    "start_time": "2022-11-29T15:10:19.956Z"
   },
   {
    "duration": 0,
    "start_time": "2022-11-29T15:10:19.957Z"
   },
   {
    "duration": 0,
    "start_time": "2022-11-29T15:10:19.958Z"
   },
   {
    "duration": 0,
    "start_time": "2022-11-29T15:10:19.960Z"
   },
   {
    "duration": 0,
    "start_time": "2022-11-29T15:10:19.961Z"
   },
   {
    "duration": 0,
    "start_time": "2022-11-29T15:10:19.962Z"
   },
   {
    "duration": 0,
    "start_time": "2022-11-29T15:10:19.963Z"
   },
   {
    "duration": 0,
    "start_time": "2022-11-29T15:10:19.965Z"
   },
   {
    "duration": 0,
    "start_time": "2022-11-29T15:10:19.966Z"
   },
   {
    "duration": 1,
    "start_time": "2022-11-29T15:10:19.967Z"
   },
   {
    "duration": 0,
    "start_time": "2022-11-29T15:10:19.968Z"
   },
   {
    "duration": 0,
    "start_time": "2022-11-29T15:10:19.970Z"
   },
   {
    "duration": 0,
    "start_time": "2022-11-29T15:10:19.971Z"
   },
   {
    "duration": 0,
    "start_time": "2022-11-29T15:10:20.013Z"
   },
   {
    "duration": 0,
    "start_time": "2022-11-29T15:10:20.014Z"
   },
   {
    "duration": 0,
    "start_time": "2022-11-29T15:10:20.015Z"
   },
   {
    "duration": 0,
    "start_time": "2022-11-29T15:10:20.017Z"
   },
   {
    "duration": 0,
    "start_time": "2022-11-29T15:10:20.018Z"
   },
   {
    "duration": 0,
    "start_time": "2022-11-29T15:10:20.020Z"
   },
   {
    "duration": 0,
    "start_time": "2022-11-29T15:10:20.021Z"
   },
   {
    "duration": 0,
    "start_time": "2022-11-29T15:10:20.022Z"
   },
   {
    "duration": 0,
    "start_time": "2022-11-29T15:10:20.023Z"
   },
   {
    "duration": 0,
    "start_time": "2022-11-29T15:10:20.025Z"
   },
   {
    "duration": 0,
    "start_time": "2022-11-29T15:10:20.026Z"
   },
   {
    "duration": 0,
    "start_time": "2022-11-29T15:10:20.027Z"
   },
   {
    "duration": 0,
    "start_time": "2022-11-29T15:10:20.028Z"
   },
   {
    "duration": 44,
    "start_time": "2022-11-29T15:12:50.103Z"
   },
   {
    "duration": 18,
    "start_time": "2022-11-29T15:14:42.936Z"
   },
   {
    "duration": 4,
    "start_time": "2022-11-29T15:15:10.370Z"
   },
   {
    "duration": 4,
    "start_time": "2022-11-29T15:15:19.027Z"
   },
   {
    "duration": 78,
    "start_time": "2022-11-29T15:15:19.033Z"
   },
   {
    "duration": 20,
    "start_time": "2022-11-29T15:15:19.113Z"
   },
   {
    "duration": 40,
    "start_time": "2022-11-29T15:15:19.135Z"
   },
   {
    "duration": 36,
    "start_time": "2022-11-29T15:15:19.180Z"
   },
   {
    "duration": 19,
    "start_time": "2022-11-29T15:15:19.218Z"
   },
   {
    "duration": 22,
    "start_time": "2022-11-29T15:15:19.239Z"
   },
   {
    "duration": 7,
    "start_time": "2022-11-29T15:15:19.263Z"
   },
   {
    "duration": 505,
    "start_time": "2022-11-29T15:15:19.273Z"
   },
   {
    "duration": 6,
    "start_time": "2022-11-29T15:15:19.780Z"
   },
   {
    "duration": 26,
    "start_time": "2022-11-29T15:15:19.788Z"
   },
   {
    "duration": 6,
    "start_time": "2022-11-29T15:15:19.816Z"
   },
   {
    "duration": 10,
    "start_time": "2022-11-29T15:15:19.824Z"
   },
   {
    "duration": 6,
    "start_time": "2022-11-29T15:15:19.837Z"
   },
   {
    "duration": 7,
    "start_time": "2022-11-29T15:15:19.845Z"
   },
   {
    "duration": 21,
    "start_time": "2022-11-29T15:15:19.855Z"
   },
   {
    "duration": 6,
    "start_time": "2022-11-29T15:15:19.878Z"
   },
   {
    "duration": 6,
    "start_time": "2022-11-29T15:15:19.913Z"
   },
   {
    "duration": 37,
    "start_time": "2022-11-29T15:15:19.920Z"
   },
   {
    "duration": 21,
    "start_time": "2022-11-29T15:15:19.959Z"
   },
   {
    "duration": 18,
    "start_time": "2022-11-29T15:15:19.982Z"
   },
   {
    "duration": 11,
    "start_time": "2022-11-29T15:15:20.002Z"
   },
   {
    "duration": 21,
    "start_time": "2022-11-29T15:15:20.015Z"
   },
   {
    "duration": 10,
    "start_time": "2022-11-29T15:15:20.038Z"
   },
   {
    "duration": 23,
    "start_time": "2022-11-29T15:15:20.049Z"
   },
   {
    "duration": 13,
    "start_time": "2022-11-29T15:15:20.074Z"
   },
   {
    "duration": 206,
    "start_time": "2022-11-29T15:15:20.089Z"
   },
   {
    "duration": 292,
    "start_time": "2022-11-29T15:15:20.297Z"
   },
   {
    "duration": 161,
    "start_time": "2022-11-29T15:15:20.591Z"
   },
   {
    "duration": 165,
    "start_time": "2022-11-29T15:15:20.754Z"
   },
   {
    "duration": 17,
    "start_time": "2022-11-29T15:15:20.921Z"
   },
   {
    "duration": 9,
    "start_time": "2022-11-29T15:15:20.940Z"
   },
   {
    "duration": 211,
    "start_time": "2022-11-29T15:15:20.951Z"
   },
   {
    "duration": 2126,
    "start_time": "2022-11-29T15:15:21.164Z"
   },
   {
    "duration": 21,
    "start_time": "2022-11-29T15:15:23.292Z"
   },
   {
    "duration": 409,
    "start_time": "2022-11-29T15:15:23.315Z"
   },
   {
    "duration": 314,
    "start_time": "2022-11-29T15:15:23.727Z"
   },
   {
    "duration": 150,
    "start_time": "2022-11-29T15:15:24.043Z"
   },
   {
    "duration": 17,
    "start_time": "2022-11-29T15:15:24.196Z"
   },
   {
    "duration": 19,
    "start_time": "2022-11-29T15:15:24.215Z"
   },
   {
    "duration": 19,
    "start_time": "2022-11-29T15:15:24.240Z"
   },
   {
    "duration": 17,
    "start_time": "2022-11-29T15:15:24.260Z"
   },
   {
    "duration": 28,
    "start_time": "2022-11-29T15:15:24.279Z"
   },
   {
    "duration": 364,
    "start_time": "2022-11-29T15:15:24.311Z"
   },
   {
    "duration": 15,
    "start_time": "2022-11-29T15:15:24.677Z"
   },
   {
    "duration": 256,
    "start_time": "2022-11-29T15:15:24.693Z"
   },
   {
    "duration": 15,
    "start_time": "2022-11-29T15:15:24.951Z"
   },
   {
    "duration": 240,
    "start_time": "2022-11-29T15:15:24.968Z"
   },
   {
    "duration": 15,
    "start_time": "2022-11-29T15:15:25.210Z"
   },
   {
    "duration": 234,
    "start_time": "2022-11-29T15:15:25.227Z"
   },
   {
    "duration": 14,
    "start_time": "2022-11-29T15:15:25.463Z"
   },
   {
    "duration": 237,
    "start_time": "2022-11-29T15:15:25.479Z"
   },
   {
    "duration": 16,
    "start_time": "2022-11-29T15:15:25.718Z"
   },
   {
    "duration": 20,
    "start_time": "2022-11-29T15:15:25.736Z"
   },
   {
    "duration": 16,
    "start_time": "2022-11-29T15:15:25.757Z"
   },
   {
    "duration": 48,
    "start_time": "2022-11-29T15:15:25.775Z"
   },
   {
    "duration": 15,
    "start_time": "2022-11-29T15:15:25.825Z"
   },
   {
    "duration": 20,
    "start_time": "2022-11-29T15:15:25.841Z"
   },
   {
    "duration": 12,
    "start_time": "2022-11-29T15:15:25.863Z"
   },
   {
    "duration": 22,
    "start_time": "2022-11-29T15:15:25.877Z"
   },
   {
    "duration": 12,
    "start_time": "2022-11-29T15:15:25.913Z"
   },
   {
    "duration": 23,
    "start_time": "2022-11-29T15:15:25.928Z"
   },
   {
    "duration": 4,
    "start_time": "2022-11-29T15:17:27.195Z"
   },
   {
    "duration": 73,
    "start_time": "2022-11-29T15:17:27.201Z"
   },
   {
    "duration": 15,
    "start_time": "2022-11-29T15:17:27.276Z"
   },
   {
    "duration": 36,
    "start_time": "2022-11-29T15:17:27.293Z"
   },
   {
    "duration": 10,
    "start_time": "2022-11-29T15:17:27.331Z"
   },
   {
    "duration": 20,
    "start_time": "2022-11-29T15:17:27.342Z"
   },
   {
    "duration": 11,
    "start_time": "2022-11-29T15:17:27.364Z"
   },
   {
    "duration": 36,
    "start_time": "2022-11-29T15:17:27.377Z"
   },
   {
    "duration": 494,
    "start_time": "2022-11-29T15:17:27.415Z"
   },
   {
    "duration": 5,
    "start_time": "2022-11-29T15:17:27.912Z"
   },
   {
    "duration": 12,
    "start_time": "2022-11-29T15:17:27.919Z"
   },
   {
    "duration": 13,
    "start_time": "2022-11-29T15:17:27.933Z"
   },
   {
    "duration": 9,
    "start_time": "2022-11-29T15:17:27.948Z"
   },
   {
    "duration": 7,
    "start_time": "2022-11-29T15:17:27.959Z"
   },
   {
    "duration": 53,
    "start_time": "2022-11-29T15:17:27.968Z"
   },
   {
    "duration": 7,
    "start_time": "2022-11-29T15:17:28.024Z"
   },
   {
    "duration": 10,
    "start_time": "2022-11-29T15:17:28.033Z"
   },
   {
    "duration": 14,
    "start_time": "2022-11-29T15:17:28.045Z"
   },
   {
    "duration": 16,
    "start_time": "2022-11-29T15:17:28.061Z"
   },
   {
    "duration": 41,
    "start_time": "2022-11-29T15:17:28.079Z"
   },
   {
    "duration": 10,
    "start_time": "2022-11-29T15:17:28.122Z"
   },
   {
    "duration": 15,
    "start_time": "2022-11-29T15:17:28.134Z"
   },
   {
    "duration": 9,
    "start_time": "2022-11-29T15:17:28.151Z"
   },
   {
    "duration": 16,
    "start_time": "2022-11-29T15:17:28.162Z"
   },
   {
    "duration": 37,
    "start_time": "2022-11-29T15:17:28.179Z"
   },
   {
    "duration": 190,
    "start_time": "2022-11-29T15:17:28.218Z"
   },
   {
    "duration": 170,
    "start_time": "2022-11-29T15:17:28.413Z"
   },
   {
    "duration": 290,
    "start_time": "2022-11-29T15:17:28.587Z"
   },
   {
    "duration": 168,
    "start_time": "2022-11-29T15:17:28.878Z"
   },
   {
    "duration": 17,
    "start_time": "2022-11-29T15:17:29.048Z"
   },
   {
    "duration": 7,
    "start_time": "2022-11-29T15:17:29.067Z"
   },
   {
    "duration": 212,
    "start_time": "2022-11-29T15:17:29.075Z"
   },
   {
    "duration": 2173,
    "start_time": "2022-11-29T15:17:29.289Z"
   },
   {
    "duration": 7,
    "start_time": "2022-11-29T15:17:31.464Z"
   },
   {
    "duration": 277,
    "start_time": "2022-11-29T15:17:31.473Z"
   },
   {
    "duration": 425,
    "start_time": "2022-11-29T15:17:31.752Z"
   },
   {
    "duration": 149,
    "start_time": "2022-11-29T15:17:32.179Z"
   },
   {
    "duration": 13,
    "start_time": "2022-11-29T15:17:32.330Z"
   },
   {
    "duration": 14,
    "start_time": "2022-11-29T15:17:32.344Z"
   },
   {
    "duration": 13,
    "start_time": "2022-11-29T15:17:32.360Z"
   },
   {
    "duration": 11,
    "start_time": "2022-11-29T15:17:32.375Z"
   },
   {
    "duration": 11,
    "start_time": "2022-11-29T15:17:32.413Z"
   },
   {
    "duration": 384,
    "start_time": "2022-11-29T15:17:32.426Z"
   },
   {
    "duration": 16,
    "start_time": "2022-11-29T15:17:32.812Z"
   },
   {
    "duration": 260,
    "start_time": "2022-11-29T15:17:32.830Z"
   },
   {
    "duration": 26,
    "start_time": "2022-11-29T15:17:33.091Z"
   },
   {
    "duration": 263,
    "start_time": "2022-11-29T15:17:33.119Z"
   },
   {
    "duration": 29,
    "start_time": "2022-11-29T15:17:33.384Z"
   },
   {
    "duration": 233,
    "start_time": "2022-11-29T15:17:33.415Z"
   },
   {
    "duration": 15,
    "start_time": "2022-11-29T15:17:33.649Z"
   },
   {
    "duration": 250,
    "start_time": "2022-11-29T15:17:33.666Z"
   },
   {
    "duration": 16,
    "start_time": "2022-11-29T15:17:33.919Z"
   },
   {
    "duration": 17,
    "start_time": "2022-11-29T15:17:33.937Z"
   },
   {
    "duration": 15,
    "start_time": "2022-11-29T15:17:33.956Z"
   },
   {
    "duration": 46,
    "start_time": "2022-11-29T15:17:33.973Z"
   },
   {
    "duration": 15,
    "start_time": "2022-11-29T15:17:34.021Z"
   },
   {
    "duration": 17,
    "start_time": "2022-11-29T15:17:34.037Z"
   },
   {
    "duration": 9,
    "start_time": "2022-11-29T15:17:34.056Z"
   },
   {
    "duration": 6,
    "start_time": "2022-11-29T15:17:34.067Z"
   },
   {
    "duration": 12,
    "start_time": "2022-11-29T15:17:34.111Z"
   },
   {
    "duration": 9,
    "start_time": "2022-11-29T15:17:34.125Z"
   },
   {
    "duration": 4,
    "start_time": "2022-11-29T15:23:16.788Z"
   },
   {
    "duration": 77,
    "start_time": "2022-11-29T15:25:02.711Z"
   },
   {
    "duration": 16,
    "start_time": "2022-11-29T15:25:12.329Z"
   },
   {
    "duration": 10,
    "start_time": "2022-11-29T15:25:25.109Z"
   },
   {
    "duration": 5,
    "start_time": "2022-11-29T15:25:31.513Z"
   },
   {
    "duration": 71,
    "start_time": "2022-11-29T15:25:31.521Z"
   },
   {
    "duration": 16,
    "start_time": "2022-11-29T15:25:31.612Z"
   },
   {
    "duration": 24,
    "start_time": "2022-11-29T15:25:31.631Z"
   },
   {
    "duration": 19,
    "start_time": "2022-11-29T15:25:31.657Z"
   },
   {
    "duration": 51,
    "start_time": "2022-11-29T15:25:31.678Z"
   },
   {
    "duration": 14,
    "start_time": "2022-11-29T15:25:31.731Z"
   },
   {
    "duration": 7,
    "start_time": "2022-11-29T15:25:31.748Z"
   },
   {
    "duration": 527,
    "start_time": "2022-11-29T15:25:31.758Z"
   },
   {
    "duration": 5,
    "start_time": "2022-11-29T15:25:32.288Z"
   },
   {
    "duration": 20,
    "start_time": "2022-11-29T15:25:32.294Z"
   },
   {
    "duration": 4,
    "start_time": "2022-11-29T15:25:32.316Z"
   },
   {
    "duration": 11,
    "start_time": "2022-11-29T15:25:32.322Z"
   },
   {
    "duration": 9,
    "start_time": "2022-11-29T15:25:32.334Z"
   },
   {
    "duration": 0,
    "start_time": "2022-11-29T15:25:32.345Z"
   },
   {
    "duration": 0,
    "start_time": "2022-11-29T15:25:32.347Z"
   },
   {
    "duration": 0,
    "start_time": "2022-11-29T15:25:32.348Z"
   },
   {
    "duration": 0,
    "start_time": "2022-11-29T15:25:32.349Z"
   },
   {
    "duration": 0,
    "start_time": "2022-11-29T15:25:32.350Z"
   },
   {
    "duration": 0,
    "start_time": "2022-11-29T15:25:32.351Z"
   },
   {
    "duration": 0,
    "start_time": "2022-11-29T15:25:32.353Z"
   },
   {
    "duration": 0,
    "start_time": "2022-11-29T15:25:32.354Z"
   },
   {
    "duration": 0,
    "start_time": "2022-11-29T15:25:32.355Z"
   },
   {
    "duration": 0,
    "start_time": "2022-11-29T15:25:32.356Z"
   },
   {
    "duration": 0,
    "start_time": "2022-11-29T15:25:32.358Z"
   },
   {
    "duration": 0,
    "start_time": "2022-11-29T15:25:32.358Z"
   },
   {
    "duration": 0,
    "start_time": "2022-11-29T15:25:32.359Z"
   },
   {
    "duration": 0,
    "start_time": "2022-11-29T15:25:32.360Z"
   },
   {
    "duration": 0,
    "start_time": "2022-11-29T15:25:32.412Z"
   },
   {
    "duration": 0,
    "start_time": "2022-11-29T15:25:32.413Z"
   },
   {
    "duration": 0,
    "start_time": "2022-11-29T15:25:32.415Z"
   },
   {
    "duration": 0,
    "start_time": "2022-11-29T15:25:32.416Z"
   },
   {
    "duration": 0,
    "start_time": "2022-11-29T15:25:32.416Z"
   },
   {
    "duration": 0,
    "start_time": "2022-11-29T15:25:32.417Z"
   },
   {
    "duration": 0,
    "start_time": "2022-11-29T15:25:32.418Z"
   },
   {
    "duration": 0,
    "start_time": "2022-11-29T15:25:32.419Z"
   },
   {
    "duration": 0,
    "start_time": "2022-11-29T15:25:32.420Z"
   },
   {
    "duration": 0,
    "start_time": "2022-11-29T15:25:32.421Z"
   },
   {
    "duration": 0,
    "start_time": "2022-11-29T15:25:32.422Z"
   },
   {
    "duration": 0,
    "start_time": "2022-11-29T15:25:32.423Z"
   },
   {
    "duration": 0,
    "start_time": "2022-11-29T15:25:32.424Z"
   },
   {
    "duration": 0,
    "start_time": "2022-11-29T15:25:32.425Z"
   },
   {
    "duration": 0,
    "start_time": "2022-11-29T15:25:32.426Z"
   },
   {
    "duration": 0,
    "start_time": "2022-11-29T15:25:32.427Z"
   },
   {
    "duration": 0,
    "start_time": "2022-11-29T15:25:32.428Z"
   },
   {
    "duration": 0,
    "start_time": "2022-11-29T15:25:32.429Z"
   },
   {
    "duration": 0,
    "start_time": "2022-11-29T15:25:32.431Z"
   },
   {
    "duration": 0,
    "start_time": "2022-11-29T15:25:32.432Z"
   },
   {
    "duration": 0,
    "start_time": "2022-11-29T15:25:32.433Z"
   },
   {
    "duration": 0,
    "start_time": "2022-11-29T15:25:32.434Z"
   },
   {
    "duration": 0,
    "start_time": "2022-11-29T15:25:32.435Z"
   },
   {
    "duration": 0,
    "start_time": "2022-11-29T15:25:32.436Z"
   },
   {
    "duration": 0,
    "start_time": "2022-11-29T15:25:32.437Z"
   },
   {
    "duration": 0,
    "start_time": "2022-11-29T15:25:32.439Z"
   },
   {
    "duration": 1,
    "start_time": "2022-11-29T15:25:32.439Z"
   },
   {
    "duration": 0,
    "start_time": "2022-11-29T15:25:32.441Z"
   },
   {
    "duration": 0,
    "start_time": "2022-11-29T15:25:32.442Z"
   },
   {
    "duration": 0,
    "start_time": "2022-11-29T15:25:32.443Z"
   },
   {
    "duration": 0,
    "start_time": "2022-11-29T15:25:32.444Z"
   },
   {
    "duration": 0,
    "start_time": "2022-11-29T15:25:32.445Z"
   },
   {
    "duration": 0,
    "start_time": "2022-11-29T15:25:32.446Z"
   },
   {
    "duration": 0,
    "start_time": "2022-11-29T15:25:32.447Z"
   },
   {
    "duration": 11,
    "start_time": "2022-11-29T15:26:32.156Z"
   },
   {
    "duration": 4,
    "start_time": "2022-11-29T15:27:35.827Z"
   },
   {
    "duration": 82,
    "start_time": "2022-11-29T15:27:35.833Z"
   },
   {
    "duration": 15,
    "start_time": "2022-11-29T15:27:35.918Z"
   },
   {
    "duration": 23,
    "start_time": "2022-11-29T15:27:35.936Z"
   },
   {
    "duration": 10,
    "start_time": "2022-11-29T15:27:35.962Z"
   },
   {
    "duration": 57,
    "start_time": "2022-11-29T15:27:35.974Z"
   },
   {
    "duration": 13,
    "start_time": "2022-11-29T15:27:36.033Z"
   },
   {
    "duration": 16,
    "start_time": "2022-11-29T15:27:36.048Z"
   },
   {
    "duration": 640,
    "start_time": "2022-11-29T15:27:36.066Z"
   },
   {
    "duration": 9,
    "start_time": "2022-11-29T15:27:36.709Z"
   },
   {
    "duration": 44,
    "start_time": "2022-11-29T15:27:36.722Z"
   },
   {
    "duration": 16,
    "start_time": "2022-11-29T15:27:36.771Z"
   },
   {
    "duration": 11,
    "start_time": "2022-11-29T15:27:36.790Z"
   },
   {
    "duration": 12,
    "start_time": "2022-11-29T15:27:36.803Z"
   },
   {
    "duration": 23,
    "start_time": "2022-11-29T15:27:36.817Z"
   },
   {
    "duration": 5,
    "start_time": "2022-11-29T15:27:36.843Z"
   },
   {
    "duration": 7,
    "start_time": "2022-11-29T15:27:36.850Z"
   },
   {
    "duration": 10,
    "start_time": "2022-11-29T15:27:36.859Z"
   },
   {
    "duration": 46,
    "start_time": "2022-11-29T15:27:36.871Z"
   },
   {
    "duration": 16,
    "start_time": "2022-11-29T15:27:36.919Z"
   },
   {
    "duration": 11,
    "start_time": "2022-11-29T15:27:36.937Z"
   },
   {
    "duration": 19,
    "start_time": "2022-11-29T15:27:36.950Z"
   },
   {
    "duration": 41,
    "start_time": "2022-11-29T15:27:36.971Z"
   },
   {
    "duration": 6,
    "start_time": "2022-11-29T15:27:37.015Z"
   },
   {
    "duration": 14,
    "start_time": "2022-11-29T15:27:37.023Z"
   },
   {
    "duration": 209,
    "start_time": "2022-11-29T15:27:37.040Z"
   },
   {
    "duration": 169,
    "start_time": "2022-11-29T15:27:37.251Z"
   },
   {
    "duration": 269,
    "start_time": "2022-11-29T15:27:37.421Z"
   },
   {
    "duration": 174,
    "start_time": "2022-11-29T15:27:37.694Z"
   },
   {
    "duration": 27,
    "start_time": "2022-11-29T15:27:37.870Z"
   },
   {
    "duration": 9,
    "start_time": "2022-11-29T15:27:37.914Z"
   },
   {
    "duration": 218,
    "start_time": "2022-11-29T15:27:37.925Z"
   },
   {
    "duration": 2211,
    "start_time": "2022-11-29T15:27:38.145Z"
   },
   {
    "duration": 8,
    "start_time": "2022-11-29T15:27:40.358Z"
   },
   {
    "duration": 288,
    "start_time": "2022-11-29T15:27:40.368Z"
   },
   {
    "duration": 433,
    "start_time": "2022-11-29T15:27:40.658Z"
   },
   {
    "duration": 142,
    "start_time": "2022-11-29T15:27:41.092Z"
   },
   {
    "duration": 11,
    "start_time": "2022-11-29T15:27:41.235Z"
   },
   {
    "duration": 12,
    "start_time": "2022-11-29T15:27:41.247Z"
   },
   {
    "duration": 18,
    "start_time": "2022-11-29T15:27:41.261Z"
   },
   {
    "duration": 36,
    "start_time": "2022-11-29T15:27:41.281Z"
   },
   {
    "duration": 11,
    "start_time": "2022-11-29T15:27:41.320Z"
   },
   {
    "duration": 381,
    "start_time": "2022-11-29T15:27:41.333Z"
   },
   {
    "duration": 28,
    "start_time": "2022-11-29T15:27:41.716Z"
   },
   {
    "duration": 238,
    "start_time": "2022-11-29T15:27:41.745Z"
   },
   {
    "duration": 15,
    "start_time": "2022-11-29T15:27:41.985Z"
   },
   {
    "duration": 239,
    "start_time": "2022-11-29T15:27:42.013Z"
   },
   {
    "duration": 16,
    "start_time": "2022-11-29T15:27:42.254Z"
   },
   {
    "duration": 249,
    "start_time": "2022-11-29T15:27:42.271Z"
   },
   {
    "duration": 16,
    "start_time": "2022-11-29T15:27:42.522Z"
   },
   {
    "duration": 246,
    "start_time": "2022-11-29T15:27:42.540Z"
   },
   {
    "duration": 24,
    "start_time": "2022-11-29T15:27:42.788Z"
   },
   {
    "duration": 17,
    "start_time": "2022-11-29T15:27:42.814Z"
   },
   {
    "duration": 20,
    "start_time": "2022-11-29T15:27:42.833Z"
   },
   {
    "duration": 16,
    "start_time": "2022-11-29T15:27:42.855Z"
   },
   {
    "duration": 42,
    "start_time": "2022-11-29T15:27:42.873Z"
   },
   {
    "duration": 18,
    "start_time": "2022-11-29T15:27:42.917Z"
   },
   {
    "duration": 11,
    "start_time": "2022-11-29T15:27:42.937Z"
   },
   {
    "duration": 6,
    "start_time": "2022-11-29T15:27:42.950Z"
   },
   {
    "duration": 12,
    "start_time": "2022-11-29T15:27:42.958Z"
   },
   {
    "duration": 41,
    "start_time": "2022-11-29T15:27:42.972Z"
   },
   {
    "duration": 28,
    "start_time": "2022-11-29T15:36:27.233Z"
   },
   {
    "duration": 4,
    "start_time": "2022-11-29T15:36:52.701Z"
   },
   {
    "duration": 73,
    "start_time": "2022-11-29T15:36:52.707Z"
   },
   {
    "duration": 30,
    "start_time": "2022-11-29T15:36:52.782Z"
   },
   {
    "duration": 24,
    "start_time": "2022-11-29T15:36:52.815Z"
   },
   {
    "duration": 11,
    "start_time": "2022-11-29T15:36:52.841Z"
   },
   {
    "duration": 30,
    "start_time": "2022-11-29T15:36:52.854Z"
   },
   {
    "duration": 33,
    "start_time": "2022-11-29T15:36:52.886Z"
   },
   {
    "duration": 13,
    "start_time": "2022-11-29T15:36:52.921Z"
   },
   {
    "duration": 380,
    "start_time": "2022-11-29T15:36:52.936Z"
   },
   {
    "duration": 5,
    "start_time": "2022-11-29T15:36:53.318Z"
   },
   {
    "duration": 15,
    "start_time": "2022-11-29T15:36:53.325Z"
   },
   {
    "duration": 11,
    "start_time": "2022-11-29T15:36:53.342Z"
   },
   {
    "duration": 23,
    "start_time": "2022-11-29T15:36:53.355Z"
   },
   {
    "duration": 8,
    "start_time": "2022-11-29T15:36:53.380Z"
   },
   {
    "duration": 26,
    "start_time": "2022-11-29T15:36:53.390Z"
   },
   {
    "duration": 13,
    "start_time": "2022-11-29T15:36:53.418Z"
   },
   {
    "duration": 8,
    "start_time": "2022-11-29T15:36:53.433Z"
   },
   {
    "duration": 16,
    "start_time": "2022-11-29T15:36:53.443Z"
   },
   {
    "duration": 14,
    "start_time": "2022-11-29T15:36:53.461Z"
   },
   {
    "duration": 17,
    "start_time": "2022-11-29T15:36:53.477Z"
   },
   {
    "duration": 19,
    "start_time": "2022-11-29T15:36:53.496Z"
   },
   {
    "duration": 13,
    "start_time": "2022-11-29T15:36:53.516Z"
   },
   {
    "duration": 8,
    "start_time": "2022-11-29T15:36:53.531Z"
   },
   {
    "duration": 4,
    "start_time": "2022-11-29T15:36:53.542Z"
   },
   {
    "duration": 10,
    "start_time": "2022-11-29T15:36:53.548Z"
   },
   {
    "duration": 211,
    "start_time": "2022-11-29T15:36:53.560Z"
   },
   {
    "duration": 171,
    "start_time": "2022-11-29T15:36:53.773Z"
   },
   {
    "duration": 254,
    "start_time": "2022-11-29T15:36:53.945Z"
   },
   {
    "duration": 167,
    "start_time": "2022-11-29T15:36:54.201Z"
   },
   {
    "duration": 16,
    "start_time": "2022-11-29T15:36:54.370Z"
   },
   {
    "duration": 11,
    "start_time": "2022-11-29T15:36:54.387Z"
   },
   {
    "duration": 197,
    "start_time": "2022-11-29T15:36:54.413Z"
   },
   {
    "duration": 1977,
    "start_time": "2022-11-29T15:36:54.612Z"
   },
   {
    "duration": 22,
    "start_time": "2022-11-29T15:36:56.591Z"
   },
   {
    "duration": 306,
    "start_time": "2022-11-29T15:36:56.616Z"
   },
   {
    "duration": 427,
    "start_time": "2022-11-29T15:36:56.925Z"
   },
   {
    "duration": 133,
    "start_time": "2022-11-29T15:36:57.354Z"
   },
   {
    "duration": 11,
    "start_time": "2022-11-29T15:36:57.489Z"
   },
   {
    "duration": 34,
    "start_time": "2022-11-29T15:36:57.501Z"
   },
   {
    "duration": 20,
    "start_time": "2022-11-29T15:36:57.537Z"
   },
   {
    "duration": 22,
    "start_time": "2022-11-29T15:36:57.559Z"
   },
   {
    "duration": 36,
    "start_time": "2022-11-29T15:36:57.583Z"
   },
   {
    "duration": 371,
    "start_time": "2022-11-29T15:36:57.622Z"
   },
   {
    "duration": 26,
    "start_time": "2022-11-29T15:36:57.995Z"
   },
   {
    "duration": 232,
    "start_time": "2022-11-29T15:36:58.022Z"
   },
   {
    "duration": 14,
    "start_time": "2022-11-29T15:36:58.256Z"
   },
   {
    "duration": 237,
    "start_time": "2022-11-29T15:36:58.271Z"
   },
   {
    "duration": 15,
    "start_time": "2022-11-29T15:36:58.510Z"
   },
   {
    "duration": 223,
    "start_time": "2022-11-29T15:36:58.526Z"
   },
   {
    "duration": 15,
    "start_time": "2022-11-29T15:36:58.750Z"
   },
   {
    "duration": 257,
    "start_time": "2022-11-29T15:36:58.767Z"
   },
   {
    "duration": 16,
    "start_time": "2022-11-29T15:36:59.026Z"
   },
   {
    "duration": 15,
    "start_time": "2022-11-29T15:36:59.044Z"
   },
   {
    "duration": 15,
    "start_time": "2022-11-29T15:36:59.061Z"
   },
   {
    "duration": 46,
    "start_time": "2022-11-29T15:36:59.078Z"
   },
   {
    "duration": 16,
    "start_time": "2022-11-29T15:36:59.125Z"
   },
   {
    "duration": 17,
    "start_time": "2022-11-29T15:36:59.143Z"
   },
   {
    "duration": 10,
    "start_time": "2022-11-29T15:36:59.163Z"
   },
   {
    "duration": 38,
    "start_time": "2022-11-29T15:36:59.175Z"
   },
   {
    "duration": 10,
    "start_time": "2022-11-29T15:36:59.215Z"
   },
   {
    "duration": 5,
    "start_time": "2022-11-29T15:36:59.227Z"
   },
   {
    "duration": 11,
    "start_time": "2022-11-29T15:42:24.311Z"
   },
   {
    "duration": 16,
    "start_time": "2022-11-29T15:43:09.418Z"
   },
   {
    "duration": 13,
    "start_time": "2022-11-29T15:44:35.873Z"
   },
   {
    "duration": 8,
    "start_time": "2022-11-29T15:46:46.339Z"
   },
   {
    "duration": 3,
    "start_time": "2022-11-29T15:49:21.276Z"
   },
   {
    "duration": 64,
    "start_time": "2022-11-29T15:49:23.578Z"
   },
   {
    "duration": 15,
    "start_time": "2022-11-29T15:49:28.721Z"
   },
   {
    "duration": 22,
    "start_time": "2022-11-29T15:49:33.543Z"
   },
   {
    "duration": 9,
    "start_time": "2022-11-29T15:49:38.390Z"
   },
   {
    "duration": 11,
    "start_time": "2022-11-29T15:49:44.555Z"
   },
   {
    "duration": 10,
    "start_time": "2022-11-29T15:50:23.454Z"
   },
   {
    "duration": 11,
    "start_time": "2022-11-29T15:50:40.435Z"
   },
   {
    "duration": 11,
    "start_time": "2022-11-29T15:51:14.850Z"
   },
   {
    "duration": 18,
    "start_time": "2022-11-29T16:04:14.359Z"
   },
   {
    "duration": 12,
    "start_time": "2022-11-29T16:09:20.839Z"
   },
   {
    "duration": 16,
    "start_time": "2022-11-29T16:09:44.204Z"
   },
   {
    "duration": 191,
    "start_time": "2022-11-29T16:17:14.812Z"
   },
   {
    "duration": 159,
    "start_time": "2022-11-29T16:17:19.835Z"
   },
   {
    "duration": 196,
    "start_time": "2022-11-29T16:19:09.710Z"
   },
   {
    "duration": 157,
    "start_time": "2022-11-29T16:21:08.909Z"
   },
   {
    "duration": 266,
    "start_time": "2022-11-29T16:22:28.873Z"
   },
   {
    "duration": 158,
    "start_time": "2022-11-29T16:23:07.680Z"
   },
   {
    "duration": 168,
    "start_time": "2022-11-29T16:23:34.711Z"
   },
   {
    "duration": 176,
    "start_time": "2022-11-29T16:24:28.013Z"
   },
   {
    "duration": 185,
    "start_time": "2022-11-29T16:26:46.094Z"
   },
   {
    "duration": 171,
    "start_time": "2022-11-29T16:27:24.671Z"
   },
   {
    "duration": 3,
    "start_time": "2022-11-29T16:31:44.522Z"
   },
   {
    "duration": 71,
    "start_time": "2022-11-29T16:31:44.528Z"
   },
   {
    "duration": 19,
    "start_time": "2022-11-29T16:31:44.601Z"
   },
   {
    "duration": 22,
    "start_time": "2022-11-29T16:31:44.622Z"
   },
   {
    "duration": 17,
    "start_time": "2022-11-29T16:31:44.646Z"
   },
   {
    "duration": 11,
    "start_time": "2022-11-29T16:31:44.665Z"
   },
   {
    "duration": 36,
    "start_time": "2022-11-29T16:31:44.678Z"
   },
   {
    "duration": 15,
    "start_time": "2022-11-29T16:31:44.716Z"
   },
   {
    "duration": 11,
    "start_time": "2022-11-29T16:31:44.733Z"
   },
   {
    "duration": 16,
    "start_time": "2022-11-29T16:31:44.747Z"
   },
   {
    "duration": 18,
    "start_time": "2022-11-29T16:31:44.765Z"
   },
   {
    "duration": 7,
    "start_time": "2022-11-29T16:31:44.785Z"
   },
   {
    "duration": 13,
    "start_time": "2022-11-29T16:31:44.793Z"
   },
   {
    "duration": 11,
    "start_time": "2022-11-29T16:31:44.812Z"
   },
   {
    "duration": 37,
    "start_time": "2022-11-29T16:31:44.825Z"
   },
   {
    "duration": 14,
    "start_time": "2022-11-29T16:31:44.864Z"
   },
   {
    "duration": 24,
    "start_time": "2022-11-29T16:31:44.880Z"
   },
   {
    "duration": 22,
    "start_time": "2022-11-29T16:31:44.906Z"
   },
   {
    "duration": 21,
    "start_time": "2022-11-29T16:31:44.930Z"
   },
   {
    "duration": 22,
    "start_time": "2022-11-29T16:31:44.953Z"
   },
   {
    "duration": 8,
    "start_time": "2022-11-29T16:31:44.977Z"
   },
   {
    "duration": 37,
    "start_time": "2022-11-29T16:31:44.999Z"
   },
   {
    "duration": 13,
    "start_time": "2022-11-29T16:31:45.038Z"
   },
   {
    "duration": 21,
    "start_time": "2022-11-29T16:31:45.052Z"
   },
   {
    "duration": 15,
    "start_time": "2022-11-29T16:31:45.075Z"
   },
   {
    "duration": 195,
    "start_time": "2022-11-29T16:31:45.092Z"
   },
   {
    "duration": 172,
    "start_time": "2022-11-29T16:31:45.288Z"
   },
   {
    "duration": 183,
    "start_time": "2022-11-29T16:31:45.464Z"
   },
   {
    "duration": 170,
    "start_time": "2022-11-29T16:31:45.649Z"
   },
   {
    "duration": 16,
    "start_time": "2022-11-29T16:31:45.820Z"
   },
   {
    "duration": 35,
    "start_time": "2022-11-29T16:31:45.837Z"
   },
   {
    "duration": 204,
    "start_time": "2022-11-29T16:31:45.873Z"
   },
   {
    "duration": 2098,
    "start_time": "2022-11-29T16:31:46.080Z"
   },
   {
    "duration": 8,
    "start_time": "2022-11-29T16:31:48.180Z"
   },
   {
    "duration": 258,
    "start_time": "2022-11-29T16:31:48.190Z"
   },
   {
    "duration": 233,
    "start_time": "2022-11-29T16:31:48.449Z"
   },
   {
    "duration": 137,
    "start_time": "2022-11-29T16:31:48.684Z"
   },
   {
    "duration": 10,
    "start_time": "2022-11-29T16:31:48.823Z"
   },
   {
    "duration": 17,
    "start_time": "2022-11-29T16:31:48.834Z"
   },
   {
    "duration": 15,
    "start_time": "2022-11-29T16:31:48.853Z"
   },
   {
    "duration": 30,
    "start_time": "2022-11-29T16:31:48.870Z"
   },
   {
    "duration": 26,
    "start_time": "2022-11-29T16:31:48.902Z"
   },
   {
    "duration": 417,
    "start_time": "2022-11-29T16:31:48.930Z"
   },
   {
    "duration": 21,
    "start_time": "2022-11-29T16:31:49.349Z"
   },
   {
    "duration": 320,
    "start_time": "2022-11-29T16:31:49.372Z"
   },
   {
    "duration": 21,
    "start_time": "2022-11-29T16:31:49.694Z"
   },
   {
    "duration": 204,
    "start_time": "2022-11-29T16:31:49.717Z"
   },
   {
    "duration": 14,
    "start_time": "2022-11-29T16:31:49.923Z"
   },
   {
    "duration": 195,
    "start_time": "2022-11-29T16:31:49.939Z"
   },
   {
    "duration": 15,
    "start_time": "2022-11-29T16:31:50.136Z"
   },
   {
    "duration": 242,
    "start_time": "2022-11-29T16:31:50.152Z"
   },
   {
    "duration": 21,
    "start_time": "2022-11-29T16:31:50.396Z"
   },
   {
    "duration": 40,
    "start_time": "2022-11-29T16:31:50.419Z"
   },
   {
    "duration": 51,
    "start_time": "2022-11-29T16:31:50.461Z"
   },
   {
    "duration": 96,
    "start_time": "2022-11-29T16:31:50.514Z"
   },
   {
    "duration": 33,
    "start_time": "2022-11-29T16:31:50.612Z"
   },
   {
    "duration": 52,
    "start_time": "2022-11-29T16:31:50.647Z"
   },
   {
    "duration": 45,
    "start_time": "2022-11-29T16:31:50.701Z"
   },
   {
    "duration": 18,
    "start_time": "2022-11-29T16:31:50.748Z"
   },
   {
    "duration": 26,
    "start_time": "2022-11-29T16:31:50.768Z"
   },
   {
    "duration": 19,
    "start_time": "2022-11-29T16:31:50.796Z"
   },
   {
    "duration": 367,
    "start_time": "2022-11-29T16:33:54.297Z"
   },
   {
    "duration": 329,
    "start_time": "2022-11-29T16:35:26.916Z"
   },
   {
    "duration": 327,
    "start_time": "2022-11-29T16:35:42.051Z"
   },
   {
    "duration": 317,
    "start_time": "2022-11-29T16:36:12.200Z"
   },
   {
    "duration": 284,
    "start_time": "2022-11-29T16:36:22.409Z"
   },
   {
    "duration": 375,
    "start_time": "2022-11-29T16:36:27.908Z"
   },
   {
    "duration": 273,
    "start_time": "2022-11-29T16:38:10.086Z"
   },
   {
    "duration": 414,
    "start_time": "2022-11-29T16:38:22.139Z"
   },
   {
    "duration": 398,
    "start_time": "2022-11-29T16:39:00.511Z"
   },
   {
    "duration": 309,
    "start_time": "2022-11-29T16:39:41.845Z"
   },
   {
    "duration": 281,
    "start_time": "2022-11-29T16:39:48.196Z"
   },
   {
    "duration": 283,
    "start_time": "2022-11-29T16:39:53.074Z"
   },
   {
    "duration": 301,
    "start_time": "2022-11-29T16:39:59.432Z"
   },
   {
    "duration": 288,
    "start_time": "2022-11-29T16:40:03.728Z"
   },
   {
    "duration": 309,
    "start_time": "2022-11-29T16:40:07.495Z"
   },
   {
    "duration": 300,
    "start_time": "2022-11-29T16:40:11.713Z"
   },
   {
    "duration": 284,
    "start_time": "2022-11-29T16:40:17.422Z"
   },
   {
    "duration": 278,
    "start_time": "2022-11-29T16:40:21.818Z"
   },
   {
    "duration": 394,
    "start_time": "2022-11-29T16:46:04.189Z"
   },
   {
    "duration": 246,
    "start_time": "2022-11-29T16:47:02.653Z"
   },
   {
    "duration": 317,
    "start_time": "2022-11-29T16:49:03.440Z"
   },
   {
    "duration": 251,
    "start_time": "2022-11-29T17:02:58.042Z"
   },
   {
    "duration": 314,
    "start_time": "2022-11-29T17:03:21.409Z"
   },
   {
    "duration": 125,
    "start_time": "2022-11-29T17:12:05.835Z"
   },
   {
    "duration": 137,
    "start_time": "2022-11-29T17:13:38.916Z"
   },
   {
    "duration": 11,
    "start_time": "2022-11-29T17:14:02.630Z"
   },
   {
    "duration": 10,
    "start_time": "2022-11-29T17:25:01.331Z"
   },
   {
    "duration": 11,
    "start_time": "2022-11-29T17:25:40.489Z"
   },
   {
    "duration": 10,
    "start_time": "2022-11-29T17:25:55.602Z"
   },
   {
    "duration": 13,
    "start_time": "2022-11-29T17:25:57.736Z"
   },
   {
    "duration": 9,
    "start_time": "2022-11-29T17:27:01.179Z"
   },
   {
    "duration": 10,
    "start_time": "2022-11-29T17:27:07.222Z"
   },
   {
    "duration": 10,
    "start_time": "2022-11-29T17:27:09.501Z"
   },
   {
    "duration": 16,
    "start_time": "2022-11-29T17:40:37.315Z"
   },
   {
    "duration": 24,
    "start_time": "2022-11-29T17:43:46.797Z"
   },
   {
    "duration": 292,
    "start_time": "2022-11-29T17:45:56.734Z"
   },
   {
    "duration": 3,
    "start_time": "2022-11-29T17:46:54.389Z"
   },
   {
    "duration": 15,
    "start_time": "2022-11-29T17:47:03.026Z"
   },
   {
    "duration": 180,
    "start_time": "2022-11-29T17:47:29.633Z"
   },
   {
    "duration": 14,
    "start_time": "2022-11-29T17:49:50.616Z"
   },
   {
    "duration": 174,
    "start_time": "2022-11-29T17:50:25.232Z"
   },
   {
    "duration": 19,
    "start_time": "2022-11-29T17:51:06.840Z"
   },
   {
    "duration": 177,
    "start_time": "2022-11-29T17:51:38.232Z"
   },
   {
    "duration": 14,
    "start_time": "2022-11-29T17:52:04.079Z"
   },
   {
    "duration": 16,
    "start_time": "2022-11-29T17:52:41.639Z"
   },
   {
    "duration": 16,
    "start_time": "2022-11-29T17:53:04.155Z"
   },
   {
    "duration": 16,
    "start_time": "2022-11-29T17:54:13.744Z"
   },
   {
    "duration": 16,
    "start_time": "2022-11-29T17:54:44.455Z"
   },
   {
    "duration": 5,
    "start_time": "2022-11-29T18:06:06.030Z"
   },
   {
    "duration": 6,
    "start_time": "2022-11-29T18:08:17.111Z"
   },
   {
    "duration": 10,
    "start_time": "2022-11-29T18:48:13.572Z"
   },
   {
    "duration": 5,
    "start_time": "2022-11-29T19:05:39.583Z"
   },
   {
    "duration": 8,
    "start_time": "2022-11-29T19:07:25.345Z"
   },
   {
    "duration": 182,
    "start_time": "2022-11-29T19:10:59.639Z"
   },
   {
    "duration": 4,
    "start_time": "2022-11-29T19:13:50.533Z"
   },
   {
    "duration": 81,
    "start_time": "2022-11-29T19:13:50.539Z"
   },
   {
    "duration": 16,
    "start_time": "2022-11-29T19:13:50.622Z"
   },
   {
    "duration": 23,
    "start_time": "2022-11-29T19:13:50.639Z"
   },
   {
    "duration": 16,
    "start_time": "2022-11-29T19:13:50.664Z"
   },
   {
    "duration": 11,
    "start_time": "2022-11-29T19:13:50.713Z"
   },
   {
    "duration": 11,
    "start_time": "2022-11-29T19:13:50.726Z"
   },
   {
    "duration": 15,
    "start_time": "2022-11-29T19:13:50.739Z"
   },
   {
    "duration": 10,
    "start_time": "2022-11-29T19:13:50.756Z"
   },
   {
    "duration": 44,
    "start_time": "2022-11-29T19:13:50.768Z"
   },
   {
    "duration": 8,
    "start_time": "2022-11-29T19:13:50.814Z"
   },
   {
    "duration": 5,
    "start_time": "2022-11-29T19:13:50.824Z"
   },
   {
    "duration": 5,
    "start_time": "2022-11-29T19:13:50.832Z"
   },
   {
    "duration": 6,
    "start_time": "2022-11-29T19:13:50.839Z"
   },
   {
    "duration": 26,
    "start_time": "2022-11-29T19:13:50.847Z"
   },
   {
    "duration": 4,
    "start_time": "2022-11-29T19:13:50.875Z"
   },
   {
    "duration": 33,
    "start_time": "2022-11-29T19:13:50.881Z"
   },
   {
    "duration": 8,
    "start_time": "2022-11-29T19:13:50.916Z"
   },
   {
    "duration": 14,
    "start_time": "2022-11-29T19:13:50.925Z"
   },
   {
    "duration": 14,
    "start_time": "2022-11-29T19:13:50.940Z"
   },
   {
    "duration": 7,
    "start_time": "2022-11-29T19:13:50.956Z"
   },
   {
    "duration": 13,
    "start_time": "2022-11-29T19:13:50.965Z"
   },
   {
    "duration": 8,
    "start_time": "2022-11-29T19:13:51.013Z"
   },
   {
    "duration": 6,
    "start_time": "2022-11-29T19:13:51.023Z"
   },
   {
    "duration": 11,
    "start_time": "2022-11-29T19:13:51.031Z"
   },
   {
    "duration": 214,
    "start_time": "2022-11-29T19:13:51.044Z"
   },
   {
    "duration": 174,
    "start_time": "2022-11-29T19:13:51.259Z"
   },
   {
    "duration": 179,
    "start_time": "2022-11-29T19:13:51.435Z"
   },
   {
    "duration": 166,
    "start_time": "2022-11-29T19:13:51.616Z"
   },
   {
    "duration": 16,
    "start_time": "2022-11-29T19:13:51.784Z"
   },
   {
    "duration": 13,
    "start_time": "2022-11-29T19:13:51.802Z"
   },
   {
    "duration": 195,
    "start_time": "2022-11-29T19:13:51.817Z"
   },
   {
    "duration": 2032,
    "start_time": "2022-11-29T19:13:52.014Z"
   },
   {
    "duration": 6,
    "start_time": "2022-11-29T19:13:54.048Z"
   },
   {
    "duration": 263,
    "start_time": "2022-11-29T19:13:54.056Z"
   },
   {
    "duration": 257,
    "start_time": "2022-11-29T19:13:54.321Z"
   },
   {
    "duration": 337,
    "start_time": "2022-11-29T19:13:54.582Z"
   },
   {
    "duration": 139,
    "start_time": "2022-11-29T19:13:54.921Z"
   },
   {
    "duration": 11,
    "start_time": "2022-11-29T19:13:55.062Z"
   },
   {
    "duration": 15,
    "start_time": "2022-11-29T19:13:55.075Z"
   },
   {
    "duration": 24,
    "start_time": "2022-11-29T19:13:55.092Z"
   },
   {
    "duration": 13,
    "start_time": "2022-11-29T19:13:55.118Z"
   },
   {
    "duration": 13,
    "start_time": "2022-11-29T19:13:55.133Z"
   },
   {
    "duration": 394,
    "start_time": "2022-11-29T19:13:55.148Z"
   },
   {
    "duration": 15,
    "start_time": "2022-11-29T19:13:55.545Z"
   },
   {
    "duration": 195,
    "start_time": "2022-11-29T19:13:55.562Z"
   },
   {
    "duration": 14,
    "start_time": "2022-11-29T19:13:55.760Z"
   },
   {
    "duration": 207,
    "start_time": "2022-11-29T19:13:55.776Z"
   },
   {
    "duration": 15,
    "start_time": "2022-11-29T19:13:55.985Z"
   },
   {
    "duration": 189,
    "start_time": "2022-11-29T19:13:56.012Z"
   },
   {
    "duration": 17,
    "start_time": "2022-11-29T19:13:56.202Z"
   },
   {
    "duration": 228,
    "start_time": "2022-11-29T19:13:56.221Z"
   },
   {
    "duration": 19,
    "start_time": "2022-11-29T19:13:56.451Z"
   },
   {
    "duration": 19,
    "start_time": "2022-11-29T19:13:56.472Z"
   },
   {
    "duration": 20,
    "start_time": "2022-11-29T19:13:56.511Z"
   },
   {
    "duration": 18,
    "start_time": "2022-11-29T19:13:56.533Z"
   },
   {
    "duration": 19,
    "start_time": "2022-11-29T19:13:56.553Z"
   },
   {
    "duration": 52,
    "start_time": "2022-11-29T19:13:56.574Z"
   },
   {
    "duration": 10,
    "start_time": "2022-11-29T19:13:56.628Z"
   },
   {
    "duration": 9,
    "start_time": "2022-11-29T19:13:56.640Z"
   },
   {
    "duration": 9,
    "start_time": "2022-11-29T19:13:56.651Z"
   },
   {
    "duration": 7,
    "start_time": "2022-11-29T19:13:56.662Z"
   }
  ],
  "kernelspec": {
   "display_name": "Python 3 (ipykernel)",
   "language": "python",
   "name": "python3"
  },
  "language_info": {
   "codemirror_mode": {
    "name": "ipython",
    "version": 3
   },
   "file_extension": ".py",
   "mimetype": "text/x-python",
   "name": "python",
   "nbconvert_exporter": "python",
   "pygments_lexer": "ipython3",
   "version": "3.9.5"
  },
  "toc": {
   "base_numbering": 1,
   "nav_menu": {},
   "number_sections": true,
   "sideBar": true,
   "skip_h1_title": true,
   "title_cell": "Table of Contents",
   "title_sidebar": "Contents",
   "toc_cell": false,
   "toc_position": {},
   "toc_section_display": true,
   "toc_window_display": true
  }
 },
 "nbformat": 4,
 "nbformat_minor": 2
}
